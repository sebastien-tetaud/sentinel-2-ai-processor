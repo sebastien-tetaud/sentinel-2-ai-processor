{
 "cells": [
  {
   "cell_type": "markdown",
   "id": "b0a4313e",
   "metadata": {},
   "source": [
    "# Product Preprocessing strategy"
   ]
  },
  {
   "cell_type": "markdown",
   "id": "649e39aa",
   "metadata": {},
   "source": [
    "## Downscaling Methodology\n",
    "\n",
    "Since the Copernicus Data Space Ecosystem (CDSE) does not directly provide TCI products at 60m resolution, we implemented a systematic downscaling workflow:\n",
    "\n",
    "1. We acquired both L1C (top-of-atmosphere) and L2A (bottom-of-atmosphere) TCI products at their native 10m resolution\n",
    "2. We applied a bicubic interpolation algorithm for downscaling, which preserves edge and gradient information better than simpler resampling methods\n",
    "3. This process was applied consistently to both L1C and L2A imagery to maintain paired relationships for the deep learning model"
   ]
  },
  {
   "cell_type": "code",
   "execution_count": null,
   "id": "d2c9223e",
   "metadata": {},
   "outputs": [],
   "source": [
    "import sys\n",
    "import os\n",
    "\n",
    "from dotenv import load_dotenv\n",
    "\n",
    "import os\n",
    "import io\n",
    "\n",
    "from dotenv import load_dotenv\n",
    "notebook_dir = os.path.abspath('')\n",
    "project_root = os.path.dirname(notebook_dir)\n",
    "sys.path.append(project_root)\n",
    "\n",
    "# Now import the module\n",
    "from src.auth.auth import S3Connector\n",
    "from src.utils.stac_client import get_product_content\n",
    "\n",
    "load_dotenv()\n",
    "ACCESS_KEY_ID = os.environ.get(\"ACCESS_KEY_ID\")\n",
    "SECRET_ACCESS_KEY = os.environ.get(\"SECRET_ACCESS_KEY\")\n",
    "ENDPOINT_URL = 'https://eodata.dataspace.copernicus.eu'\n",
    "ENDPOINT_STAC = \"https://stac.dataspace.copernicus.eu/v1/\"\n",
    "DATASET_VERSION = \"V2\"\n",
    "BUKETNAME = \"eodata\"\n",
    "BANDS = ['TCI']"
   ]
  },
  {
   "cell_type": "code",
   "execution_count": null,
   "id": "3285d522",
   "metadata": {},
   "outputs": [],
   "source": [
    "connector = S3Connector(\n",
    "    endpoint_url=ENDPOINT_URL,\n",
    "    access_key_id=ACCESS_KEY_ID,\n",
    "    secret_access_key=SECRET_ACCESS_KEY,\n",
    "    region_name='default'\n",
    ")\n",
    "# Get S3 client and resource from the connector instance\n",
    "s3 = connector.get_s3_resource()\n",
    "s3_client = connector.get_s3_client()\n",
    "buckets = connector.list_buckets()\n",
    "bucket = s3.Bucket(BUKETNAME)"
   ]
  },
  {
   "cell_type": "code",
   "execution_count": null,
   "id": "1e5c9231",
   "metadata": {},
   "outputs": [],
   "source": [
    "l1c_url_10m = \"/Sentinel-2/MSI/L1C/2025/01/01/S2A_MSIL1C_20250101T104441_N0511_R008_T31TFM_20250101T142131.SAFE/GRANULE/L1C_T31TFM_A049769_20250101T104604/IMG_DATA/T31TFM_20250101T104441_TCI.jp2\"\n",
    "l2a_url_10m = \"/Sentinel-2/MSI/L2A/2025/01/01/S2A_MSIL2A_20250101T104441_N0511_R008_T31TFM_20250101T163700.SAFE/GRANULE/L2A_T31TFM_A049769_20250101T104604/IMG_DATA/R10m/T31TFM_20250101T104441_TCI_10m.jp2\"\n",
    "l2a_url_60m = \"/Sentinel-2/MSI/L2A/2025/01/01/S2A_MSIL2A_20250101T104441_N0511_R008_T31TFM_20250101T163700.SAFE/GRANULE/L2A_T31TFM_A049769_20250101T104604/IMG_DATA/R60m/T31TFM_20250101T104441_TCI_60m.jp2\""
   ]
  },
  {
   "cell_type": "code",
   "execution_count": null,
   "id": "80c590fd",
   "metadata": {},
   "outputs": [],
   "source": [
    "import cv2\n",
    "import numpy as np\n",
    "from PIL import Image"
   ]
  },
  {
   "cell_type": "code",
   "execution_count": null,
   "id": "7283a7f9",
   "metadata": {},
   "outputs": [],
   "source": [
    "product_l1c_10m = get_product_content(s3_client=s3_client, bucket_name=BUKETNAME,\n",
    "                                     object_url=l1c_url_10m)\n",
    "\n",
    "image_l1c_10m = Image.open(io.BytesIO(product_l1c_10m))\n",
    "\n",
    "array_l1c_10m = np.array(image_l1c_10m)\n",
    "\n",
    "resized_array = cv2.resize(array_l1c_10m, (1830, 1830), interpolation=cv2.INTER_CUBIC)\n",
    "\n",
    "resized_image = Image.fromarray(resized_array)\n",
    "resized_image.save(\"bresized_image_l1c_10m.jpeg\", format='JPEG')\n"
   ]
  },
  {
   "cell_type": "code",
   "execution_count": null,
   "id": "380a5aaa",
   "metadata": {},
   "outputs": [],
   "source": [
    "def get_product(s3_client, bucket_name, object_url, output_path,\n",
    "                           resize=False, target_size=None, interpolation=cv2.INTER_CUBIC,\n",
    "                           format='JPEG'):\n",
    "    \"\"\"\n",
    "    Retrieve a satellite image from S3, optionally resize it, and save it.\n",
    "\n",
    "    Parameters:\n",
    "    -----------\n",
    "    s3_client : boto3.client\n",
    "        Initialized S3 client\n",
    "    bucket_name : str\n",
    "        S3 bucket name\n",
    "    object_url : str\n",
    "        S3 object key/URL for the image\n",
    "    output_path : str\n",
    "        Path where the image should be saved\n",
    "    resize : bool\n",
    "        Whether to resize the image (default: False)\n",
    "    target_size : tuple or None\n",
    "        Target size as (width, height). Required if resize=True.\n",
    "    interpolation : int\n",
    "        OpenCV interpolation method (default: cv2.INTER_CUBIC)\n",
    "    format : str\n",
    "        Output image format (default: 'JPEG')\n",
    "\n",
    "    Returns:\n",
    "    --------\n",
    "    str : Path to the saved image\n",
    "    \"\"\"\n",
    "    # Get the image content from S3\n",
    "    product_content = get_product_content(s3_client=s3_client,\n",
    "                                          bucket_name=bucket_name,\n",
    "                                          object_url=object_url)\n",
    "\n",
    "    # Open as PIL Image\n",
    "    image = Image.open(io.BytesIO(product_content))\n",
    "\n",
    "    # Only resize if requested\n",
    "    if resize:\n",
    "        if target_size is None:\n",
    "            raise ValueError(\"target_size must be specified when resize=True\")\n",
    "\n",
    "        # Convert to numpy array\n",
    "        image_array = np.array(image)\n",
    "\n",
    "        # Resize using OpenCV\n",
    "        resized_array = cv2.resize(image_array, target_size, interpolation=interpolation)\n",
    "\n",
    "        # Convert back to PIL Image\n",
    "        image = Image.fromarray(resized_array)\n",
    "\n",
    "    # Save the image (resized or original) to the specified path\n",
    "    image.save(output_path, format=format)\n",
    "\n",
    "    return output_path"
   ]
  },
  {
   "cell_type": "code",
   "execution_count": null,
   "id": "64eb895a",
   "metadata": {},
   "outputs": [],
   "source": [
    "resized_path = get_product(\n",
    "    s3_client=s3_client,\n",
    "    bucket_name=BUKETNAME,\n",
    "    object_url=l1c_url_10m,\n",
    "    output_path=\"fresized_image_l1c_10m.jpeg\",\n",
    "    resize=True,  # Enable resizing\n",
    "    target_size=(1830, 1830)  # width, height\n",
    ")"
   ]
  },
  {
   "cell_type": "code",
   "execution_count": null,
   "id": "b2d13d09",
   "metadata": {},
   "outputs": [],
   "source": [
    "image_l1c_10m = Image.open(resized_path)"
   ]
  }
 ],
 "metadata": {
  "kernelspec": {
   "display_name": "ai_processor",
   "language": "python",
   "name": "python3"
  },
  "language_info": {
   "codemirror_mode": {
    "name": "ipython",
    "version": 3
   },
   "file_extension": ".py",
   "mimetype": "text/x-python",
   "name": "python",
   "nbconvert_exporter": "python",
   "pygments_lexer": "ipython3",
   "version": "3.12.2"
  }
 },
 "nbformat": 4,
 "nbformat_minor": 5
}
