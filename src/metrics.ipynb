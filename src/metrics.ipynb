{
 "cells": [
  {
   "cell_type": "code",
   "execution_count": 7,
   "id": "476c9d1e",
   "metadata": {},
   "outputs": [
    {
     "name": "stderr",
     "output_type": "stream",
     "text": [
      "/home/ubuntu/miniconda3/envs/ai_processor/lib/python3.12/site-packages/tqdm/auto.py:21: TqdmWarning: IProgress not found. Please update jupyter and ipywidgets. See https://ipywidgets.readthedocs.io/en/stable/user_install.html\n",
      "  from .autonotebook import tqdm as notebook_tqdm\n"
     ]
    }
   ],
   "source": [
    "import pandas as pd\n",
    "import loguru\n",
    "from loguru import logger\n",
    "from data.dataset import Sentinel2Dataset\n",
    "from data.loader import define_loaders\n",
    "from utils.utils import load_config\n",
    "import torch\n",
    "import torch.nn as nn\n",
    "from tqdm import tqdm\n",
    "import os\n",
    "from model_zoo.models import define_model\n",
    "import torch.optim as optim\n",
    "from utils.torch import count_parameters, seed_everything, load_model_weights\n",
    "from training.losses import masked_mse_loss"
   ]
  },
  {
   "cell_type": "code",
   "execution_count": 18,
   "id": "d216dea3",
   "metadata": {},
   "outputs": [],
   "source": [
    "config = load_config(config_path=\"cfg/config.yaml\")\n",
    "BASE_DIR = config[\"DATASET\"][\"base_dir\"]\n",
    "VERSION = config['DATASET']['version']\n",
    "BANDS = config['DATASET']['bands']\n",
    "BATCH_SIZE = config['TRAINING']['batch_size']\n",
    "NUM_WORKERS = config['TRAINING']['num_workers']\n",
    "RESIZE = config['TRAINING']['resize']\n",
    "LEARNING_RATE = config['TRAINING']['learning_rate']\n",
    "NUM_EPOCHS = config['TRAINING']['n_epoch']\n",
    "SEED = config['TRAINING']['seed']\n",
    "\n",
    "###\n",
    "train_path = f\"{BASE_DIR}/{VERSION}/train_path.csv\"\n",
    "val_path = f\"{BASE_DIR}/{VERSION}/val_path.csv\"\n",
    "test_path = f\"{BASE_DIR}/{VERSION}/test_path.csv\"\n",
    "seed_everything(seed=SEED)\n",
    "df_train = pd.read_csv(train_path)\n",
    "df_val = pd.read_csv(val_path)\n",
    "df_test = pd.read_csv(test_path)"
   ]
  },
  {
   "cell_type": "code",
   "execution_count": 24,
   "id": "2c46084e",
   "metadata": {},
   "outputs": [],
   "source": [
    "df_test=df_test[:1]"
   ]
  },
  {
   "cell_type": "code",
   "execution_count": 25,
   "id": "0222f2e1",
   "metadata": {},
   "outputs": [],
   "source": [
    "test_dataset = Sentinel2Dataset(df_path=df_test,\n",
    "                                 train=True, augmentation=False,\n",
    "                                 img_size=RESIZE)\n",
    "test_loader =  define_loaders(\n",
    "        train_dataset=test_dataset,\n",
    "        val_dataset=None,\n",
    "        train=False,\n",
    "        batch_size=1,\n",
    "        num_workers=NUM_WORKERS,\n",
    "    )"
   ]
  },
  {
   "cell_type": "code",
   "execution_count": 26,
   "id": "e76f24c3",
   "metadata": {},
   "outputs": [
    {
     "name": "stderr",
     "output_type": "stream",
     "text": [
      "\u001b[32m2025-04-22 13:14:35.994\u001b[0m | \u001b[1mINFO    \u001b[0m | \u001b[36mutils.torch\u001b[0m:\u001b[36mload_model_weights\u001b[0m:\u001b[36m95\u001b[0m - \u001b[1m\n",
      " -> Loading encoder weights from /home/ubuntu/project/sentinel-2-ai-processor/results/checkpoints/best_model.pth\n",
      "\u001b[0m\n"
     ]
    }
   ],
   "source": [
    "weights_path = \"/home/ubuntu/project/sentinel-2-ai-processor/results/checkpoints/best_model.pth\"\n",
    "\n",
    "model = define_model(name=config[\"MODEL\"][\"model_name\"],\n",
    "                     encoder_name=config[\"MODEL\"][\"encoder_name\"],\n",
    "                     in_channel=len(BANDS),\n",
    "                     out_channels=len(BANDS),\n",
    "                     activation=None)\n",
    "# Model Test - load best model weights\n",
    "model = load_model_weights(model=model, filename=weights_path)\n",
    "device = torch.device('cuda' if torch.cuda.is_available() else 'cpu')\n",
    "model = model.to(device)\n"
   ]
  },
  {
   "cell_type": "code",
   "execution_count": 27,
   "id": "850a12bc",
   "metadata": {},
   "outputs": [
    {
     "name": "stderr",
     "output_type": "stream",
     "text": [
      "testing: 100%|\u001b[38;2;204;153;255m█████████████████████████████████████████\u001b[0m| 1/1 [00:00<00:00,  1.26it/s, loss=0.000238]\u001b[0m"
     ]
    },
    {
     "name": "stdout",
     "output_type": "stream",
     "text": [
      "Band B02: Test PSNR: 36.1803, RMSE: 0.0155, SSIM: 0.9041, SAM: 76.14°\n",
      "Band B03: Test PSNR: 36.2990, RMSE: 0.0153, SSIM: 0.9028, SAM: 76.09°\n",
      "Band B04: Test PSNR: 36.2216, RMSE: 0.0154, SSIM: 0.9090, SAM: 76.09°\n"
     ]
    },
    {
     "name": "stderr",
     "output_type": "stream",
     "text": [
      "\n"
     ]
    }
   ],
   "source": [
    "from training.metrics import MultiSpectralMetrics\n",
    "from torchmetrics.image import SpectralAngleMapper\n",
    "\n",
    "criterion = nn.MSELoss()\n",
    "\n",
    "# Initialize test metrics dictionary\n",
    "test_metrics = {\n",
    "    \"test_loss\": 0.0,\n",
    "    \"test_psnr\": {band: 0.0 for band in BANDS},\n",
    "    \"test_rmse\": {band: 0.0 for band in BANDS},\n",
    "    \"test_ssim\": {band: 0.0 for band in BANDS},\n",
    "    \"test_sam\": {band: 0.0 for band in BANDS},\n",
    "}\n",
    "\n",
    "model.eval()\n",
    "test_loss = 0.0\n",
    "test_metrics_tracker = MultiSpectralMetrics(bands=BANDS, device=device)\n",
    "\n",
    "with torch.no_grad():\n",
    "    with tqdm(total=len(test_dataset), ncols=100, colour='#cc99ff') as t:\n",
    "        t.set_description('testing')\n",
    "\n",
    "        for batch_idx, (x_data, y_data) in enumerate(test_loader):\n",
    "            x_data = x_data.to(device)\n",
    "            y_data = y_data.to(device)\n",
    "            valid_mask = (y_data >= 0)\n",
    "\n",
    "            # Forward pass\n",
    "            outputs = model(x_data)\n",
    "\n",
    "            # Update test metrics\n",
    "            test_metrics_tracker.update(outputs, y_data)\n",
    "\n",
    "            # Calculate loss\n",
    "            loss = criterion(outputs[valid_mask], y_data[valid_mask])\n",
    "\n",
    "            # Update statistics\n",
    "            batch_loss = loss.item()\n",
    "            test_loss += batch_loss\n",
    "\n",
    "            # Update progress bar\n",
    "            t.set_postfix(loss=batch_loss)\n",
    "            t.update(x_data.size(0))\n",
    "\n",
    "# Calculate average test loss\n",
    "avg_test_loss = test_loss / len(test_loader)\n",
    "test_metrics['test_loss'] = avg_test_loss\n",
    "\n",
    "# Get test metrics\n",
    "test_epoch_metrics = test_metrics_tracker.compute()\n",
    "\n",
    "# Store test metrics\n",
    "for band in BANDS:\n",
    "    test_metrics['test_psnr'][band] = test_epoch_metrics[band]['psnr']\n",
    "    test_metrics['test_rmse'][band] = test_epoch_metrics[band]['rmse']\n",
    "    test_metrics['test_ssim'][band] = test_epoch_metrics[band]['ssim']\n",
    "    test_metrics['test_sam'][band] = test_epoch_metrics[band]['sam']\n",
    "\n",
    "    # Print metrics for each band\n",
    "    print(f\"Band {band}: Test PSNR: {test_epoch_metrics[band]['psnr']:.4f}, \"\n",
    "          f\"RMSE: {test_epoch_metrics[band]['rmse']:.4f}, \"\n",
    "          f\"SSIM: {test_epoch_metrics[band]['ssim']:.4f}, \"\n",
    "          f\"SAM: {test_epoch_metrics[band]['sam']:.2f}°\")\n",
    "\n",
    "# Log test metrics\n",
    "test_metrics_str = \", \".join([f\"Test PSNR {band}: {test_metrics['test_psnr'][band]:.4f}\" for band in BANDS])\n"
   ]
  },
  {
   "cell_type": "code",
   "execution_count": null,
   "id": "ec4f0a19",
   "metadata": {},
   "outputs": [
    {
     "name": "stderr",
     "output_type": "stream",
     "text": [
      "testing: 100%|\u001b[38;2;204;153;255m█████████████████████████████████████████\u001b[0m| 1/1 [00:00<00:00,  1.09it/s, loss=0.000238]\u001b[0m"
     ]
    },
    {
     "name": "stdout",
     "output_type": "stream",
     "text": [
      "Band B02: Test PSNR: 36.1803, RMSE: 0.0155, SSIM: 0.9041, SAM: 76.14°\n",
      "Band B03: Test PSNR: 36.2990, RMSE: 0.0153, SSIM: 0.9028, SAM: 76.09°\n",
      "Band B04: Test PSNR: 36.2216, RMSE: 0.0154, SSIM: 0.9090, SAM: 76.09°\n"
     ]
    },
    {
     "name": "stderr",
     "output_type": "stream",
     "text": [
      "\n"
     ]
    }
   ],
   "source": [
    "from training.metrics import MultiSpectralMetrics\n",
    "from torchmetrics.image import SpectralAngleMapper\n",
    "\n",
    "criterion = nn.MSELoss()\n",
    "\n",
    "# Initialize test metrics dictionary\n",
    "test_metrics = {\n",
    "    \"test_loss\": 0.0,\n",
    "    \"test_psnr\": {band: 0.0 for band in BANDS},\n",
    "    \"test_rmse\": {band: 0.0 for band in BANDS},\n",
    "    \"test_ssim\": {band: 0.0 for band in BANDS},\n",
    "    \"test_sam\": {band: 0.0 for band in BANDS},\n",
    "}\n",
    "\n",
    "model.eval()\n",
    "test_loss = 0.0\n",
    "test_metrics_tracker = MultiSpectralMetrics(bands=BANDS, device=device)\n",
    "\n",
    "with torch.no_grad():\n",
    "    with tqdm(total=len(test_dataset), ncols=100, colour='#cc99ff') as t:\n",
    "        t.set_description('testing')\n",
    "\n",
    "        for batch_idx, (x_data, y_data) in enumerate(test_loader):\n",
    "            x_data = x_data.to(device)\n",
    "            y_data = y_data.to(device)\n",
    "            valid_mask = (y_data >= 0)\n",
    "\n",
    "            # Forward pass\n",
    "            outputs = model(x_data)\n",
    "\n",
    "            # Update test metrics\n",
    "            test_metrics_tracker.update(outputs, y_data)\n",
    "\n",
    "            # Calculate loss\n",
    "            loss = criterion(outputs[valid_mask], y_data[valid_mask])\n",
    "\n",
    "            # Update statistics\n",
    "            batch_loss = loss.item()\n",
    "            test_loss += batch_loss\n",
    "\n",
    "            # Update progress bar\n",
    "            t.set_postfix(loss=batch_loss)\n",
    "            t.update(x_data.size(0))\n",
    "\n",
    "# Calculate average test loss\n",
    "avg_test_loss = test_loss / len(test_loader)\n",
    "test_metrics['test_loss'] = avg_test_loss\n",
    "\n",
    "# Get test metrics\n",
    "test_epoch_metrics = test_metrics_tracker.compute()\n",
    "\n",
    "# Store test metrics\n",
    "for band in BANDS:\n",
    "    test_metrics['test_psnr'][band] = test_epoch_metrics[band]['psnr']\n",
    "    test_metrics['test_rmse'][band] = test_epoch_metrics[band]['rmse']\n",
    "    test_metrics['test_ssim'][band] = test_epoch_metrics[band]['ssim']\n",
    "    test_metrics['test_sam'][band] = test_epoch_metrics[band]['sam']\n",
    "\n",
    "    # Print metrics for each band\n",
    "    print(f\"Band {band}: Test PSNR: {test_epoch_metrics[band]['psnr']:.4f}, \"\n",
    "          f\"RMSE: {test_epoch_metrics[band]['rmse']:.4f}, \"\n",
    "          f\"SSIM: {test_epoch_metrics[band]['ssim']:.4f}, \"\n",
    "          f\"SAM: {test_epoch_metrics[band]['sam']:.2f}°\")\n",
    "\n",
    "# Log test metrics\n",
    "test_metrics_str = \", \".join([f\"Test PSNR {band}: {test_metrics['test_psnr'][band]:.4f}\" for band in BANDS])\n"
   ]
  },
  {
   "cell_type": "code",
   "execution_count": null,
   "id": "38dba8b6",
   "metadata": {},
   "outputs": [],
   "source": [
    "def cosine_similarity(a, b):\n",
    "    return torch.dot(a, b) / (torch.norm(a) * torch.norm(b))\n",
    "\n",
    "\n",
    "def spectral_angle_mapper(reference_spectrum, target_spectrum):\n",
    "    cos_angle = cosine_similarity(reference_spectrum, target_spectrum)\n",
    "    return torch.acos(cos_angle)\n",
    "\n"
   ]
  },
  {
   "cell_type": "code",
   "execution_count": 40,
   "id": "0192f8c7",
   "metadata": {},
   "outputs": [],
   "source": [
    "cos_sim = spectral_angle_mapper(reference_spectrum=outputs[valid_mask],target_spectrum= y_data[valid_mask] )"
   ]
  },
  {
   "cell_type": "code",
   "execution_count": 41,
   "id": "efee9ab9",
   "metadata": {},
   "outputs": [],
   "source": [
    "angle = torch.acos(cos_sim) * (180.0 / torch.pi)"
   ]
  },
  {
   "cell_type": "code",
   "execution_count": 42,
   "id": "2a8e8319",
   "metadata": {},
   "outputs": [
    {
     "data": {
      "text/plain": [
       "tensor(87.9508, device='cuda:0')"
      ]
     },
     "execution_count": 42,
     "metadata": {},
     "output_type": "execute_result"
    }
   ],
   "source": [
    "angle"
   ]
  },
  {
   "cell_type": "code",
   "execution_count": null,
   "id": "ac081d5f",
   "metadata": {},
   "outputs": [],
   "source": []
  }
 ],
 "metadata": {
  "kernelspec": {
   "display_name": "ai_processor",
   "language": "python",
   "name": "python3"
  },
  "language_info": {
   "codemirror_mode": {
    "name": "ipython",
    "version": 3
   },
   "file_extension": ".py",
   "mimetype": "text/x-python",
   "name": "python",
   "nbconvert_exporter": "python",
   "pygments_lexer": "ipython3",
   "version": "3.12.2"
  }
 },
 "nbformat": 4,
 "nbformat_minor": 5
}
