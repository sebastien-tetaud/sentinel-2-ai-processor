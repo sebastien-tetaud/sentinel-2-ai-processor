{
 "cells": [
  {
   "cell_type": "code",
   "execution_count": 10,
   "id": "78165a02",
   "metadata": {},
   "outputs": [],
   "source": [
    "import os\n",
    "import os\n",
    "from datetime import datetime\n",
    "\n",
    "import matplotlib.pyplot as plt\n",
    "import numpy as np\n",
    "import pandas as pd\n",
    "import torch\n",
    "import torch.nn as nn\n",
    "import torch.optim as optim\n",
    "import yaml\n",
    "from loguru import logger\n",
    "from tqdm import tqdm\n",
    "import natsort\n",
    "import glob\n",
    "import cv2\n",
    "from PIL import Image\n",
    "from data.dataset import Sentinel2TCIDataset, Sentinel2Dataset\n",
    "from data.loader import define_loaders\n",
    "from model_zoo.models import define_model\n",
    "from training.metrics import MultiSpectralMetrics, avg_metric_bands\n",
    "from utils.torch import count_parameters, load_model_weights, seed_everything\n",
    "from utils.utils import load_config\n",
    "from utils.wandb_logger import WandbLogger\n",
    "from training.losses import WeightedMSELoss"
   ]
  },
  {
   "cell_type": "code",
   "execution_count": 21,
   "id": "451795ab",
   "metadata": {},
   "outputs": [],
   "source": [
    "def prepare_paths(path_dir):\n",
    "\n",
    "\n",
    "    df_input = pd.read_csv(f\"{path_dir}/input.csv\")\n",
    "    df_output = pd.read_csv(f\"{path_dir}/target.csv\")\n",
    "\n",
    "    df_input[\"path\"] = df_input[\"Name\"].apply(lambda x: os.path.join(path_dir, \"input\", os.path.basename(x).replace(\".SAFE\",\"\")))\n",
    "    df_output[\"path\"] = df_output[\"Name\"].apply(lambda x: os.path.join(path_dir, \"target\", os.path.basename(x).replace(\".SAFE\",\"\")))\n",
    "\n",
    "    return df_input, df_output\n",
    "\n",
    "\n",
    "def prepare_data(config):\n",
    "    base_dir = config['DATASET']['base_dir']\n",
    "    version = config['DATASET']['version']\n",
    "    resize = config['TRAINING']['resize']\n",
    "\n",
    "\n",
    "    TRAIN_DIR = f\"/mnt/disk/dataset/sentinel-ai-processor/{version}/train/\"\n",
    "    VAL_DIR = f\"/mnt/disk/dataset/sentinel-ai-processor/{version}/val/\"\n",
    "    TEST_DIR = f\"/mnt/disk/dataset/sentinel-ai-processor/{version}/test/\"\n",
    "\n",
    "    df_train_input, df_train_output =  prepare_paths(TRAIN_DIR)\n",
    "    df_val_input, df_val_output =  prepare_paths(VAL_DIR)\n",
    "    df_test_input, df_test_output =  prepare_paths(TEST_DIR)\n",
    "\n",
    "    logger.info(f\"Number of training samples: {len(df_train_input)}\")\n",
    "    logger.info(f\"Number of validation samples: {len(df_val_input)}\")\n",
    "    logger.info(f\"Number of test samples: {len(df_test_input)}\")\n",
    "\n",
    "    train_dataset = Sentinel2Dataset(df_x=df_train_input, df_y=df_train_output, train=True, augmentation=False, img_size=resize)\n",
    "    val_dataset = Sentinel2Dataset(df_x=df_val_input, df_y=df_val_output, train=True, augmentation=False, img_size=resize)\n",
    "    test_dataset = Sentinel2Dataset(df_x=df_test_input, df_y=df_test_output, train=True, augmentation=False, img_size=resize)\n",
    "\n",
    "\n",
    "\n",
    "    train_loader, val_loader = define_loaders(\n",
    "        train_dataset=train_dataset,\n",
    "        val_dataset=val_dataset,\n",
    "        train=True,\n",
    "        batch_size=config['TRAINING']['batch_size'],\n",
    "        num_workers=config['TRAINING']['num_workers'])\n",
    "\n",
    "    test_loader = define_loaders(\n",
    "        train_dataset=test_dataset,\n",
    "        val_dataset=None,\n",
    "        train=False,\n",
    "        batch_size=config['TRAINING']['batch_size'],\n",
    "        num_workers=config['TRAINING']['num_workers'])\n",
    "\n",
    "    return train_loader, val_loader, test_loader\n"
   ]
  },
  {
   "cell_type": "code",
   "execution_count": 22,
   "id": "6618081d",
   "metadata": {},
   "outputs": [],
   "source": [
    "config = load_config(config_path=\"cfg/config.yaml\")\n",
    "version = \"V3\"\n",
    "resize = 1024\n",
    "TEST_DIR = f\"/mnt/disk/dataset/sentinel-ai-processor/{version}/test/\"\n",
    "df_input, df_output = prepare_paths(TEST_DIR)"
   ]
  },
  {
   "cell_type": "code",
   "execution_count": 23,
   "id": "5e10bb3a",
   "metadata": {},
   "outputs": [],
   "source": [
    "def normalize(data_array):\n",
    "    \"\"\"\n",
    "    Normalize each band in a multi-band image array to the range [0, 1].\n",
    "\n",
    "    For each band, pixels with values > 0 are considered valid.\n",
    "    Normalization is done based on the min and max of valid pixels only.\n",
    "    Invalid pixels (≤ 0) are set to 0 after normalization.\n",
    "\n",
    "    Parameters\n",
    "    ----------\n",
    "    data_array : np.ndarray\n",
    "        Input image array of shape (H, W, C), where H = height, W = width, C = number of bands.\n",
    "\n",
    "    Returns\n",
    "    -------\n",
    "    normalized_data : np.ndarray\n",
    "        Normalized data array with values in [0, 1], same shape as input.\n",
    "    valid_masks : np.ndarray\n",
    "        Boolean mask array indicating valid pixels, shape (H, W, C).\n",
    "    norm_params : list of tuple\n",
    "        List of (min, max) values used for normalization per band.\n",
    "    \"\"\"\n",
    "\n",
    "    normalized_data = []\n",
    "    valid_masks = []\n",
    "    norm_params = []\n",
    "    for i in range(data_array.shape[2]):\n",
    "        band_data = data_array[:, :, i]\n",
    "        valid_mask = (band_data > 0)\n",
    "        valid_pixels = band_data[valid_mask]\n",
    "        min_val = np.min(valid_pixels)\n",
    "        max_val = np.max(valid_pixels)\n",
    "        norm_params.append((min_val, max_val))\n",
    "\n",
    "        result = band_data.copy().astype(np.float32)\n",
    "        result[valid_mask] = (valid_pixels - min_val) / (max_val - min_val)\n",
    "        result[~valid_mask] = 0.0\n",
    "        normalized_data.append(result)\n",
    "        valid_masks.append(valid_mask)\n",
    "    return np.dstack(normalized_data), np.dstack(valid_masks), norm_params\n",
    "\n",
    "def denormalize(norm_data, valid_masks, norm_params):\n",
    "    \"\"\"\n",
    "    Denormalize a normalized multi-band image back to its original value range and convert to integers.\n",
    "\n",
    "    Parameters\n",
    "    ----------\n",
    "    norm_data : ndarray\n",
    "        A 3D NumPy array of normalized data (H, W, C), where values are in the range [0, 1].\n",
    "\n",
    "    valid_masks : ndarray\n",
    "        Boolean mask array of shape (H, W, C) indicating which pixels were originally valid.\n",
    "\n",
    "    norm_params : list of tuples\n",
    "        List of (min, max) values per band used during normalization.\n",
    "\n",
    "    Returns\n",
    "    -------\n",
    "    restored_data : ndarray\n",
    "        Denormalized image array of shape (H, W, C) with dtype uint16.\n",
    "    \"\"\"\n",
    "\n",
    "    restored_data = []\n",
    "    for i in range(norm_data.shape[2]):\n",
    "        band = norm_data[:, :, i]\n",
    "        valid_mask = valid_masks[:, :, i]\n",
    "        min_val, max_val = norm_params[i]\n",
    "\n",
    "        restored_band = band.copy()\n",
    "        restored_band[valid_mask] = band[valid_mask] * (max_val - min_val) + min_val\n",
    "\n",
    "        restored_band[~valid_mask] = 0.0\n",
    "        restored_data.append(np.round(restored_band).astype(np.uint16))\n",
    "    return np.dstack(restored_data)\n",
    "\n",
    "def read_images(product_paths):\n",
    "    \"\"\"\n",
    "    Read and stack a list of grayscale image files into a multi-band image.\n",
    "\n",
    "    Parameters\n",
    "    ----------\n",
    "    product_paths : list of str\n",
    "        List of file paths to the images to read.\n",
    "\n",
    "    Returns\n",
    "    -------\n",
    "    images : ndarray\n",
    "        A 3D NumPy array of shape (H, W, C), where each image is treated as one band (C channels).\n",
    "    \"\"\"\n",
    "\n",
    "    images = []\n",
    "    for path in product_paths:\n",
    "        data = Image.open(path)\n",
    "        data = np.array(data)\n",
    "        images.append(data)\n",
    "    # H x W x C\n",
    "    images = np.dstack(images)\n",
    "    return images"
   ]
  },
  {
   "cell_type": "code",
   "execution_count": 39,
   "id": "2d20eda0",
   "metadata": {},
   "outputs": [],
   "source": [
    "random_index = np.random.choice(df_input.index)\n",
    "random_row = df_input.loc[random_index]\n",
    "\n",
    "x_paths = natsort.natsorted(glob.glob(os.path.join(df_input[\"path\"][random_index], \"*.png\")))\n",
    "y_paths = natsort.natsorted(glob.glob(os.path.join(df_output[\"path\"][random_index], \"*.png\")))\n",
    "\n",
    "x_data = read_images(x_paths)\n",
    "y_data = read_images(y_paths)\n",
    "\n",
    "x_data_norm, x_valid_masks, x_norm_params = normalize(x_data)\n",
    "y_data_norm, y_valid_masks, y_norm_params = normalize(y_data)\n",
    "\n",
    "new_x_data = denormalize(x_data_norm, x_valid_masks, x_norm_params)\n",
    "new_y_data = denormalize(y_data_norm, y_valid_masks, y_norm_params)"
   ]
  },
  {
   "cell_type": "code",
   "execution_count": 29,
   "id": "ca1c111d",
   "metadata": {},
   "outputs": [],
   "source": [
    "x = x_data/15000\n",
    "y = y_data/15000"
   ]
  },
  {
   "cell_type": "code",
   "execution_count": 30,
   "id": "711367ab",
   "metadata": {},
   "outputs": [
    {
     "data": {
      "text/plain": [
       "(0.17566666666666667,\n",
       " 1.8700666666666668,\n",
       " 0.33114022374842794,\n",
       " 0.1107793615294789)"
      ]
     },
     "execution_count": 30,
     "metadata": {},
     "output_type": "execute_result"
    }
   ],
   "source": [
    "x.min(), x.max(), x.mean(), x.std()"
   ]
  },
  {
   "cell_type": "code",
   "execution_count": 346,
   "id": "9cc8365c",
   "metadata": {},
   "outputs": [
    {
     "data": {
      "text/plain": [
       "(0.0, 3.8224, 0.17187661015059663, 0.5131447801560758)"
      ]
     },
     "execution_count": 346,
     "metadata": {},
     "output_type": "execute_result"
    }
   ],
   "source": [
    "y.min(), y.max(), y.mean(), y.std()"
   ]
  },
  {
   "cell_type": "code",
   "execution_count": 347,
   "id": "288b09ac",
   "metadata": {},
   "outputs": [
    {
     "data": {
      "text/plain": [
       "(0, 38224, 1718.766101505967, 5131.44780156076)"
      ]
     },
     "execution_count": 347,
     "metadata": {},
     "output_type": "execute_result"
    }
   ],
   "source": [
    "y_data.min(), y_data.max(), y_data.mean(), y_data.std()"
   ]
  },
  {
   "cell_type": "code",
   "execution_count": 20,
   "id": "e5fea5db",
   "metadata": {},
   "outputs": [
    {
     "data": {
      "text/plain": [
       "(tensor(2708.), tensor(34291.), tensor(9142.5928), tensor(4504.1060))"
      ]
     },
     "execution_count": 20,
     "metadata": {},
     "output_type": "execute_result"
    }
   ],
   "source": [
    "x_data.min(), x_data.max(), x_data.mean(), x_data.std()"
   ]
  },
  {
   "cell_type": "code",
   "execution_count": 355,
   "id": "2cd5031c",
   "metadata": {},
   "outputs": [
    {
     "name": "stderr",
     "output_type": "stream",
     "text": [
      "Processing images: 100%|██████████| 530/530 [03:04<00:00,  2.87it/s]\n"
     ]
    }
   ],
   "source": [
    "from tqdm import tqdm\n",
    "\n",
    "l2a_max = []\n",
    "l2a_min = []\n",
    "\n",
    "l1c_max = []\n",
    "l1c_min = []\n",
    "\n",
    "for i in tqdm(range(len(df_input)), desc=\"Processing images\"):\n",
    "    x_paths = natsort.natsorted(glob.glob(os.path.join(df_input[\"path\"][i], \"*.png\")))\n",
    "    y_paths = natsort.natsorted(glob.glob(os.path.join(df_output[\"path\"][i], \"*.png\")))\n",
    "\n",
    "    x_data = read_images(x_paths)\n",
    "    y_data = read_images(y_paths)\n",
    "\n",
    "    x_data = x_data/10000\n",
    "    y_data = y_data/10000\n",
    "\n",
    "    valid_mask = (x_data > 0)\n",
    "    valid_pixels = x_data[valid_mask]\n",
    "\n",
    "    l2a_max.append(x_data.max())\n",
    "    l2a_min.append(valid_pixels.min())\n",
    "\n",
    "    valid_mask = (y_data > 0)\n",
    "    valid_pixels = y_data[valid_mask]\n",
    "\n",
    "    l1c_max.append(y_data.max())\n",
    "    l1c_min.append(valid_pixels.min())"
   ]
  },
  {
   "cell_type": "code",
   "execution_count": 17,
   "id": "9b2013b3",
   "metadata": {},
   "outputs": [
    {
     "ename": "NameError",
     "evalue": "name 'l1c_min' is not defined",
     "output_type": "error",
     "traceback": [
      "\u001b[31m---------------------------------------------------------------------------\u001b[39m",
      "\u001b[31mNameError\u001b[39m                                 Traceback (most recent call last)",
      "\u001b[36mCell\u001b[39m\u001b[36m \u001b[39m\u001b[32mIn[17]\u001b[39m\u001b[32m, line 4\u001b[39m\n\u001b[32m      2\u001b[39m plt.figure(figsize=(\u001b[32m10\u001b[39m, \u001b[32m5\u001b[39m))\n\u001b[32m      3\u001b[39m plt.subplot(\u001b[32m1\u001b[39m, \u001b[32m2\u001b[39m, \u001b[32m1\u001b[39m)\n\u001b[32m----> \u001b[39m\u001b[32m4\u001b[39m plt.hist(\u001b[43ml1c_min\u001b[49m, bins=\u001b[32m100\u001b[39m, alpha=\u001b[32m0.5\u001b[39m, label=\u001b[33m'\u001b[39m\u001b[33mL1C Min\u001b[39m\u001b[33m'\u001b[39m)\n\u001b[32m      6\u001b[39m plt.hist(l2a_min, bins=\u001b[32m100\u001b[39m, alpha=\u001b[32m0.5\u001b[39m, label=\u001b[33m'\u001b[39m\u001b[33mL2A Min\u001b[39m\u001b[33m'\u001b[39m)\n\u001b[32m      7\u001b[39m plt.title(\u001b[33m'\u001b[39m\u001b[33mL1C / L2A Min Histogram\u001b[39m\u001b[33m'\u001b[39m)\n",
      "\u001b[31mNameError\u001b[39m: name 'l1c_min' is not defined"
     ]
    },
    {
     "data": {
      "image/png": "[encoded data removed]",
      "text/plain": [
       "<Figure size 1000x500 with 1 Axes>"
      ]
     },
     "metadata": {},
     "output_type": "display_data"
    }
   ],
   "source": [
    "#plot histogram max and min\n",
    "plt.figure(figsize=(10, 5))\n",
    "plt.subplot(1, 2, 1)\n",
    "plt.hist(l1c_min, bins=100, alpha=0.5, label='L1C Min')\n",
    "\n",
    "plt.hist(l2a_min, bins=100, alpha=0.5, label='L2A Min')\n",
    "plt.title('L1C / L2A Min Histogram')\n",
    "plt.xlabel('Value')\n",
    "plt.ylabel('Frequency')\n",
    "plt.legend()\n",
    "plt.subplot(1, 2, 2)\n",
    "plt.hist(l2a_max, bins=100, alpha=0.5, label='L2A Max')\n",
    "plt.hist(l1c_max, bins=100, alpha=0.5, label='L1C Max')\n",
    "plt.title('L1C / L2A Max Histogram')\n",
    "plt.xlabel('Value')\n",
    "plt.ylabel('Frequency')\n",
    "plt.legend()\n",
    "plt.tight_layout()\n",
    "plt.show()"
   ]
  },
  {
   "cell_type": "code",
   "execution_count": 5,
   "id": "ed1c8ede",
   "metadata": {},
   "outputs": [],
   "source": [
    "import segmentation_models_pytorch as smp\n"
   ]
  },
  {
   "cell_type": "code",
   "execution_count": 51,
   "id": "39278149",
   "metadata": {},
   "outputs": [],
   "source": [
    "model = smp.Unet(\n",
    "    encoder_name=\"timm-efficientnet-b2\",  # choose encoder, e.g. mobilenet_v2, efficientnet-b7, resnet50, etc.\n",
    "    encoder_weights=\"imagenet\",  # use `imagenet` pre-trained weights for encoder initialization\n",
    "    in_channels=3,  # model input channels (1 for gray-scale images, 3 for RGB, etc.)\n",
    "    classes=3,  # model output channels (number of classes in your dataset)\n",
    "    activation=None,  # activation function (softmax, sigmoid, etc.)\n",
    ")"
   ]
  },
  {
   "cell_type": "code",
   "execution_count": 8,
   "id": "270b8a5b",
   "metadata": {},
   "outputs": [],
   "source": [
    "import torch\n",
    "\n"
   ]
  },
  {
   "cell_type": "code",
   "execution_count": 40,
   "id": "37f76574",
   "metadata": {},
   "outputs": [],
   "source": [
    "x_data = cv2.resize(x_data, (1024, 1024), interpolation=cv2.INTER_AREA)\n",
    "x_data = torch.from_numpy(x_data).float()\n",
    "x_data = torch.permute(x_data, (2, 0, 1))  # HWC to CHW"
   ]
  },
  {
   "cell_type": "code",
   "execution_count": 41,
   "id": "4289d97f",
   "metadata": {},
   "outputs": [],
   "source": [
    "x_data = x_data/ 10000\n",
    "x_data = x_data.unsqueeze(0)  # Add batch dimension"
   ]
  },
  {
   "cell_type": "code",
   "execution_count": 42,
   "id": "b9fbd684",
   "metadata": {},
   "outputs": [
    {
     "data": {
      "text/plain": [
       "torch.Size([1, 3, 1024, 1024])"
      ]
     },
     "execution_count": 42,
     "metadata": {},
     "output_type": "execute_result"
    }
   ],
   "source": [
    "x_data.shape"
   ]
  },
  {
   "cell_type": "code",
   "execution_count": 43,
   "id": "7749afe5",
   "metadata": {},
   "outputs": [
    {
     "data": {
      "text/plain": [
       "tensor(0.)"
      ]
     },
     "execution_count": 43,
     "metadata": {},
     "output_type": "execute_result"
    }
   ],
   "source": [
    "x_data.min()"
   ]
  },
  {
   "cell_type": "code",
   "execution_count": 52,
   "id": "de8d4285",
   "metadata": {},
   "outputs": [],
   "source": [
    "outputs = model(x_data)"
   ]
  },
  {
   "cell_type": "code",
   "execution_count": 53,
   "id": "51ca7d22",
   "metadata": {},
   "outputs": [
    {
     "data": {
      "text/plain": [
       "(tensor(15.1406, grad_fn=<MaxBackward1>),\n",
       " tensor(-21.2954, grad_fn=<MinBackward1>),\n",
       " tensor(-0.3354, grad_fn=<MeanBackward0>),\n",
       " tensor(1.0282, grad_fn=<StdBackward0>))"
      ]
     },
     "execution_count": 53,
     "metadata": {},
     "output_type": "execute_result"
    }
   ],
   "source": [
    "outputs.max(), outputs.min(), outputs.mean(), outputs.std()"
   ]
  },
  {
   "cell_type": "code",
   "execution_count": null,
   "id": "57a1f697",
   "metadata": {},
   "outputs": [],
   "source": []
  }
 ],
 "metadata": {
  "kernelspec": {
   "display_name": "ai_processor",
   "language": "python",
   "name": "python3"
  },
  "language_info": {
   "codemirror_mode": {
    "name": "ipython",
    "version": 3
   },
   "file_extension": ".py",
   "mimetype": "text/x-python",
   "name": "python",
   "nbconvert_exporter": "python",
   "pygments_lexer": "ipython3",
   "version": "3.12.2"
  }
 },
 "nbformat": 4,
 "nbformat_minor": 5
}
