{
 "cells": [
  {
   "cell_type": "code",
   "execution_count": 1,
   "id": "54204005",
   "metadata": {},
   "outputs": [],
   "source": [
    "import pandas as pd\n",
    "import loguru\n",
    "from data.dataset import Sentinel2Dataset\n",
    "from utils.utils import load_config"
   ]
  },
  {
   "cell_type": "code",
   "execution_count": 2,
   "id": "2749814f",
   "metadata": {},
   "outputs": [],
   "source": [
    "config = load_config(config_path=\"cfg/config.yaml\")\n",
    "BASE_DIR = config[\"DATASET\"][\"base_dir\"]\n",
    "VERSION = config['DATASET']['version']\n",
    "BATCH_SIZE = config['TRAINING']['batch_size']\n",
    "VAL_BS = config[\"TRAINING\"]['val_bs']\n",
    "NUM_WORKERS = config['TRAINING']['num_workers']\n",
    "train_path = f\"{BASE_DIR}/{VERSION}/train_path.csv\"\n",
    "val_path = f\"{BASE_DIR}/{VERSION}/val_path.csv\"\n",
    "test_path = f\"{BASE_DIR}/{VERSION}/test_path.csv\"\n",
    "\n"
   ]
  },
  {
   "cell_type": "code",
   "execution_count": 3,
   "id": "7729529e",
   "metadata": {},
   "outputs": [],
   "source": [
    "df_train = pd.read_csv(train_path)\n",
    "df_val = pd.read_csv(val_path)\n",
    "df_test = pd.read_csv(test_path)\n",
    "\n",
    "train_dataset = Sentinel2Dataset(df_path=df_train, train=False, augmentation=False)\n",
    "val_dataset = Sentinel2Dataset(df_path=df_val, train=False, augmentation=False)"
   ]
  },
  {
   "cell_type": "code",
   "execution_count": 4,
   "id": "d94d6f42",
   "metadata": {},
   "outputs": [],
   "source": [
    "from data.loader import define_loaders"
   ]
  },
  {
   "cell_type": "code",
   "execution_count": 5,
   "id": "43a3de46",
   "metadata": {},
   "outputs": [],
   "source": [
    "train_loader, val_loader = define_loaders(\n",
    "        train_dataset,\n",
    "        val_dataset,\n",
    "        batch_size=VAL_BS,\n",
    "        val_bs=VAL_BS,\n",
    "        num_workers=NUM_WORKERS,\n",
    "    )"
   ]
  },
  {
   "cell_type": "code",
   "execution_count": null,
   "id": "aaef497d",
   "metadata": {},
   "outputs": [],
   "source": [
    "for data in train_loader:\n",
    "    x_data, y_data = data\n"
   ]
  }
 ],
 "metadata": {
  "kernelspec": {
   "display_name": "ai_processor",
   "language": "python",
   "name": "python3"
  },
  "language_info": {
   "codemirror_mode": {
    "name": "ipython",
    "version": 3
   },
   "file_extension": ".py",
   "mimetype": "text/x-python",
   "name": "python",
   "nbconvert_exporter": "python",
   "pygments_lexer": "ipython3",
   "version": "3.12.2"
  }
 },
 "nbformat": 4,
 "nbformat_minor": 5
}
