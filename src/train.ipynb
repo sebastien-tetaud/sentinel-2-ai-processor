{
 "cells": [
  {
   "cell_type": "code",
   "execution_count": 1,
   "id": "54204005",
   "metadata": {},
   "outputs": [
    {
     "name": "stderr",
     "output_type": "stream",
     "text": [
      "/home/ubuntu/miniconda3/envs/ai_processor/lib/python3.12/site-packages/tqdm/auto.py:21: TqdmWarning: IProgress not found. Please update jupyter and ipywidgets. See https://ipywidgets.readthedocs.io/en/stable/user_install.html\n",
      "  from .autonotebook import tqdm as notebook_tqdm\n"
     ]
    }
   ],
   "source": [
    "import pandas as pd\n",
    "import loguru\n",
    "from data.dataset import Sentinel2Dataset\n",
    "from data.loader import define_loaders\n",
    "from utils.utils import load_config\n",
    "import torch\n",
    "import torch.nn as nn\n",
    "from tqdm import tqdm\n",
    "\n",
    "from model_zoo.models import define_model"
   ]
  },
  {
   "cell_type": "code",
   "execution_count": 2,
   "id": "2749814f",
   "metadata": {},
   "outputs": [],
   "source": [
    "config = load_config(config_path=\"cfg/config.yaml\")\n",
    "BASE_DIR = config[\"DATASET\"][\"base_dir\"]\n",
    "VERSION = config['DATASET']['version']\n",
    "BATCH_SIZE = config['TRAINING']['batch_size']\n",
    "VAL_BS = config[\"TRAINING\"]['val_bs']\n",
    "NUM_WORKERS = config['TRAINING']['num_workers']\n",
    "RESIZE = config['TRAINING']['resize']\n",
    "LEARNING_RATE = config['TRAINING']['learning_rate']\n",
    "train_path = f\"{BASE_DIR}/{VERSION}/train_path.csv\"\n",
    "val_path = f\"{BASE_DIR}/{VERSION}/val_path.csv\"\n",
    "test_path = f\"{BASE_DIR}/{VERSION}/test_path.csv\""
   ]
  },
  {
   "cell_type": "code",
   "execution_count": 3,
   "id": "7729529e",
   "metadata": {},
   "outputs": [],
   "source": [
    "df_train = pd.read_csv(train_path)\n",
    "df_val = pd.read_csv(val_path)\n",
    "df_test = pd.read_csv(test_path)"
   ]
  },
  {
   "cell_type": "code",
   "execution_count": 4,
   "id": "43a3de46",
   "metadata": {},
   "outputs": [
    {
     "ename": "TypeError",
     "evalue": "Sentinel2Dataset.__init__() missing 1 required positional argument: 'img_size'",
     "output_type": "error",
     "traceback": [
      "\u001b[31m---------------------------------------------------------------------------\u001b[39m",
      "\u001b[31mTypeError\u001b[39m                                 Traceback (most recent call last)",
      "\u001b[36mCell\u001b[39m\u001b[36m \u001b[39m\u001b[32mIn[4]\u001b[39m\u001b[32m, line 1\u001b[39m\n\u001b[32m----> \u001b[39m\u001b[32m1\u001b[39m train_dataset = \u001b[43mSentinel2Dataset\u001b[49m\u001b[43m(\u001b[49m\u001b[43mdf_path\u001b[49m\u001b[43m=\u001b[49m\u001b[43mdf_train\u001b[49m\u001b[43m,\u001b[49m\u001b[43m \u001b[49m\u001b[43mtrain\u001b[49m\u001b[43m=\u001b[49m\u001b[38;5;28;43;01mTrue\u001b[39;49;00m\u001b[43m,\u001b[49m\u001b[43m \u001b[49m\u001b[43maugmentation\u001b[49m\u001b[43m=\u001b[49m\u001b[38;5;28;43;01mFalse\u001b[39;49;00m\u001b[43m)\u001b[49m\n\u001b[32m      2\u001b[39m val_dataset = Sentinel2Dataset(df_path=df_val, train=\u001b[38;5;28;01mFalse\u001b[39;00m, augmentation=\u001b[38;5;28;01mFalse\u001b[39;00m)\n\u001b[32m      3\u001b[39m train_loader, val_loader = define_loaders(\n\u001b[32m      4\u001b[39m         train_dataset,\n\u001b[32m      5\u001b[39m         val_dataset,\n\u001b[32m   (...)\u001b[39m\u001b[32m      8\u001b[39m         num_workers=NUM_WORKERS,\n\u001b[32m      9\u001b[39m     )\n",
      "\u001b[31mTypeError\u001b[39m: Sentinel2Dataset.__init__() missing 1 required positional argument: 'img_size'"
     ]
    }
   ],
   "source": [
    "train_dataset = Sentinel2Dataset(df_path=df_train, train=True, augmentation=False)\n",
    "val_dataset = Sentinel2Dataset(df_path=df_val, train=False, augmentation=False)\n",
    "train_loader, val_loader = define_loaders(\n",
    "        train_dataset,\n",
    "        val_dataset,\n",
    "        batch_size=VAL_BS,\n",
    "        val_bs=VAL_BS,\n",
    "        num_workers=NUM_WORKERS,\n",
    "    )"
   ]
  },
  {
   "cell_type": "code",
   "execution_count": null,
   "id": "0b6fff6a",
   "metadata": {},
   "outputs": [],
   "source": [
    "import torch.optim as optim\n",
    "\n",
    "model = define_model(name=\"Unet\", encoder_name=\"resnet34\",\n",
    "                     in_channel=3, out_channels=3, activation=None)\n",
    "\n",
    "from utils.torch import count_parameters\n",
    "nb_parameters = count_parameters(model=model)\n",
    "print(\"Number of parameters {}\".format(nb_parameters))\n",
    "cuda = torch.device('cuda')"
   ]
  },
  {
   "cell_type": "code",
   "execution_count": null,
   "id": "17091454",
   "metadata": {},
   "outputs": [],
   "source": [
    "optimizer = optim.Adam(model.parameters(), lr=float(LEARNING_RATE))"
   ]
  },
  {
   "cell_type": "code",
   "execution_count": null,
   "id": "f7bed0eb",
   "metadata": {},
   "outputs": [],
   "source": [
    "best_epoch = 0\n",
    "best_loss = 0.0\n",
    "step = 0\n",
    "metrics_dict = {}\n",
    "NUM_EPOCHS = 20"
   ]
  },
  {
   "cell_type": "code",
   "execution_count": null,
   "id": "5d5ec31f",
   "metadata": {},
   "outputs": [],
   "source": [
    "model.train()\n",
    "for epoch in range(NUM_EPOCHS):\n",
    "\n",
    "     with tqdm(total=(len(train_dataset) - len(train_dataset) % BATCH_SIZE), colour='#3eedc4') as t:\n",
    "            t.set_description('epoch: {}/{}'.format(epoch, NUM_EPOCHS - 1))\n",
    "\n",
    "     model.train()\n",
    "     optimizer.zero_grad()\n",
    "\n",
    "     for x_data, y_data in train_loader:\n",
    "          # Print tensor information\n",
    "          x_data = x_data.cuda()\n",
    "          # Forward pass\n",
    "          y = model(x_data)\n",
    "\n",
    "\n"
   ]
  },
  {
   "cell_type": "code",
   "execution_count": null,
   "id": "5beb2ab0",
   "metadata": {},
   "outputs": [],
   "source": []
  }
 ],
 "metadata": {
  "kernelspec": {
   "display_name": "ai_processor",
   "language": "python",
   "name": "python3"
  },
  "language_info": {
   "codemirror_mode": {
    "name": "ipython",
    "version": 3
   },
   "file_extension": ".py",
   "mimetype": "text/x-python",
   "name": "python",
   "nbconvert_exporter": "python",
   "pygments_lexer": "ipython3",
   "version": "3.12.2"
  }
 },
 "nbformat": 4,
 "nbformat_minor": 5
}
