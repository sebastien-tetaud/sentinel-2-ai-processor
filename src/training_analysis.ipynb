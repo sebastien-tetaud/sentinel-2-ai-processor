{
 "cells": [
  {
   "cell_type": "markdown",
   "id": "d006bd05",
   "metadata": {},
   "source": [
    "# Training Analysis"
   ]
  },
  {
   "cell_type": "code",
   "execution_count": 26,
   "id": "4a1fb67a",
   "metadata": {},
   "outputs": [],
   "source": [
    "from data.loader import define_loaders\n",
    "from utils.utils import load_config\n",
    "from utils.torch import count_parameters, seed_everything, load_model_weights\n",
    "from model_zoo.models import define_model\n",
    "import os "
   ]
  },
  {
   "cell_type": "code",
   "execution_count": 27,
   "id": "2b700ab9",
   "metadata": {},
   "outputs": [],
   "source": [
    "from utils.plot import plot_metrics, plot_training_loss\n",
    "import pandas as pd\n",
    "\n",
    "exp_dir = \"/home/ubuntu/project/sentinel-2-ai-processor/src/results/\"\n",
    "experience =\"2025-04-26_08-48-49\"\n",
    "config = load_config(config_path=f\"{exp_dir}/{experience}/config.yaml\")"
   ]
  },
  {
   "cell_type": "code",
   "execution_count": null,
   "id": "4b44db00",
   "metadata": {},
   "outputs": [],
   "source": [
    "df_loss = pd.read_csv(f\"{exp_dir}/{experience}/metrics/losses.csv\")\n",
    "df_ssim = pd.read_csv(f\"{exp_dir}/{experience}/metrics/ssim_metrics.csv\")\n",
    "df_sam = pd.read_csv(f\"{exp_dir}/{experience}/metrics/sam_metrics.csv\")\n",
    "df_rmse = pd.read_csv(f\"{exp_dir}/{experience}/metrics/rmse_metrics.csv\")\n",
    "df_psnr = pd.read_csv(f\"{exp_dir}/{experience}/metrics/psnr_metrics.csv\")"
   ]
  },
  {
   "cell_type": "code",
   "execution_count": null,
   "id": "b2656a56",
   "metadata": {},
   "outputs": [],
   "source": [
    "bands = ['B02', 'B03', 'B04']\n",
    "plot_metrics(df_psnr, bands=bands, title=\"Dataset V1 - PSRN\",\n",
    "             log_scale=False,\n",
    "             y_label=\"PSNR\",\n",
    "             verbose=True,\n",
    "             save=False,\n",
    "             save_path=\"ssim_metrics_plot.svg\",\n",
    "             color_palette=\"plasma\")\n",
    "\n",
    "plot_metrics(df_ssim, bands=bands, title=\"Dataset V1 - SSIM\",\n",
    "             log_scale=False,\n",
    "             y_label=\"SSIM\",\n",
    "             verbose=True,\n",
    "             save=False,\n",
    "             save_path=\"ssim_metrics_plot.svg\",\n",
    "             color_palette=\"plasma\")\n",
    "\n",
    "plot_metrics(df_sam, bands=bands, title=\"Dataset V1 - SAM\",\n",
    "             log_scale=False,\n",
    "             y_label=\"SAM\",\n",
    "             verbose=True,\n",
    "             save=False,\n",
    "             save_path=\"sam_metrics_plot.svg\",\n",
    "             color_palette=\"plasma\")\n",
    "\n",
    "plot_metrics(df_rmse, bands=bands, title=\"Dataset V1 - RMSE\",\n",
    "             log_scale=False,\n",
    "             y_label=\"RMSE\",\n",
    "             verbose=True,\n",
    "             save=False,\n",
    "             save_path=\"rmse_metrics_plot.svg\",\n",
    "             color_palette=\"plasma\")"
   ]
  },
  {
   "cell_type": "code",
   "execution_count": null,
   "id": "cea0ea98",
   "metadata": {},
   "outputs": [],
   "source": [
    "plot_training_loss(df=df_loss,\n",
    "                    title=\"Training and Validation Loss\",\n",
    "                    y_label=\"Loss\",\n",
    "                    log_scale=False,\n",
    "                    verbose=True,\n",
    "                    save=False,\n",
    "                    save_path=\"loss_plot.svg\",\n",
    "                    color_palette=\"plasma\")"
   ]
  },
  {
   "cell_type": "markdown",
   "id": "cc34848d",
   "metadata": {},
   "source": [
    "## Load Config"
   ]
  },
  {
   "cell_type": "code",
   "execution_count": 28,
   "id": "66ad4da4",
   "metadata": {},
   "outputs": [],
   "source": [
    "config = load_config(config_path=f\"{exp_dir}/{experience}/config.yaml\")\n",
    "base_dir = config[\"DATASET\"][\"base_dir\"]\n",
    "version = config['DATASET']['version']\n",
    "bands = config['DATASET']['bands']\n",
    "resize = config['TRAINING']['resize']\n",
    "num_workers = config['TRAINING']['num_workers']"
   ]
  },
  {
   "cell_type": "markdown",
   "id": "4a109aba",
   "metadata": {},
   "source": [
    "## Create Dataset"
   ]
  },
  {
   "cell_type": "code",
   "execution_count": 80,
   "id": "7ab013e7",
   "metadata": {},
   "outputs": [],
   "source": [
    "def prepare_paths(path_dir):\n",
    "    \n",
    "    df_input = pd.read_csv(f\"{path_dir}/input.csv\")\n",
    "    df_output = pd.read_csv(f\"{path_dir}/target.csv\")\n",
    "\n",
    "    df_input[\"path\"] = df_input[\"Name\"].apply(lambda x: os.path.join(path_dir, \"input\", os.path.basename(x).replace(\".SAFE\",\"\")))\n",
    "    df_output[\"path\"] = df_output[\"Name\"].apply(lambda x: os.path.join(path_dir, \"target\", os.path.basename(x).replace(\".SAFE\",\"\")))\n",
    "    \n",
    "    return df_input, df_output"
   ]
  },
  {
   "cell_type": "code",
   "execution_count": 81,
   "id": "08a0d4bb",
   "metadata": {},
   "outputs": [],
   "source": [
    "test_dir = f\"/mnt/disk/dataset/sentinel-ai-processor/{version}/test/\"\n",
    "df_test_input, df_test_output =  prepare_paths(test_dir)"
   ]
  },
  {
   "cell_type": "code",
   "execution_count": 82,
   "id": "ecfb412d",
   "metadata": {},
   "outputs": [
    {
     "data": {
      "text/html": [
       "<div>\n",
       "<style scoped>\n",
       "    .dataframe tbody tr th:only-of-type {\n",
       "        vertical-align: middle;\n",
       "    }\n",
       "\n",
       "    .dataframe tbody tr th {\n",
       "        vertical-align: top;\n",
       "    }\n",
       "\n",
       "    .dataframe thead th {\n",
       "        text-align: right;\n",
       "    }\n",
       "</style>\n",
       "<table border=\"1\" class=\"dataframe\">\n",
       "  <thead>\n",
       "    <tr style=\"text-align: right;\">\n",
       "      <th></th>\n",
       "      <th>id_key</th>\n",
       "      <th>Name</th>\n",
       "      <th>S3Path</th>\n",
       "      <th>Footprint</th>\n",
       "      <th>GeoFootprint</th>\n",
       "      <th>cloud_cover</th>\n",
       "      <th>path</th>\n",
       "    </tr>\n",
       "  </thead>\n",
       "  <tbody>\n",
       "    <tr>\n",
       "      <th>0</th>\n",
       "      <td>S2A_MSIL1C_20180105T103421_N0500_R108_T32TMT</td>\n",
       "      <td>S2A_MSIL1C_20180105T103421_N0500_R108_T32TMT_2...</td>\n",
       "      <td>/eodata/Sentinel-2/MSI/L1C_N0500/2018/01/05/S2...</td>\n",
       "      <td>geography'SRID=4326;POLYGON ((7.66286529044567...</td>\n",
       "      <td>{'type': 'Polygon', 'coordinates': [[[7.662865...</td>\n",
       "      <td>60.705665</td>\n",
       "      <td>/mnt/disk/dataset/sentinel-ai-processor/V2/tes...</td>\n",
       "    </tr>\n",
       "    <tr>\n",
       "      <th>1</th>\n",
       "      <td>S2B_MSIL1C_20180107T102359_N0500_R065_T32TPS</td>\n",
       "      <td>S2B_MSIL1C_20180107T102359_N0500_R065_T32TPS_2...</td>\n",
       "      <td>/eodata/Sentinel-2/MSI/L1C_N0500/2018/01/07/S2...</td>\n",
       "      <td>geography'SRID=4326;POLYGON ((11.7513728834118...</td>\n",
       "      <td>{'type': 'Polygon', 'coordinates': [[[11.75137...</td>\n",
       "      <td>98.293253</td>\n",
       "      <td>/mnt/disk/dataset/sentinel-ai-processor/V2/tes...</td>\n",
       "    </tr>\n",
       "  </tbody>\n",
       "</table>\n",
       "</div>"
      ],
      "text/plain": [
       "                                         id_key  \\\n",
       "0  S2A_MSIL1C_20180105T103421_N0500_R108_T32TMT   \n",
       "1  S2B_MSIL1C_20180107T102359_N0500_R065_T32TPS   \n",
       "\n",
       "                                                Name  \\\n",
       "0  S2A_MSIL1C_20180105T103421_N0500_R108_T32TMT_2...   \n",
       "1  S2B_MSIL1C_20180107T102359_N0500_R065_T32TPS_2...   \n",
       "\n",
       "                                              S3Path  \\\n",
       "0  /eodata/Sentinel-2/MSI/L1C_N0500/2018/01/05/S2...   \n",
       "1  /eodata/Sentinel-2/MSI/L1C_N0500/2018/01/07/S2...   \n",
       "\n",
       "                                           Footprint  \\\n",
       "0  geography'SRID=4326;POLYGON ((7.66286529044567...   \n",
       "1  geography'SRID=4326;POLYGON ((11.7513728834118...   \n",
       "\n",
       "                                        GeoFootprint  cloud_cover  \\\n",
       "0  {'type': 'Polygon', 'coordinates': [[[7.662865...    60.705665   \n",
       "1  {'type': 'Polygon', 'coordinates': [[[11.75137...    98.293253   \n",
       "\n",
       "                                                path  \n",
       "0  /mnt/disk/dataset/sentinel-ai-processor/V2/tes...  \n",
       "1  /mnt/disk/dataset/sentinel-ai-processor/V2/tes...  "
      ]
     },
     "execution_count": 82,
     "metadata": {},
     "output_type": "execute_result"
    }
   ],
   "source": [
    "df_test_input.head(2)"
   ]
  },
  {
   "cell_type": "code",
   "execution_count": 87,
   "id": "6761895d",
   "metadata": {},
   "outputs": [],
   "source": [
    "from data.dataset import Sentinel2Dataset\n",
    "\n",
    "test_dataset = Sentinel2Dataset(df_x=df_test_input, df_y=df_test_output, train=True, augmentation=False, img_size=resize)\n",
    "test_loader = define_loaders(\n",
    "    train_dataset=test_dataset,\n",
    "    val_dataset=None,\n",
    "    train=False,\n",
    "    batch_size=1,\n",
    "    num_workers=config['TRAINING']['num_workers'])"
   ]
  },
  {
   "cell_type": "code",
   "execution_count": null,
   "id": "0f72472b",
   "metadata": {},
   "outputs": [
    {
     "data": {
      "text/html": [
       "<div>\n",
       "<style scoped>\n",
       "    .dataframe tbody tr th:only-of-type {\n",
       "        vertical-align: middle;\n",
       "    }\n",
       "\n",
       "    .dataframe tbody tr th {\n",
       "        vertical-align: top;\n",
       "    }\n",
       "\n",
       "    .dataframe thead th {\n",
       "        text-align: right;\n",
       "    }\n",
       "</style>\n",
       "<table border=\"1\" class=\"dataframe\">\n",
       "  <thead>\n",
       "    <tr style=\"text-align: right;\">\n",
       "      <th></th>\n",
       "      <th>id_key</th>\n",
       "      <th>Name</th>\n",
       "      <th>S3Path</th>\n",
       "      <th>Footprint</th>\n",
       "      <th>GeoFootprint</th>\n",
       "      <th>cloud_cover</th>\n",
       "      <th>path</th>\n",
       "    </tr>\n",
       "  </thead>\n",
       "  <tbody>\n",
       "    <tr>\n",
       "      <th>0</th>\n",
       "      <td>S2A_MSIL1C_20180105T103421_N0500_R108_T32TMT</td>\n",
       "      <td>S2A_MSIL2A_20180105T103421_N0500_R108_T32TMT_2...</td>\n",
       "      <td>/eodata/Sentinel-2/MSI/L2A_N0500/2018/01/05/S2...</td>\n",
       "      <td>geography'SRID=4326;POLYGON ((7.66286529044567...</td>\n",
       "      <td>{'type': 'Polygon', 'coordinates': [[[7.662865...</td>\n",
       "      <td>76.968253</td>\n",
       "      <td>/mnt/disk/dataset/sentinel-ai-processor/V2/tes...</td>\n",
       "    </tr>\n",
       "    <tr>\n",
       "      <th>1</th>\n",
       "      <td>S2B_MSIL1C_20180107T102359_N0500_R065_T32TPS</td>\n",
       "      <td>S2B_MSIL2A_20180107T102359_N0500_R065_T32TPS_2...</td>\n",
       "      <td>/eodata/Sentinel-2/MSI/L2A_N0500/2018/01/07/S2...</td>\n",
       "      <td>geography'SRID=4326;POLYGON ((11.7513728834118...</td>\n",
       "      <td>{'type': 'Polygon', 'coordinates': [[[11.75137...</td>\n",
       "      <td>96.654195</td>\n",
       "      <td>/mnt/disk/dataset/sentinel-ai-processor/V2/tes...</td>\n",
       "    </tr>\n",
       "  </tbody>\n",
       "</table>\n",
       "</div>"
      ],
      "text/plain": [
       "                                         id_key  \\\n",
       "0  S2A_MSIL1C_20180105T103421_N0500_R108_T32TMT   \n",
       "1  S2B_MSIL1C_20180107T102359_N0500_R065_T32TPS   \n",
       "\n",
       "                                                Name  \\\n",
       "0  S2A_MSIL2A_20180105T103421_N0500_R108_T32TMT_2...   \n",
       "1  S2B_MSIL2A_20180107T102359_N0500_R065_T32TPS_2...   \n",
       "\n",
       "                                              S3Path  \\\n",
       "0  /eodata/Sentinel-2/MSI/L2A_N0500/2018/01/05/S2...   \n",
       "1  /eodata/Sentinel-2/MSI/L2A_N0500/2018/01/07/S2...   \n",
       "\n",
       "                                           Footprint  \\\n",
       "0  geography'SRID=4326;POLYGON ((7.66286529044567...   \n",
       "1  geography'SRID=4326;POLYGON ((11.7513728834118...   \n",
       "\n",
       "                                        GeoFootprint  cloud_cover  \\\n",
       "0  {'type': 'Polygon', 'coordinates': [[[7.662865...    76.968253   \n",
       "1  {'type': 'Polygon', 'coordinates': [[[11.75137...    96.654195   \n",
       "\n",
       "                                                path  \n",
       "0  /mnt/disk/dataset/sentinel-ai-processor/V2/tes...  \n",
       "1  /mnt/disk/dataset/sentinel-ai-processor/V2/tes...  "
      ]
     },
     "execution_count": 88,
     "metadata": {},
     "output_type": "execute_result"
    }
   ],
   "source": [
    "df_test_output.head(2)"
   ]
  },
  {
   "cell_type": "markdown",
   "id": "0284aefb",
   "metadata": {},
   "source": [
    "## Load Model "
   ]
  },
  {
   "cell_type": "code",
   "execution_count": 113,
   "id": "e7897c1e",
   "metadata": {},
   "outputs": [
    {
     "name": "stderr",
     "output_type": "stream",
     "text": [
      "\u001b[32m2025-04-26 20:13:44.060\u001b[0m | \u001b[1mINFO    \u001b[0m | \u001b[36mutils.torch\u001b[0m:\u001b[36mload_model_weights\u001b[0m:\u001b[36m103\u001b[0m - \u001b[1m\n",
      " -> Loading encoder weights from /home/ubuntu/project/sentinel-2-ai-processor/src/results//2025-04-26_08-48-49/checkpoints/best_model.pth\n",
      "\u001b[0m\n"
     ]
    }
   ],
   "source": [
    "import torch\n",
    "\n",
    "weights_path = f\"{exp_dir}/{experience}/checkpoints/best_model.pth\"\n",
    "model = define_model(name=config[\"MODEL\"][\"model_name\"],\n",
    "                     encoder_name=config[\"MODEL\"][\"encoder_name\"],\n",
    "                     in_channel=len(bands),\n",
    "                     out_channels=len(bands),\n",
    "                     activation=None)\n",
    "# Model Test - load best model weights\n",
    "model = load_model_weights(model=model, filename=weights_path)\n",
    "device = torch.device('cuda' if torch.cuda.is_available() else 'cpu')\n",
    "model = model.to(device)"
   ]
  },
  {
   "cell_type": "markdown",
   "id": "7788425d",
   "metadata": {},
   "source": [
    "## Test Dataset inference"
   ]
  },
  {
   "cell_type": "code",
   "execution_count": 114,
   "id": "ab30739b",
   "metadata": {},
   "outputs": [
    {
     "name": "stderr",
     "output_type": "stream",
     "text": [
      "Testing: 100%|\u001b[38;2;204;153;255m████████████████████████████████████████████████████\u001b[0m| 600/600 [01:02<00:00,  9.59it/s]\u001b[0m\n"
     ]
    }
   ],
   "source": [
    "from tqdm import tqdm\n",
    "\n",
    "from training.metrics import MultiSpectralMetrics\n",
    "\n",
    "test_metrics_tracker = MultiSpectralMetrics(bands=bands, device=device)\n",
    "\n",
    "indiv_metrics = []\n",
    "def test_model(model, test_loader, device, metrics_tracker):\n",
    "    model.eval()\n",
    "    metrics_tracker.reset()\n",
    "    with torch.no_grad():\n",
    "        with tqdm(total=len(test_loader.dataset), ncols=100, colour='#cc99ff') as t:\n",
    "            t.set_description(\"Testing\")\n",
    "            for x_data, y_data in test_loader:\n",
    "                x_data, y_data = x_data.to(device), y_data.to(device)\n",
    "                outputs = model(x_data)\n",
    "                metrics_tracker.update(outputs, y_data)\n",
    "                \n",
    "                indiv_metrics.append(test_metrics_tracker.compute())\n",
    "                t.update(x_data.size(0))\n",
    "                \n",
    "    return metrics_tracker.compute(), metrics_tracker\n",
    "\n",
    "test_metrics_avg, test_metrics = test_model(model, test_loader, device, test_metrics_tracker)"
   ]
  },
  {
   "cell_type": "code",
   "execution_count": null,
   "id": "a77228d7",
   "metadata": {},
   "outputs": [
    {
     "name": "stderr",
     "output_type": "stream",
     "text": [
      "  0%|\u001b[38;2;204;153;255m                                                                       \u001b[0m| 0/600 [00:00<?, ?it/s]\u001b[0m"
     ]
    },
    {
     "name": "stderr",
     "output_type": "stream",
     "text": [
      "  0%|\u001b[38;2;204;153;255m                                                               \u001b[0m| 1/600 [00:02<24:53,  2.49s/it]\u001b[0m"
     ]
    },
    {
     "name": "stdout",
     "output_type": "stream",
     "text": [
      "tensor(-0.0479, device='cuda:0') tensor(1.0431, device='cuda:0')\n",
      "tensor(-0.0533, device='cuda:0') tensor(1.0301, device='cuda:0')\n"
     ]
    },
    {
     "name": "stderr",
     "output_type": "stream",
     "text": [
      "  0%|\u001b[38;2;204;153;255m▎                                                              \u001b[0m| 3/600 [00:02<06:41,  1.49it/s]\u001b[0m"
     ]
    },
    {
     "name": "stdout",
     "output_type": "stream",
     "text": [
      "tensor(-0.0499, device='cuda:0') tensor(1.0409, device='cuda:0')\n",
      "tensor(-0.0265, device='cuda:0') tensor(1.0283, device='cuda:0')\n"
     ]
    },
    {
     "name": "stderr",
     "output_type": "stream",
     "text": [
      "  1%|\u001b[38;2;204;153;255m▋                                                              \u001b[0m| 6/600 [00:03<02:31,  3.91it/s]\u001b[0m"
     ]
    },
    {
     "name": "stdout",
     "output_type": "stream",
     "text": [
      "tensor(-0.0345, device='cuda:0') tensor(1.0396, device='cuda:0')\n",
      "tensor(-0.0575, device='cuda:0') tensor(1.0477, device='cuda:0')\n",
      "tensor(-0.0401, device='cuda:0') tensor(1.0560, device='cuda:0')\n",
      "tensor(-0.0657, device='cuda:0') tensor(1.0810, device='cuda:0')\n"
     ]
    },
    {
     "name": "stderr",
     "output_type": "stream",
     "text": [
      "  2%|\u001b[38;2;204;153;255m▉                                                              \u001b[0m| 9/600 [00:03<01:27,  6.74it/s]\u001b[0m"
     ]
    },
    {
     "name": "stdout",
     "output_type": "stream",
     "text": [
      "tensor(-0.0359, device='cuda:0') tensor(1.0445, device='cuda:0')\n",
      "tensor(-0.0560, device='cuda:0') tensor(1.1149, device='cuda:0')\n",
      "tensor(-0.0909, device='cuda:0') tensor(1.0677, device='cuda:0')\n"
     ]
    },
    {
     "name": "stderr",
     "output_type": "stream",
     "text": [
      "  2%|\u001b[38;2;204;153;255m█▏                                                            \u001b[0m| 11/600 [00:03<01:21,  7.25it/s]\u001b[0m"
     ]
    },
    {
     "name": "stdout",
     "output_type": "stream",
     "text": [
      "tensor(-0.0500, device='cuda:0') tensor(1.0275, device='cuda:0')\n",
      "tensor(-0.0636, device='cuda:0') tensor(1.0315, device='cuda:0')\n"
     ]
    },
    {
     "name": "stderr",
     "output_type": "stream",
     "text": [
      "  2%|\u001b[38;2;204;153;255m█▍                                                            \u001b[0m| 14/600 [00:03<01:25,  6.88it/s]\u001b[0m"
     ]
    },
    {
     "name": "stdout",
     "output_type": "stream",
     "text": [
      "tensor(-0.0389, device='cuda:0') tensor(1.0418, device='cuda:0')\n",
      "tensor(-0.0365, device='cuda:0') tensor(1.0598, device='cuda:0')\n"
     ]
    },
    {
     "name": "stderr",
     "output_type": "stream",
     "text": [
      "  3%|\u001b[38;2;204;153;255m█▊                                                            \u001b[0m| 17/600 [00:04<01:08,  8.47it/s]\u001b[0m"
     ]
    },
    {
     "name": "stdout",
     "output_type": "stream",
     "text": [
      "tensor(-0.0686, device='cuda:0') tensor(1.1174, device='cuda:0')\n",
      "tensor(-0.1003, device='cuda:0') tensor(1.0608, device='cuda:0')\n",
      "tensor(-0.0363, device='cuda:0') tensor(1.0458, device='cuda:0')\n",
      "tensor(-0.0394, device='cuda:0') tensor(1.0187, device='cuda:0')\n",
      "tensor(-0.0313, device='cuda:0') tensor(1.0226, device='cuda:0')\n"
     ]
    },
    {
     "name": "stderr",
     "output_type": "stream",
     "text": [
      "  4%|\u001b[38;2;204;153;255m██▏                                                           \u001b[0m| 21/600 [00:04<00:42, 13.48it/s]\u001b[0m"
     ]
    },
    {
     "name": "stdout",
     "output_type": "stream",
     "text": [
      "tensor(-0.0539, device='cuda:0') tensor(1.0637, device='cuda:0')\n",
      "tensor(-0.0409, device='cuda:0') tensor(1.0658, device='cuda:0')\n",
      "tensor(-0.0499, device='cuda:0') tensor(1.0622, device='cuda:0')\n"
     ]
    },
    {
     "name": "stderr",
     "output_type": "stream",
     "text": [
      "  4%|\u001b[38;2;204;153;255m██▍                                                           \u001b[0m| 23/600 [00:04<00:48, 11.89it/s]\u001b[0m"
     ]
    },
    {
     "name": "stdout",
     "output_type": "stream",
     "text": [
      "tensor(-0.0554, device='cuda:0') tensor(1.0341, device='cuda:0')\n",
      "tensor(-0.0398, device='cuda:0') tensor(1.0773, device='cuda:0')\n"
     ]
    },
    {
     "name": "stderr",
     "output_type": "stream",
     "text": [
      "  4%|\u001b[38;2;204;153;255m██▌                                                           \u001b[0m| 25/600 [00:04<00:58,  9.89it/s]\u001b[0m"
     ]
    },
    {
     "name": "stdout",
     "output_type": "stream",
     "text": [
      "tensor(-0.0635, device='cuda:0') tensor(1.0116, device='cuda:0')\n",
      "tensor(-0.0557, device='cuda:0') tensor(1.0277, device='cuda:0')\n"
     ]
    },
    {
     "name": "stderr",
     "output_type": "stream",
     "text": [
      "  5%|\u001b[38;2;204;153;255m██▉                                                           \u001b[0m| 29/600 [00:05<01:00,  9.48it/s]\u001b[0m"
     ]
    },
    {
     "name": "stdout",
     "output_type": "stream",
     "text": [
      "tensor(-0.0389, device='cuda:0') tensor(1.0562, device='cuda:0')\n",
      "tensor(-0.0342, device='cuda:0') tensor(1.0255, device='cuda:0')\n",
      "tensor(-0.0337, device='cuda:0') tensor(1.0318, device='cuda:0')\n"
     ]
    },
    {
     "name": "stderr",
     "output_type": "stream",
     "text": [
      "  5%|\u001b[38;2;204;153;255m███▏                                                          \u001b[0m| 31/600 [00:05<00:54, 10.47it/s]\u001b[0m"
     ]
    },
    {
     "name": "stdout",
     "output_type": "stream",
     "text": [
      "tensor(-0.0601, device='cuda:0') tensor(1.0643, device='cuda:0')\n",
      "tensor(-0.0451, device='cuda:0') tensor(1.0667, device='cuda:0')\n",
      "tensor(-0.0539, device='cuda:0') tensor(1.0303, device='cuda:0')\n"
     ]
    },
    {
     "name": "stderr",
     "output_type": "stream",
     "text": [
      "  6%|\u001b[38;2;204;153;255m███▌                                                          \u001b[0m| 34/600 [00:06<01:20,  7.00it/s]\u001b[0m"
     ]
    },
    {
     "name": "stdout",
     "output_type": "stream",
     "text": [
      "tensor(-0.0408, device='cuda:0') tensor(1.0716, device='cuda:0')\n",
      "tensor(-0.0396, device='cuda:0') tensor(1.0348, device='cuda:0')\n"
     ]
    },
    {
     "name": "stderr",
     "output_type": "stream",
     "text": [
      "  6%|\u001b[38;2;204;153;255m███▊                                                          \u001b[0m| 37/600 [00:06<01:07,  8.38it/s]\u001b[0m"
     ]
    },
    {
     "name": "stdout",
     "output_type": "stream",
     "text": [
      "tensor(-0.0383, device='cuda:0') tensor(1.0558, device='cuda:0')\n",
      "tensor(-0.0264, device='cuda:0') tensor(1.0631, device='cuda:0')\n",
      "tensor(-0.0682, device='cuda:0') tensor(1.1205, device='cuda:0')\n",
      "tensor(-0.0675, device='cuda:0') tensor(1.0318, device='cuda:0')\n"
     ]
    },
    {
     "name": "stderr",
     "output_type": "stream",
     "text": [
      "  7%|\u001b[38;2;204;153;255m████▏                                                         \u001b[0m| 40/600 [00:06<00:48, 11.53it/s]\u001b[0m"
     ]
    },
    {
     "name": "stdout",
     "output_type": "stream",
     "text": [
      "tensor(-0.0415, device='cuda:0') tensor(1.0547, device='cuda:0')\n",
      "tensor(-0.0509, device='cuda:0') tensor(1.0276, device='cuda:0')\n",
      "tensor(-0.0565, device='cuda:0') tensor(1.0797, device='cuda:0')\n",
      "tensor(-0.0499, device='cuda:0') tensor(1.0769, device='cuda:0')\n"
     ]
    },
    {
     "name": "stderr",
     "output_type": "stream",
     "text": [
      "  7%|\u001b[38;2;204;153;255m████▍                                                         \u001b[0m| 43/600 [00:06<00:46, 12.09it/s]\u001b[0m"
     ]
    },
    {
     "name": "stdout",
     "output_type": "stream",
     "text": [
      "tensor(-0.0407, device='cuda:0') tensor(1.0537, device='cuda:0')\n",
      "tensor(-0.0624, device='cuda:0') tensor(1.0751, device='cuda:0')\n"
     ]
    },
    {
     "name": "stderr",
     "output_type": "stream",
     "text": [
      "  8%|\u001b[38;2;204;153;255m████▋                                                         \u001b[0m| 45/600 [00:07<00:54, 10.24it/s]\u001b[0m"
     ]
    },
    {
     "name": "stdout",
     "output_type": "stream",
     "text": [
      "tensor(-0.0628, device='cuda:0') tensor(1.0650, device='cuda:0')\n",
      "tensor(-0.0521, device='cuda:0') tensor(1.0512, device='cuda:0')\n"
     ]
    },
    {
     "name": "stderr",
     "output_type": "stream",
     "text": [
      "  8%|\u001b[38;2;204;153;255m█████                                                         \u001b[0m| 49/600 [00:07<00:57,  9.66it/s]\u001b[0m"
     ]
    },
    {
     "name": "stdout",
     "output_type": "stream",
     "text": [
      "tensor(-0.0462, device='cuda:0') tensor(1.0685, device='cuda:0')\n",
      "tensor(-0.0513, device='cuda:0') tensor(1.0449, device='cuda:0')\n",
      "tensor(-0.0365, device='cuda:0') tensor(1.0431, device='cuda:0')\n",
      "tensor(-0.0556, device='cuda:0') tensor(1.0497, device='cuda:0')\n"
     ]
    },
    {
     "name": "stderr",
     "output_type": "stream",
     "text": [
      "  8%|\u001b[38;2;204;153;255m█████▎                                                        \u001b[0m| 51/600 [00:07<00:50, 10.82it/s]\u001b[0m"
     ]
    },
    {
     "name": "stdout",
     "output_type": "stream",
     "text": [
      "tensor(-0.0350, device='cuda:0') tensor(1.0691, device='cuda:0')\n",
      "tensor(-0.0488, device='cuda:0') tensor(1.0780, device='cuda:0')\n"
     ]
    },
    {
     "name": "stderr",
     "output_type": "stream",
     "text": [
      "  9%|\u001b[38;2;204;153;255m█████▍                                                        \u001b[0m| 53/600 [00:08<01:04,  8.51it/s]\u001b[0m"
     ]
    },
    {
     "name": "stdout",
     "output_type": "stream",
     "text": [
      "tensor(-0.0332, device='cuda:0') tensor(1.0277, device='cuda:0')\n"
     ]
    },
    {
     "name": "stderr",
     "output_type": "stream",
     "text": [
      "  9%|\u001b[38;2;204;153;255m█████▋                                                        \u001b[0m| 55/600 [00:08<01:21,  6.67it/s]\u001b[0m"
     ]
    },
    {
     "name": "stdout",
     "output_type": "stream",
     "text": [
      "tensor(-0.0516, device='cuda:0') tensor(1.0478, device='cuda:0')\n",
      "tensor(-0.0470, device='cuda:0') tensor(1.1053, device='cuda:0')\n",
      "tensor(-0.0315, device='cuda:0') tensor(1.0362, device='cuda:0')\n"
     ]
    },
    {
     "name": "stderr",
     "output_type": "stream",
     "text": [
      " 10%|\u001b[38;2;204;153;255m██████▏                                                       \u001b[0m| 60/600 [00:08<00:53, 10.01it/s]\u001b[0m"
     ]
    },
    {
     "name": "stdout",
     "output_type": "stream",
     "text": [
      "tensor(-0.0259, device='cuda:0') tensor(1.0407, device='cuda:0')\n",
      "tensor(-0.0500, device='cuda:0') tensor(1.0351, device='cuda:0')\n",
      "tensor(-0.0531, device='cuda:0') tensor(1.0354, device='cuda:0')\n",
      "tensor(-0.0278, device='cuda:0') tensor(1.0424, device='cuda:0')\n",
      "tensor(-0.0534, device='cuda:0') tensor(1.0383, device='cuda:0')\n"
     ]
    },
    {
     "name": "stderr",
     "output_type": "stream",
     "text": [
      " 10%|\u001b[38;2;204;153;255m██████▍                                                       \u001b[0m| 62/600 [00:09<01:01,  8.81it/s]\u001b[0m"
     ]
    },
    {
     "name": "stdout",
     "output_type": "stream",
     "text": [
      "tensor(-0.0667, device='cuda:0') tensor(1.0816, device='cuda:0')\n",
      "tensor(-0.0357, device='cuda:0') tensor(1.0445, device='cuda:0')\n"
     ]
    },
    {
     "name": "stderr",
     "output_type": "stream",
     "text": [
      " 11%|\u001b[38;2;204;153;255m██████▉                                                       \u001b[0m| 67/600 [00:09<00:55,  9.64it/s]\u001b[0m"
     ]
    },
    {
     "name": "stdout",
     "output_type": "stream",
     "text": [
      "tensor(-0.0314, device='cuda:0') tensor(1.0525, device='cuda:0')\n",
      "tensor(-0.0515, device='cuda:0') tensor(1.0495, device='cuda:0')\n",
      "tensor(-0.0526, device='cuda:0') tensor(1.0497, device='cuda:0')\n"
     ]
    },
    {
     "name": "stderr",
     "output_type": "stream",
     "text": [
      " 12%|\u001b[38;2;204;153;255m███████▏                                                      \u001b[0m| 70/600 [00:09<00:39, 13.28it/s]\u001b[0m"
     ]
    },
    {
     "name": "stdout",
     "output_type": "stream",
     "text": [
      "tensor(-0.0385, device='cuda:0') tensor(1.0606, device='cuda:0')\n",
      "tensor(-0.0499, device='cuda:0') tensor(1.0624, device='cuda:0')\n",
      "tensor(-0.0460, device='cuda:0') tensor(1.0516, device='cuda:0')\n",
      "tensor(-0.0613, device='cuda:0') tensor(1.0774, device='cuda:0')\n"
     ]
    },
    {
     "name": "stderr",
     "output_type": "stream",
     "text": [
      " 12%|\u001b[38;2;204;153;255m███████▍                                                      \u001b[0m| 72/600 [00:10<00:48, 10.79it/s]\u001b[0m"
     ]
    },
    {
     "name": "stdout",
     "output_type": "stream",
     "text": [
      "tensor(-0.0507, device='cuda:0') tensor(1.0195, device='cuda:0')\n",
      "tensor(-0.0527, device='cuda:0') tensor(1.0664, device='cuda:0')\n"
     ]
    },
    {
     "name": "stderr",
     "output_type": "stream",
     "text": [
      " 12%|\u001b[38;2;204;153;255m███████▋                                                      \u001b[0m| 74/600 [00:10<00:57,  9.17it/s]\u001b[0m"
     ]
    },
    {
     "name": "stdout",
     "output_type": "stream",
     "text": [
      "tensor(-0.0647, device='cuda:0') tensor(1.0246, device='cuda:0')\n",
      "tensor(-0.0504, device='cuda:0') tensor(1.0974, device='cuda:0')\n"
     ]
    },
    {
     "name": "stderr",
     "output_type": "stream",
     "text": [
      " 13%|\u001b[38;2;204;153;255m███████▊                                                      \u001b[0m| 76/600 [00:10<01:02,  8.44it/s]\u001b[0m"
     ]
    },
    {
     "name": "stdout",
     "output_type": "stream",
     "text": [
      "tensor(-0.0496, device='cuda:0') tensor(1.0539, device='cuda:0')\n",
      "tensor(-0.0258, device='cuda:0') tensor(1.0239, device='cuda:0')\n",
      "tensor(-0.0679, device='cuda:0') tensor(1.0578, device='cuda:0')\n"
     ]
    },
    {
     "name": "stderr",
     "output_type": "stream",
     "text": [
      " 14%|\u001b[38;2;204;153;255m████████▎                                                     \u001b[0m| 81/600 [00:10<00:46, 11.21it/s]\u001b[0m"
     ]
    },
    {
     "name": "stdout",
     "output_type": "stream",
     "text": [
      "tensor(-0.0620, device='cuda:0') tensor(1.0562, device='cuda:0')\n",
      "tensor(-0.0309, device='cuda:0') tensor(1.0967, device='cuda:0')\n",
      "tensor(-0.0361, device='cuda:0') tensor(1.0316, device='cuda:0')\n",
      "tensor(-0.0499, device='cuda:0') tensor(1.0204, device='cuda:0')\n"
     ]
    },
    {
     "name": "stderr",
     "output_type": "stream",
     "text": [
      " 14%|\u001b[38;2;204;153;255m████████▉                                                     \u001b[0m| 86/600 [00:11<00:34, 14.87it/s]\u001b[0m"
     ]
    },
    {
     "name": "stdout",
     "output_type": "stream",
     "text": [
      "tensor(-0.0499, device='cuda:0') tensor(1.0457, device='cuda:0')\n",
      "tensor(-0.0339, device='cuda:0') tensor(1.0865, device='cuda:0')\n",
      "tensor(-0.0455, device='cuda:0') tensor(1.0490, device='cuda:0')\n",
      "tensor(-0.0472, device='cuda:0') tensor(1.0319, device='cuda:0')\n",
      "tensor(-0.0586, device='cuda:0') tensor(1.0583, device='cuda:0')\n"
     ]
    },
    {
     "name": "stderr",
     "output_type": "stream",
     "text": [
      " 15%|\u001b[38;2;204;153;255m█████████▎                                                    \u001b[0m| 90/600 [00:11<00:41, 12.35it/s]\u001b[0m"
     ]
    },
    {
     "name": "stdout",
     "output_type": "stream",
     "text": [
      "tensor(-0.0304, device='cuda:0') tensor(1.0738, device='cuda:0')\n",
      "tensor(-0.0345, device='cuda:0') tensor(1.0166, device='cuda:0')\n",
      "tensor(-0.0664, device='cuda:0') tensor(1.0547, device='cuda:0')\n",
      "tensor(-0.0621, device='cuda:0') tensor(1.0356, device='cuda:0')\n"
     ]
    },
    {
     "name": "stderr",
     "output_type": "stream",
     "text": [
      " 16%|\u001b[38;2;204;153;255m█████████▌                                                    \u001b[0m| 93/600 [00:11<00:32, 15.52it/s]\u001b[0m"
     ]
    },
    {
     "name": "stdout",
     "output_type": "stream",
     "text": [
      "tensor(-0.0317, device='cuda:0') tensor(1.0224, device='cuda:0')\n",
      "tensor(-0.0631, device='cuda:0') tensor(1.0230, device='cuda:0')\n",
      "tensor(-0.0471, device='cuda:0') tensor(1.0359, device='cuda:0')\n",
      "tensor(-0.0261, device='cuda:0') tensor(1.0367, device='cuda:0')\n"
     ]
    },
    {
     "name": "stderr",
     "output_type": "stream",
     "text": [
      " 16%|\u001b[38;2;204;153;255m██████████▏                                                   \u001b[0m| 98/600 [00:12<00:35, 14.19it/s]\u001b[0m"
     ]
    },
    {
     "name": "stdout",
     "output_type": "stream",
     "text": [
      "tensor(-0.0499, device='cuda:0') tensor(1.0349, device='cuda:0')\n",
      "tensor(-0.0647, device='cuda:0') tensor(1.0854, device='cuda:0')\n",
      "tensor(-0.0467, device='cuda:0') tensor(1.0664, device='cuda:0')\n"
     ]
    },
    {
     "name": "stderr",
     "output_type": "stream",
     "text": [
      " 17%|\u001b[38;2;204;153;255m██████████▎                                                  \u001b[0m| 102/600 [00:12<00:48, 10.23it/s]\u001b[0m"
     ]
    },
    {
     "name": "stdout",
     "output_type": "stream",
     "text": [
      "tensor(-0.0416, device='cuda:0') tensor(1.0349, device='cuda:0')\n",
      "tensor(-0.0624, device='cuda:0') tensor(1.0303, device='cuda:0')\n",
      "tensor(-0.0424, device='cuda:0') tensor(1.0605, device='cuda:0')\n",
      "tensor(-0.0509, device='cuda:0') tensor(1.0879, device='cuda:0')\n"
     ]
    },
    {
     "name": "stderr",
     "output_type": "stream",
     "text": [
      " 18%|\u001b[38;2;204;153;255m██████████▋                                                  \u001b[0m| 105/600 [00:12<00:38, 12.83it/s]\u001b[0m"
     ]
    },
    {
     "name": "stdout",
     "output_type": "stream",
     "text": [
      "tensor(-0.0537, device='cuda:0') tensor(1.0540, device='cuda:0')\n",
      "tensor(-0.0468, device='cuda:0') tensor(1.0951, device='cuda:0')\n",
      "tensor(-0.0509, device='cuda:0') tensor(1.0653, device='cuda:0')\n",
      "tensor(-0.0345, device='cuda:0') tensor(1.0334, device='cuda:0')\n"
     ]
    },
    {
     "name": "stderr",
     "output_type": "stream",
     "text": [
      " 18%|\u001b[38;2;204;153;255m███████████▎                                                 \u001b[0m| 111/600 [00:13<00:46, 10.58it/s]\u001b[0m"
     ]
    },
    {
     "name": "stdout",
     "output_type": "stream",
     "text": [
      "tensor(-0.0370, device='cuda:0') tensor(1.0304, device='cuda:0')\n",
      "tensor(-0.0484, device='cuda:0') tensor(1.0437, device='cuda:0')\n",
      "tensor(-0.0513, device='cuda:0') tensor(1.0286, device='cuda:0')\n",
      "tensor(-0.0535, device='cuda:0') tensor(1.0511, device='cuda:0')\n",
      "tensor(-0.0367, device='cuda:0') tensor(1.0365, device='cuda:0')\n"
     ]
    },
    {
     "name": "stderr",
     "output_type": "stream",
     "text": [
      " 19%|\u001b[38;2;204;153;255m███████████▌                                                 \u001b[0m| 114/600 [00:13<00:36, 13.35it/s]\u001b[0m"
     ]
    },
    {
     "name": "stdout",
     "output_type": "stream",
     "text": [
      "tensor(-0.0311, device='cuda:0') tensor(1.0793, device='cuda:0')\n",
      "tensor(-0.0230, device='cuda:0') tensor(1.0203, device='cuda:0')\n",
      "tensor(-0.0556, device='cuda:0') tensor(1.0308, device='cuda:0')\n",
      "tensor(-0.0402, device='cuda:0') tensor(1.0413, device='cuda:0')\n",
      "tensor(-0.0337, device='cuda:0') tensor(1.0293, device='cuda:0')\n"
     ]
    },
    {
     "name": "stderr",
     "output_type": "stream",
     "text": [
      " 20%|\u001b[38;2;204;153;255m███████████▉                                                 \u001b[0m| 118/600 [00:14<01:04,  7.45it/s]\u001b[0m"
     ]
    },
    {
     "name": "stdout",
     "output_type": "stream",
     "text": [
      "tensor(-0.0356, device='cuda:0') tensor(1.0264, device='cuda:0')\n",
      "tensor(-0.0660, device='cuda:0') tensor(1.0551, device='cuda:0')\n",
      "tensor(-0.0569, device='cuda:0') tensor(1.0348, device='cuda:0')\n"
     ]
    },
    {
     "name": "stderr",
     "output_type": "stream",
     "text": [
      " 20%|\u001b[38;2;204;153;255m████████████▎                                                \u001b[0m| 121/600 [00:14<00:48,  9.95it/s]\u001b[0m"
     ]
    },
    {
     "name": "stdout",
     "output_type": "stream",
     "text": [
      "tensor(-0.0356, device='cuda:0') tensor(1.1052, device='cuda:0')\n",
      "tensor(-0.0637, device='cuda:0') tensor(0.9964, device='cuda:0')\n",
      "tensor(-0.0552, device='cuda:0') tensor(1.0103, device='cuda:0')\n",
      "tensor(-0.0311, device='cuda:0') tensor(1.0301, device='cuda:0')\n"
     ]
    },
    {
     "name": "stderr",
     "output_type": "stream",
     "text": [
      " 20%|\u001b[38;2;204;153;255m████████████▌                                                \u001b[0m| 123/600 [00:14<00:51,  9.29it/s]\u001b[0m"
     ]
    },
    {
     "name": "stdout",
     "output_type": "stream",
     "text": [
      "tensor(-0.0644, device='cuda:0') tensor(1.0361, device='cuda:0')\n",
      "tensor(-0.0294, device='cuda:0') "
     ]
    },
    {
     "name": "stderr",
     "output_type": "stream",
     "text": [
      " 21%|\u001b[38;2;204;153;255m████████████▋                                                \u001b[0m| 125/600 [00:15<01:02,  7.64it/s]\u001b[0m"
     ]
    },
    {
     "name": "stdout",
     "output_type": "stream",
     "text": [
      "tensor(1.0535, device='cuda:0')\n",
      "tensor(-0.0355, device='cuda:0') tensor(1.0686, device='cuda:0')\n",
      "tensor(-0.0439, device='cuda:0') tensor(1.0657, device='cuda:0')\n"
     ]
    },
    {
     "name": "stderr",
     "output_type": "stream",
     "text": [
      " 22%|\u001b[38;2;204;153;255m█████████████▎                                               \u001b[0m| 131/600 [00:15<00:43, 10.71it/s]\u001b[0m"
     ]
    },
    {
     "name": "stdout",
     "output_type": "stream",
     "text": [
      "tensor(-0.0401, device='cuda:0') tensor(1.0439, device='cuda:0')\n",
      "tensor(-0.0414, device='cuda:0') tensor(1.0443, device='cuda:0')\n",
      "tensor(-0.0207, device='cuda:0') tensor(1.0186, device='cuda:0')\n",
      "tensor(-0.0371, device='cuda:0') tensor(1.0350, device='cuda:0')\n",
      "tensor(-0.0438, device='cuda:0') tensor(1.0829, device='cuda:0')\n",
      "tensor(-0.0526, device='cuda:0') tensor(1.0566, device='cuda:0')\n"
     ]
    },
    {
     "name": "stderr",
     "output_type": "stream",
     "text": [
      " 23%|\u001b[38;2;204;153;255m██████████████                                               \u001b[0m| 138/600 [00:16<00:26, 17.75it/s]\u001b[0m"
     ]
    },
    {
     "name": "stdout",
     "output_type": "stream",
     "text": [
      "tensor(-0.0701, device='cuda:0') tensor(1.0549, device='cuda:0')\n",
      "tensor(-0.0348, device='cuda:0') tensor(1.0882, device='cuda:0')\n",
      "tensor(-0.0448, device='cuda:0') tensor(1.0427, device='cuda:0')\n",
      "tensor(-0.0495, device='cuda:0') tensor(1.0551, device='cuda:0')\n",
      "tensor(-0.0584, device='cuda:0') tensor(1.0605, device='cuda:0')\n"
     ]
    },
    {
     "name": "stderr",
     "output_type": "stream",
     "text": [
      " 24%|\u001b[38;2;204;153;255m██████████████▎                                              \u001b[0m| 141/600 [00:16<00:37, 12.21it/s]\u001b[0m"
     ]
    },
    {
     "name": "stdout",
     "output_type": "stream",
     "text": [
      "tensor(-0.0533, device='cuda:0') tensor(1.0311, device='cuda:0')\n",
      "tensor(-0.0317, device='cuda:0') tensor(1.0280, device='cuda:0')\n",
      "tensor(-0.0343, device='cuda:0') tensor(1.0975, device='cuda:0')\n",
      "tensor(-0.0503, device='cuda:0') tensor(1.0604, device='cuda:0')\n",
      "tensor(-0.0535, device='cuda:0') tensor(1.0499, device='cuda:0')\n"
     ]
    },
    {
     "name": "stderr",
     "output_type": "stream",
     "text": [
      " 24%|\u001b[38;2;204;153;255m██████████████▊                                              \u001b[0m| 146/600 [00:16<00:36, 12.60it/s]\u001b[0m"
     ]
    },
    {
     "name": "stdout",
     "output_type": "stream",
     "text": [
      "tensor(-0.0378, device='cuda:0') tensor(1.0158, device='cuda:0')\n",
      "tensor(-0.0465, device='cuda:0') tensor(1.0235, device='cuda:0')\n",
      "tensor(-0.0346, device='cuda:0') tensor(1.0349, device='cuda:0')\n"
     ]
    },
    {
     "name": "stderr",
     "output_type": "stream",
     "text": [
      " 25%|\u001b[38;2;204;153;255m███████████████▎                                             \u001b[0m| 151/600 [00:17<00:44, 10.14it/s]\u001b[0m"
     ]
    },
    {
     "name": "stdout",
     "output_type": "stream",
     "text": [
      "tensor(-0.0470, device='cuda:0') tensor(1.0762, device='cuda:0')\n",
      "tensor(-0.0544, device='cuda:0') tensor(1.0792, device='cuda:0')\n",
      "tensor(-0.0686, device='cuda:0') tensor(1.0286, device='cuda:0')\n",
      "tensor(-0.0334, device='cuda:0') tensor(1.0610, device='cuda:0')\n",
      "tensor(-0.0506, device='cuda:0') tensor(1.0551, device='cuda:0')\n",
      "tensor(-0.0462, device='cuda:0') tensor(1.0339, device='cuda:0')\n"
     ]
    },
    {
     "name": "stderr",
     "output_type": "stream",
     "text": [
      " 26%|\u001b[38;2;204;153;255m███████████████▋                                             \u001b[0m| 154/600 [00:17<00:34, 12.79it/s]\u001b[0m"
     ]
    },
    {
     "name": "stdout",
     "output_type": "stream",
     "text": [
      "tensor(-0.0533, device='cuda:0') tensor(1.0194, device='cuda:0')\n",
      "tensor(-0.0610, device='cuda:0') tensor(1.0613, device='cuda:0')\n",
      "tensor(-0.0465, device='cuda:0') tensor(1.0658, device='cuda:0')\n",
      "tensor(-0.0390, device='cuda:0') tensor(1.0363, device='cuda:0')\n"
     ]
    },
    {
     "name": "stderr",
     "output_type": "stream",
     "text": [
      " 26%|\u001b[38;2;204;153;255m███████████████▊                                             \u001b[0m| 156/600 [00:18<01:07,  6.55it/s]\u001b[0m"
     ]
    },
    {
     "name": "stdout",
     "output_type": "stream",
     "text": [
      "tensor(-0.0447, device='cuda:0') tensor(1.0881, device='cuda:0')\n",
      "tensor(-0.0286, device='cuda:0') tensor(1.0238, device='cuda:0')\n"
     ]
    },
    {
     "name": "stderr",
     "output_type": "stream",
     "text": [
      " 27%|\u001b[38;2;204;153;255m████████████████▎                                            \u001b[0m| 160/600 [00:18<00:58,  7.48it/s]\u001b[0m"
     ]
    },
    {
     "name": "stdout",
     "output_type": "stream",
     "text": [
      "tensor(-0.0541, device='cuda:0') tensor(1.0435, device='cuda:0')\n",
      "tensor(-0.0434, device='cuda:0') tensor(1.0503, device='cuda:0')\n",
      "tensor(-0.0322, device='cuda:0') tensor(1.0685, device='cuda:0')\n",
      "tensor(-0.0426, device='cuda:0') tensor(1.0315, device='cuda:0')\n"
     ]
    },
    {
     "name": "stderr",
     "output_type": "stream",
     "text": [
      " 27%|\u001b[38;2;204;153;255m████████████████▌                                            \u001b[0m| 163/600 [00:19<00:52,  8.30it/s]\u001b[0m"
     ]
    },
    {
     "name": "stdout",
     "output_type": "stream",
     "text": [
      "tensor(-0.0381, device='cuda:0') tensor(1.0323, device='cuda:0')\n",
      "tensor(-0.0325, device='cuda:0') tensor(1.0261, device='cuda:0')\n"
     ]
    },
    {
     "name": "stderr",
     "output_type": "stream",
     "text": [
      " 28%|\u001b[38;2;204;153;255m████████████████▊                                            \u001b[0m| 165/600 [00:19<00:55,  7.89it/s]\u001b[0m"
     ]
    },
    {
     "name": "stdout",
     "output_type": "stream",
     "text": [
      "tensor(-0.0354, device='cuda:0') tensor(1.0263, device='cuda:0')\n",
      "tensor(-0.0308, device='cuda:0') tensor(1.0529, device='cuda:0')\n"
     ]
    },
    {
     "name": "stderr",
     "output_type": "stream",
     "text": [
      " 28%|\u001b[38;2;204;153;255m████████████████▉                                            \u001b[0m| 167/600 [00:19<00:58,  7.43it/s]\u001b[0m"
     ]
    },
    {
     "name": "stdout",
     "output_type": "stream",
     "text": [
      "tensor(-0.0345, device='cuda:0') tensor(1.0473, device='cuda:0')\n",
      "tensor(-0.0649, device='cuda:0') tensor(1.0384, device='cuda:0')\n"
     ]
    },
    {
     "name": "stderr",
     "output_type": "stream",
     "text": [
      " 28%|\u001b[38;2;204;153;255m█████████████████▍                                           \u001b[0m| 171/600 [00:20<00:40, 10.56it/s]\u001b[0m"
     ]
    },
    {
     "name": "stdout",
     "output_type": "stream",
     "text": [
      "tensor(-0.0499, device='cuda:0') tensor(1.0343, device='cuda:0')\n",
      "tensor(-0.0484, device='cuda:0') tensor(1.0410, device='cuda:0')\n",
      "tensor(-0.0264, device='cuda:0') tensor(1.0260, device='cuda:0')\n",
      "tensor(-0.0666, device='cuda:0') tensor(1.0522, device='cuda:0')\n",
      "tensor(-0.0658, device='cuda:0') tensor(1.0825, device='cuda:0')\n"
     ]
    },
    {
     "name": "stderr",
     "output_type": "stream",
     "text": [
      " 29%|\u001b[38;2;204;153;255m█████████████████▉                                           \u001b[0m| 176/600 [00:20<00:29, 14.17it/s]\u001b[0m"
     ]
    },
    {
     "name": "stdout",
     "output_type": "stream",
     "text": [
      "tensor(-0.0535, device='cuda:0') tensor(1.0607, device='cuda:0')\n",
      "tensor(-0.0579, device='cuda:0') tensor(1.0426, device='cuda:0')\n",
      "tensor(-0.0499, device='cuda:0') tensor(1.0447, device='cuda:0')\n",
      "tensor(-0.0515, device='cuda:0') tensor(1.0575, device='cuda:0')\n"
     ]
    },
    {
     "name": "stderr",
     "output_type": "stream",
     "text": [
      " 30%|\u001b[38;2;204;153;255m██████████████████                                           \u001b[0m| 178/600 [00:20<00:38, 10.85it/s]\u001b[0m"
     ]
    },
    {
     "name": "stdout",
     "output_type": "stream",
     "text": [
      "tensor(-0.0505, device='cuda:0') tensor(1.0288, device='cuda:0')\n",
      "tensor(-0.0607, device='cuda:0') tensor(1.0479, device='cuda:0')\n"
     ]
    },
    {
     "name": "stderr",
     "output_type": "stream",
     "text": [
      " 30%|\u001b[38;2;204;153;255m██████████████████▎                                          \u001b[0m| 180/600 [00:21<00:51,  8.11it/s]\u001b[0m"
     ]
    },
    {
     "name": "stdout",
     "output_type": "stream",
     "text": [
      "tensor(-0.0518, device='cuda:0') tensor(1.0656, device='cuda:0')\n",
      "tensor(-0.0462, device='cuda:0') "
     ]
    },
    {
     "name": "stderr",
     "output_type": "stream",
     "text": [
      " 30%|\u001b[38;2;204;153;255m██████████████████▌                                          \u001b[0m| 182/600 [00:21<00:44,  9.38it/s]\u001b[0m"
     ]
    },
    {
     "name": "stdout",
     "output_type": "stream",
     "text": [
      "tensor(1.0425, device='cuda:0')\n",
      "tensor(-0.0499, device='cuda:0') tensor(1.0645, device='cuda:0')\n",
      "tensor(-0.0537, device='cuda:0') tensor(1.0492, device='cuda:0')\n",
      "tensor(-0.0506, device='cuda:0') tensor(1.0503, device='cuda:0')\n",
      "tensor(-0.0530, device='cuda:0') tensor(1.0328, device='cuda:0')\n"
     ]
    },
    {
     "name": "stderr",
     "output_type": "stream",
     "text": [
      " 32%|\u001b[38;2;204;153;255m███████████████████▍                                         \u001b[0m| 191/600 [00:21<00:23, 17.29it/s]\u001b[0m"
     ]
    },
    {
     "name": "stdout",
     "output_type": "stream",
     "text": [
      "tensor(-0.0249, device='cuda:0') tensor(1.0651, device='cuda:0')\n",
      "tensor(-0.0247, device='cuda:0') tensor(1.0516, device='cuda:0')\n",
      "tensor(-0.0926, device='cuda:0') tensor(1.1319, device='cuda:0')\n",
      "tensor(-0.0375, device='cuda:0') tensor(1.0211, device='cuda:0')\n",
      "tensor(-0.0565, device='cuda:0') tensor(1.0446, device='cuda:0')\n",
      "tensor(-0.0294, device='cuda:0') tensor(1.0773, device='cuda:0')\n",
      "tensor(-0.0508, device='cuda:0') tensor(1.0538, device='cuda:0')\n",
      "tensor(-0.0453, device='cuda:0') tensor(1.0453, device='cuda:0')\n",
      "tensor(-0.0660, device='cuda:0') tensor(1.0559, device='cuda:0')\n"
     ]
    },
    {
     "name": "stderr",
     "output_type": "stream",
     "text": [
      " 32%|\u001b[38;2;204;153;255m███████████████████▋                                         \u001b[0m| 194/600 [00:22<00:41,  9.68it/s]\u001b[0m"
     ]
    },
    {
     "name": "stdout",
     "output_type": "stream",
     "text": [
      "tensor(-0.0250, device='cuda:0') tensor(1.0480, device='cuda:0')\n",
      "tensor(-0.0502, device='cuda:0') tensor(1.0623, device='cuda:0')\n"
     ]
    },
    {
     "name": "stderr",
     "output_type": "stream",
     "text": [
      " 33%|\u001b[38;2;204;153;255m████████████████████▏                                        \u001b[0m| 198/600 [00:22<00:38, 10.53it/s]\u001b[0m"
     ]
    },
    {
     "name": "stdout",
     "output_type": "stream",
     "text": [
      "tensor(-0.0600, device='cuda:0') tensor(1.0263, device='cuda:0')\n",
      "tensor(-0.0455, device='cuda:0') tensor(1.0548, device='cuda:0')\n",
      "tensor(-0.0553, device='cuda:0') tensor(1.0396, device='cuda:0')\n",
      "tensor(-0.0319, device='cuda:0') tensor(1.0585, device='cuda:0')\n"
     ]
    },
    {
     "name": "stderr",
     "output_type": "stream",
     "text": [
      " 34%|\u001b[38;2;204;153;255m████████████████████▋                                        \u001b[0m| 204/600 [00:22<00:28, 13.84it/s]\u001b[0m"
     ]
    },
    {
     "name": "stdout",
     "output_type": "stream",
     "text": [
      "tensor(-0.0634, device='cuda:0') tensor(1.0841, device='cuda:0')\n",
      "tensor(-0.0580, device='cuda:0') tensor(1.0230, device='cuda:0')\n",
      "tensor(-0.0295, device='cuda:0') tensor(1.0269, device='cuda:0')\n",
      "tensor(-0.0185, device='cuda:0') tensor(1.0272, device='cuda:0')\n",
      "tensor(-0.0506, device='cuda:0') tensor(1.0886, device='cuda:0')\n"
     ]
    },
    {
     "name": "stderr",
     "output_type": "stream",
     "text": [
      " 34%|\u001b[38;2;204;153;255m████████████████████▉                                        \u001b[0m| 206/600 [00:23<00:46,  8.54it/s]\u001b[0m"
     ]
    },
    {
     "name": "stdout",
     "output_type": "stream",
     "text": [
      "tensor(-0.0657, device='cuda:0') tensor(1.0662, device='cuda:0')\n",
      "tensor(-0.0590, device='cuda:0') tensor(1.0445, device='cuda:0')\n",
      "tensor(-0.0291, device='cuda:0') tensor(1.0554, device='cuda:0')\n"
     ]
    },
    {
     "name": "stderr",
     "output_type": "stream",
     "text": [
      " 35%|\u001b[38;2;204;153;255m█████████████████████▎                                       \u001b[0m| 210/600 [00:23<00:44,  8.73it/s]\u001b[0m"
     ]
    },
    {
     "name": "stdout",
     "output_type": "stream",
     "text": [
      "tensor(-0.0500, device='cuda:0') tensor(1.0515, device='cuda:0')\n",
      "tensor(-0.0283, device='cuda:0') tensor(1.0273, device='cuda:0')\n",
      "tensor(-0.0499, device='cuda:0') tensor(1.0502, device='cuda:0')\n",
      "tensor(-0.0622, device='cuda:0') tensor(1.0550, device='cuda:0')\n"
     ]
    },
    {
     "name": "stderr",
     "output_type": "stream",
     "text": [
      " 36%|\u001b[38;2;204;153;255m█████████████████████▋                                       \u001b[0m| 213/600 [00:23<00:33, 11.57it/s]\u001b[0m"
     ]
    },
    {
     "name": "stdout",
     "output_type": "stream",
     "text": [
      "tensor(-0.0475, device='cuda:0') tensor(1.0538, device='cuda:0')\n",
      "tensor(-0.0463, device='cuda:0') tensor(1.0535, device='cuda:0')\n",
      "tensor(-0.0427, device='cuda:0') tensor(1.0231, device='cuda:0')\n",
      "tensor(-0.0506, device='cuda:0') tensor(1.0587, device='cuda:0')\n"
     ]
    },
    {
     "name": "stderr",
     "output_type": "stream",
     "text": [
      " 36%|\u001b[38;2;204;153;255m█████████████████████▉                                       \u001b[0m| 216/600 [00:24<00:32, 11.79it/s]\u001b[0m"
     ]
    },
    {
     "name": "stdout",
     "output_type": "stream",
     "text": [
      "tensor(-0.1023, device='cuda:0') tensor(1.0508, device='cuda:0')\n"
     ]
    },
    {
     "name": "stderr",
     "output_type": "stream",
     "text": [
      " 37%|\u001b[38;2;204;153;255m██████████████████████▍                                      \u001b[0m| 221/600 [00:24<00:40,  9.46it/s]\u001b[0m"
     ]
    },
    {
     "name": "stdout",
     "output_type": "stream",
     "text": [
      "tensor(-0.0351, device='cuda:0') tensor(1.0375, device='cuda:0')\n",
      "tensor(-0.0320, device='cuda:0') tensor(1.0357, device='cuda:0')\n",
      "tensor(-0.0603, device='cuda:0') tensor(1.0198, device='cuda:0')\n",
      "tensor(-0.0336, device='cuda:0') tensor(1.0252, device='cuda:0')\n",
      "tensor(-0.0532, device='cuda:0') tensor(1.0423, device='cuda:0')\n"
     ]
    },
    {
     "name": "stderr",
     "output_type": "stream",
     "text": [
      " 37%|\u001b[38;2;204;153;255m██████████████████████▋                                      \u001b[0m| 223/600 [00:25<00:36, 10.32it/s]\u001b[0m"
     ]
    },
    {
     "name": "stdout",
     "output_type": "stream",
     "text": [
      "tensor(-0.0335, device='cuda:0') tensor(1.0623, device='cuda:0')\n",
      "tensor(-0.0499, device='cuda:0') tensor(1.0521, device='cuda:0')\n",
      "tensor(-0.0425, device='cuda:0') tensor(1.0373, device='cuda:0')\n"
     ]
    },
    {
     "name": "stderr",
     "output_type": "stream",
     "text": [
      " 38%|\u001b[38;2;204;153;255m███████████████████████▍                                     \u001b[0m| 230/600 [00:25<00:25, 14.58it/s]\u001b[0m"
     ]
    },
    {
     "name": "stdout",
     "output_type": "stream",
     "text": [
      "tensor(-0.0909, device='cuda:0') tensor(1.0981, device='cuda:0')\n",
      "tensor(-0.0621, device='cuda:0') tensor(1.0483, device='cuda:0')\n",
      "tensor(-0.0559, device='cuda:0') tensor(1.1017, device='cuda:0')\n",
      "tensor(-0.0513, device='cuda:0') tensor(1.0622, device='cuda:0')\n",
      "tensor(-0.0530, device='cuda:0') tensor(1.0643, device='cuda:0')\n",
      "tensor(-0.0381, device='cuda:0') tensor(1.0500, device='cuda:0')\n"
     ]
    },
    {
     "name": "stderr",
     "output_type": "stream",
     "text": [
      " 39%|\u001b[38;2;204;153;255m███████████████████████▌                                     \u001b[0m| 232/600 [00:25<00:26, 14.14it/s]\u001b[0m"
     ]
    },
    {
     "name": "stdout",
     "output_type": "stream",
     "text": [
      "tensor(-0.0340, device='cuda:0') tensor(1.0293, device='cuda:0')\n",
      "tensor(-0.0501, device='cuda:0') tensor(1.0927, device='cuda:0')\n"
     ]
    },
    {
     "name": "stderr",
     "output_type": "stream",
     "text": [
      " 39%|\u001b[38;2;204;153;255m███████████████████████▉                                     \u001b[0m| 236/600 [00:26<00:34, 10.64it/s]\u001b[0m"
     ]
    },
    {
     "name": "stdout",
     "output_type": "stream",
     "text": [
      "tensor(-0.0560, device='cuda:0') tensor(1.0362, device='cuda:0')\n",
      "tensor(-0.0595, device='cuda:0') tensor(1.0289, device='cuda:0')\n",
      "tensor(-0.0333, device='cuda:0') tensor(1.0308, device='cuda:0')\n"
     ]
    },
    {
     "name": "stderr",
     "output_type": "stream",
     "text": [
      " 40%|\u001b[38;2;204;153;255m████████████████████████▎                                    \u001b[0m| 239/600 [00:26<00:27, 13.32it/s]\u001b[0m"
     ]
    },
    {
     "name": "stdout",
     "output_type": "stream",
     "text": [
      "tensor(-0.0404, device='cuda:0') tensor(1.0283, device='cuda:0')\n",
      "tensor(-0.0664, device='cuda:0') tensor(1.0326, device='cuda:0')\n",
      "tensor(-0.0596, device='cuda:0') tensor(1.0266, device='cuda:0')\n",
      "tensor(-0.0550, device='cuda:0') tensor(1.0424, device='cuda:0')\n",
      "tensor(-0.0568, device='cuda:0') tensor(1.0417, device='cuda:0')\n"
     ]
    },
    {
     "name": "stderr",
     "output_type": "stream",
     "text": [
      " 40%|\u001b[38;2;204;153;255m████████████████████████▌                                    \u001b[0m| 242/600 [00:26<00:39,  9.00it/s]\u001b[0m"
     ]
    },
    {
     "name": "stdout",
     "output_type": "stream",
     "text": [
      "tensor(-0.0299, device='cuda:0') tensor(1.0409, device='cuda:0')\n"
     ]
    },
    {
     "name": "stderr",
     "output_type": "stream",
     "text": [
      " 41%|\u001b[38;2;204;153;255m█████████████████████████                                    \u001b[0m| 247/600 [00:27<00:34, 10.24it/s]\u001b[0m"
     ]
    },
    {
     "name": "stdout",
     "output_type": "stream",
     "text": [
      "tensor(-0.0397, device='cuda:0') tensor(1.0481, device='cuda:0')\n",
      "tensor(-0.0513, device='cuda:0') tensor(1.0440, device='cuda:0')\n",
      "tensor(-0.0521, device='cuda:0') tensor(1.0305, device='cuda:0')\n",
      "tensor(-0.0499, device='cuda:0') tensor(1.0477, device='cuda:0')\n",
      "tensor(-0.0501, device='cuda:0') tensor(1.0311, device='cuda:0')\n",
      "tensor(-0.0584, device='cuda:0') tensor(1.0315, device='cuda:0')\n",
      "tensor(-0.0370, device='cuda:0') tensor(1.0696, device='cuda:0')\n"
     ]
    },
    {
     "name": "stderr",
     "output_type": "stream",
     "text": [
      " 42%|\u001b[38;2;204;153;255m█████████████████████████▍                                   \u001b[0m| 250/600 [00:27<00:38,  9.01it/s]\u001b[0m"
     ]
    },
    {
     "name": "stdout",
     "output_type": "stream",
     "text": [
      "tensor(-0.0374, device='cuda:0') tensor(1.0379, device='cuda:0')\n",
      "tensor(-0.0627, device='cuda:0') tensor(1.0958, device='cuda:0')\n",
      "tensor(-0.0453, device='cuda:0') tensor(1.0718, device='cuda:0')\n"
     ]
    },
    {
     "name": "stderr",
     "output_type": "stream",
     "text": [
      " 42%|\u001b[38;2;204;153;255m█████████████████████████▊                                   \u001b[0m| 254/600 [00:28<00:42,  8.18it/s]\u001b[0m"
     ]
    },
    {
     "name": "stdout",
     "output_type": "stream",
     "text": [
      "tensor(-0.0388, device='cuda:0') tensor(1.0815, device='cuda:0')\n",
      "tensor(-0.0613, device='cuda:0') tensor(1.0696, device='cuda:0')\n",
      "tensor(-0.0579, device='cuda:0') tensor(1.0602, device='cuda:0')\n",
      "tensor(-0.0663, device='cuda:0') tensor(1.0362, device='cuda:0')\n",
      "tensor(-0.0462, device='cuda:0') tensor(1.0444, device='cuda:0')\n"
     ]
    },
    {
     "name": "stderr",
     "output_type": "stream",
     "text": [
      " 43%|\u001b[38;2;204;153;255m██████████████████████████▏                                  \u001b[0m| 258/600 [00:28<00:29, 11.73it/s]\u001b[0m"
     ]
    },
    {
     "name": "stdout",
     "output_type": "stream",
     "text": [
      "tensor(-0.0363, device='cuda:0') tensor(1.0403, device='cuda:0')\n",
      "tensor(-0.0308, device='cuda:0') tensor(1.0568, device='cuda:0')\n"
     ]
    },
    {
     "name": "stderr",
     "output_type": "stream",
     "text": [
      " 43%|\u001b[38;2;204;153;255m██████████████████████████▍                                  \u001b[0m| 260/600 [00:29<00:46,  7.35it/s]\u001b[0m"
     ]
    },
    {
     "name": "stdout",
     "output_type": "stream",
     "text": [
      "tensor(-0.0530, device='cuda:0') tensor(1.0760, device='cuda:0')\n",
      "tensor(-0.0338, device='cuda:0') tensor(1.0813, device='cuda:0')\n"
     ]
    },
    {
     "name": "stderr",
     "output_type": "stream",
     "text": [
      " 44%|\u001b[38;2;204;153;255m██████████████████████████▉                                  \u001b[0m| 265/600 [00:29<00:32, 10.34it/s]\u001b[0m"
     ]
    },
    {
     "name": "stdout",
     "output_type": "stream",
     "text": [
      "tensor(-0.0474, device='cuda:0') tensor(1.0409, device='cuda:0')\n",
      "tensor(-0.0450, device='cuda:0') tensor(1.0284, device='cuda:0')\n",
      "tensor(-0.0533, device='cuda:0') tensor(1.0245, device='cuda:0')\n",
      "tensor(-0.0464, device='cuda:0') tensor(1.0386, device='cuda:0')\n",
      "tensor(-0.0468, device='cuda:0') tensor(1.0532, device='cuda:0')\n"
     ]
    },
    {
     "name": "stderr",
     "output_type": "stream",
     "text": [
      " 45%|\u001b[38;2;204;153;255m███████████████████████████▌                                 \u001b[0m| 271/600 [00:29<00:21, 15.13it/s]\u001b[0m"
     ]
    },
    {
     "name": "stdout",
     "output_type": "stream",
     "text": [
      "tensor(-0.0354, device='cuda:0') tensor(1.0547, device='cuda:0')\n",
      "tensor(-0.0604, device='cuda:0') tensor(1.1118, device='cuda:0')\n",
      "tensor(-0.0630, device='cuda:0') tensor(1.0308, device='cuda:0')\n",
      "tensor(-0.0380, device='cuda:0') tensor(1.0406, device='cuda:0')\n",
      "tensor(-0.0543, device='cuda:0') tensor(1.0682, device='cuda:0')\n",
      "tensor(-0.0583, device='cuda:0') tensor(1.0271, device='cuda:0')\n",
      "tensor(-0.0671, device='cuda:0') tensor(1.0633, device='cuda:0')\n"
     ]
    },
    {
     "name": "stderr",
     "output_type": "stream",
     "text": [
      " 46%|\u001b[38;2;204;153;255m███████████████████████████▊                                 \u001b[0m| 274/600 [00:29<00:28, 11.56it/s]\u001b[0m"
     ]
    },
    {
     "name": "stdout",
     "output_type": "stream",
     "text": [
      "tensor(-0.0669, device='cuda:0') tensor(1.0257, device='cuda:0')\n"
     ]
    },
    {
     "name": "stderr",
     "output_type": "stream",
     "text": [
      " 46%|\u001b[38;2;204;153;255m████████████████████████████                                 \u001b[0m| 276/600 [00:30<00:33,  9.61it/s]\u001b[0m"
     ]
    },
    {
     "name": "stdout",
     "output_type": "stream",
     "text": [
      "tensor(-0.0424, device='cuda:0') tensor(1.0354, device='cuda:0')\n",
      "tensor(-0.0568, device='cuda:0') tensor(1.0324, device='cuda:0')\n",
      "tensor(-0.0627, device='cuda:0') tensor(1.0502, device='cuda:0')\n"
     ]
    },
    {
     "name": "stderr",
     "output_type": "stream",
     "text": [
      " 46%|\u001b[38;2;204;153;255m████████████████████████████▎                                \u001b[0m| 278/600 [00:30<00:31, 10.24it/s]\u001b[0m"
     ]
    },
    {
     "name": "stdout",
     "output_type": "stream",
     "text": [
      "tensor(-0.0226, device='cuda:0') tensor(1.0147, device='cuda:0')\n",
      "tensor(-0.0365, device='cuda:0') tensor(1.0556, device='cuda:0')\n",
      "tensor(-0.0637, device='cuda:0') "
     ]
    },
    {
     "name": "stderr",
     "output_type": "stream",
     "text": [
      " 47%|\u001b[38;2;204;153;255m████████████████████████████▍                                \u001b[0m| 280/600 [00:30<00:34,  9.16it/s]\u001b[0m"
     ]
    },
    {
     "name": "stdout",
     "output_type": "stream",
     "text": [
      "tensor(1.0420, device='cuda:0')\n",
      "tensor(-0.0606, device='cuda:0') tensor(1.0492, device='cuda:0')\n"
     ]
    },
    {
     "name": "stderr",
     "output_type": "stream",
     "text": [
      " 47%|\u001b[38;2;204;153;255m████████████████████████████▋                                \u001b[0m| 282/600 [00:31<00:42,  7.49it/s]\u001b[0m"
     ]
    },
    {
     "name": "stdout",
     "output_type": "stream",
     "text": [
      "tensor(-0.0395, device='cuda:0') tensor(1.0668, device='cuda:0')\n"
     ]
    },
    {
     "name": "stderr",
     "output_type": "stream",
     "text": [
      " 48%|\u001b[38;2;204;153;255m████████████████████████████▉                                \u001b[0m| 285/600 [00:31<00:34,  9.21it/s]\u001b[0m"
     ]
    },
    {
     "name": "stdout",
     "output_type": "stream",
     "text": [
      "tensor(-0.0361, device='cuda:0') tensor(1.0507, device='cuda:0')\n",
      "tensor(-0.0602, device='cuda:0') tensor(1.0906, device='cuda:0')\n",
      "tensor(-0.0600, device='cuda:0') tensor(1.0799, device='cuda:0')\n",
      "tensor(-0.0261, device='cuda:0') tensor(1.0264, device='cuda:0')\n",
      "tensor(-0.0264, device='cuda:0') tensor(1.0856, device='cuda:0')\n",
      "tensor(-0.0649, device='cuda:0') tensor(1.0562, device='cuda:0')\n"
     ]
    },
    {
     "name": "stderr",
     "output_type": "stream",
     "text": [
      " 48%|\u001b[38;2;204;153;255m█████████████████████████████▎                               \u001b[0m| 288/600 [00:31<00:33,  9.41it/s]\u001b[0m"
     ]
    },
    {
     "name": "stdout",
     "output_type": "stream",
     "text": [
      "tensor(-0.0517, device='cuda:0') tensor(1.0226, device='cuda:0')\n",
      "tensor(-0.0538, device='cuda:0') tensor(1.0274, device='cuda:0')\n"
     ]
    },
    {
     "name": "stderr",
     "output_type": "stream",
     "text": [
      " 49%|\u001b[38;2;204;153;255m█████████████████████████████▊                               \u001b[0m| 293/600 [00:32<00:34,  8.90it/s]\u001b[0m"
     ]
    },
    {
     "name": "stdout",
     "output_type": "stream",
     "text": [
      "tensor(-0.0615, device='cuda:0') tensor(1.0253, device='cuda:0')\n",
      "tensor(-0.0227, device='cuda:0') tensor(1.0214, device='cuda:0')\n",
      "tensor(-0.0678, device='cuda:0') tensor(1.0845, device='cuda:0')\n"
     ]
    },
    {
     "name": "stderr",
     "output_type": "stream",
     "text": [
      " 49%|\u001b[38;2;204;153;255m██████████████████████████████                               \u001b[0m| 296/600 [00:32<00:25, 11.93it/s]\u001b[0m"
     ]
    },
    {
     "name": "stdout",
     "output_type": "stream",
     "text": [
      "tensor(-0.0476, device='cuda:0') tensor(1.0701, device='cuda:0')\n",
      "tensor(-0.0520, device='cuda:0') tensor(1.1365, device='cuda:0')\n",
      "tensor(-0.0653, device='cuda:0') tensor(1.0589, device='cuda:0')\n",
      "tensor(-0.0329, device='cuda:0') tensor(1.0650, device='cuda:0')\n"
     ]
    },
    {
     "name": "stderr",
     "output_type": "stream",
     "text": [
      " 50%|\u001b[38;2;204;153;255m██████████████████████████████▎                              \u001b[0m| 298/600 [00:32<00:28, 10.47it/s]\u001b[0m"
     ]
    },
    {
     "name": "stdout",
     "output_type": "stream",
     "text": [
      "tensor(-0.0442, device='cuda:0') tensor(1.0639, device='cuda:0')\n",
      "tensor(-0.0653, device='cuda:0') tensor(1.0228, device='cuda:0')\n"
     ]
    },
    {
     "name": "stderr",
     "output_type": "stream",
     "text": [
      " 50%|\u001b[38;2;204;153;255m██████████████████████████████▌                              \u001b[0m| 300/600 [00:33<00:32,  9.17it/s]\u001b[0m"
     ]
    },
    {
     "name": "stdout",
     "output_type": "stream",
     "text": [
      "tensor(-0.0474, device='cuda:0') tensor(1.0540, device='cuda:0')\n",
      "tensor(-0.0306, device='cuda:0') tensor(1.0610, device='cuda:0')\n"
     ]
    },
    {
     "name": "stderr",
     "output_type": "stream",
     "text": [
      " 50%|\u001b[38;2;204;153;255m██████████████████████████████▋                              \u001b[0m| 302/600 [00:33<00:36,  8.13it/s]\u001b[0m"
     ]
    },
    {
     "name": "stdout",
     "output_type": "stream",
     "text": [
      "tensor(-0.0683, device='cuda:0') tensor(1.0911, device='cuda:0')\n",
      "tensor(-0.0536, device='cuda:0') tensor(1.0854, device='cuda:0')\n",
      "tensor(-0.0318, device='cuda:0') tensor(1.1135, device='cuda:0')\n",
      "tensor(-0.0304, device='cuda:0') tensor(1.0408, device='cuda:0')\n"
     ]
    },
    {
     "name": "stderr",
     "output_type": "stream",
     "text": [
      " 51%|\u001b[38;2;204;153;255m███████████████████████████████▎                             \u001b[0m| 308/600 [00:33<00:21, 13.62it/s]\u001b[0m"
     ]
    },
    {
     "name": "stdout",
     "output_type": "stream",
     "text": [
      "tensor(-0.0531, device='cuda:0') tensor(1.0890, device='cuda:0')\n",
      "tensor(-0.0801, device='cuda:0') tensor(1.1099, device='cuda:0')\n",
      "tensor(-0.0642, device='cuda:0') tensor(1.0648, device='cuda:0')\n",
      "tensor(-0.0607, device='cuda:0') tensor(1.0724, device='cuda:0')\n"
     ]
    },
    {
     "name": "stderr",
     "output_type": "stream",
     "text": [
      " 52%|\u001b[38;2;204;153;255m███████████████████████████████▌                             \u001b[0m| 310/600 [00:33<00:28, 10.23it/s]\u001b[0m"
     ]
    },
    {
     "name": "stdout",
     "output_type": "stream",
     "text": [
      "tensor(-0.0208, device='cuda:0') tensor(1.0178, device='cuda:0')\n",
      "tensor(-0.0455, device='cuda:0') tensor(1.0476, device='cuda:0')\n"
     ]
    },
    {
     "name": "stderr",
     "output_type": "stream",
     "text": [
      " 52%|\u001b[38;2;204;153;255m███████████████████████████████▋                             \u001b[0m| 312/600 [00:34<00:33,  8.69it/s]\u001b[0m"
     ]
    },
    {
     "name": "stdout",
     "output_type": "stream",
     "text": [
      "tensor(-0.0476, device='cuda:0') tensor(1.0642, device='cuda:0')\n",
      "tensor(-0.0597, device='cuda:0') tensor(1.0450, device='cuda:0')\n"
     ]
    },
    {
     "name": "stderr",
     "output_type": "stream",
     "text": [
      " 53%|\u001b[38;2;204;153;255m████████████████████████████████▏                            \u001b[0m| 317/600 [00:34<00:25, 11.29it/s]\u001b[0m"
     ]
    },
    {
     "name": "stdout",
     "output_type": "stream",
     "text": [
      "tensor(-0.0292, device='cuda:0') tensor(1.0694, device='cuda:0')\n",
      "tensor(-0.0637, device='cuda:0') tensor(1.0299, device='cuda:0')\n",
      "tensor(-0.0674, device='cuda:0') tensor(1.0611, device='cuda:0')\n",
      "tensor(-0.0301, device='cuda:0') tensor(1.0219, device='cuda:0')\n"
     ]
    },
    {
     "name": "stderr",
     "output_type": "stream",
     "text": [
      " 53%|\u001b[38;2;204;153;255m████████████████████████████████▍                            \u001b[0m| 319/600 [00:34<00:26, 10.72it/s]\u001b[0m"
     ]
    },
    {
     "name": "stdout",
     "output_type": "stream",
     "text": [
      "tensor(-0.0891, device='cuda:0') tensor(1.0905, device='cuda:0')\n",
      "tensor(-0.0547, device='cuda:0') tensor(1.0738, device='cuda:0')\n",
      "tensor(-0.0421, device='cuda:0') tensor(1.0317, device='cuda:0')\n",
      "tensor(-0.0334, device='cuda:0') tensor(1.0229, device='cuda:0')\n"
     ]
    },
    {
     "name": "stderr",
     "output_type": "stream",
     "text": [
      " 54%|\u001b[38;2;204;153;255m████████████████████████████████▋                            \u001b[0m| 321/600 [00:35<00:31,  8.79it/s]\u001b[0m"
     ]
    },
    {
     "name": "stdout",
     "output_type": "stream",
     "text": [
      "tensor(-0.0510, device='cuda:0') tensor(1.0441, device='cuda:0')\n",
      "tensor(-0.0387, device='cuda:0') tensor(1.0432, device='cuda:0')\n"
     ]
    },
    {
     "name": "stderr",
     "output_type": "stream",
     "text": [
      " 54%|\u001b[38;2;204;153;255m█████████████████████████████████▏                           \u001b[0m| 326/600 [00:35<00:26, 10.45it/s]\u001b[0m"
     ]
    },
    {
     "name": "stdout",
     "output_type": "stream",
     "text": [
      "tensor(-0.0281, device='cuda:0') tensor(1.0500, device='cuda:0')\n",
      "tensor(-0.0658, device='cuda:0') tensor(1.0958, device='cuda:0')\n",
      "tensor(-0.0631, device='cuda:0') tensor(1.0151, device='cuda:0')\n",
      "tensor(-0.0489, device='cuda:0') tensor(1.0101, device='cuda:0')\n",
      "tensor(-0.0436, device='cuda:0') tensor(1.0409, device='cuda:0')\n",
      "tensor(-0.0602, device='cuda:0') tensor(1.0062, device='cuda:0')\n"
     ]
    },
    {
     "name": "stderr",
     "output_type": "stream",
     "text": [
      " 55%|\u001b[38;2;204;153;255m█████████████████████████████████▍                           \u001b[0m| 329/600 [00:35<00:20, 13.19it/s]\u001b[0m"
     ]
    },
    {
     "name": "stdout",
     "output_type": "stream",
     "text": [
      "tensor(-0.0508, device='cuda:0') tensor(1.0376, device='cuda:0')\n",
      "tensor(-0.0341, device='cuda:0') tensor(1.0650, device='cuda:0')\n"
     ]
    },
    {
     "name": "stderr",
     "output_type": "stream",
     "text": [
      " 55%|\u001b[38;2;204;153;255m█████████████████████████████████▋                           \u001b[0m| 331/600 [00:36<00:26, 10.05it/s]\u001b[0m"
     ]
    },
    {
     "name": "stdout",
     "output_type": "stream",
     "text": [
      "tensor(-0.0575, device='cuda:0') tensor(1.0271, device='cuda:0')\n",
      "tensor(-0.0366, device='cuda:0') tensor(1.0282, device='cuda:0')\n"
     ]
    },
    {
     "name": "stderr",
     "output_type": "stream",
     "text": [
      " 56%|\u001b[38;2;204;153;255m██████████████████████████████████                           \u001b[0m| 335/600 [00:36<00:29,  9.03it/s]\u001b[0m"
     ]
    },
    {
     "name": "stdout",
     "output_type": "stream",
     "text": [
      "tensor(-0.0410, device='cuda:0') tensor(1.0337, device='cuda:0')\n",
      "tensor(-0.0621, device='cuda:0') tensor(1.0326, device='cuda:0')\n",
      "tensor(-0.0567, device='cuda:0') tensor(1.0723, device='cuda:0')\n"
     ]
    },
    {
     "name": "stderr",
     "output_type": "stream",
     "text": [
      " 57%|\u001b[38;2;204;153;255m██████████████████████████████████▌                          \u001b[0m| 340/600 [00:36<00:18, 14.02it/s]\u001b[0m"
     ]
    },
    {
     "name": "stdout",
     "output_type": "stream",
     "text": [
      "tensor(-0.0305, device='cuda:0') tensor(1.0406, device='cuda:0')\n",
      "tensor(-0.0567, device='cuda:0') tensor(1.0424, device='cuda:0')\n",
      "tensor(-0.0517, device='cuda:0') tensor(1.0605, device='cuda:0')\n",
      "tensor(-0.0499, device='cuda:0') tensor(1.0298, device='cuda:0')\n",
      "tensor(-0.0840, device='cuda:0') tensor(1.0757, device='cuda:0')\n",
      "tensor(-0.0595, device='cuda:0') tensor(1.1157, device='cuda:0')\n"
     ]
    },
    {
     "name": "stderr",
     "output_type": "stream",
     "text": [
      " 58%|\u001b[38;2;204;153;255m███████████████████████████████████▏                         \u001b[0m| 346/600 [00:37<00:15, 16.58it/s]\u001b[0m"
     ]
    },
    {
     "name": "stdout",
     "output_type": "stream",
     "text": [
      "tensor(-0.0485, device='cuda:0') tensor(1.0670, device='cuda:0')\n",
      "tensor(-0.0451, device='cuda:0') tensor(1.0329, device='cuda:0')\n",
      "tensor(-0.0602, device='cuda:0') tensor(1.0460, device='cuda:0')\n",
      "tensor(-0.0467, device='cuda:0') tensor(1.0363, device='cuda:0')\n"
     ]
    },
    {
     "name": "stderr",
     "output_type": "stream",
     "text": [
      " 58%|\u001b[38;2;204;153;255m███████████████████████████████████▍                         \u001b[0m| 348/600 [00:37<00:21, 11.69it/s]\u001b[0m"
     ]
    },
    {
     "name": "stdout",
     "output_type": "stream",
     "text": [
      "tensor(-0.0383, device='cuda:0') tensor(1.0247, device='cuda:0')\n",
      "tensor(-0.0399, device='cuda:0') tensor(1.0347, device='cuda:0')\n"
     ]
    },
    {
     "name": "stderr",
     "output_type": "stream",
     "text": [
      " 58%|\u001b[38;2;204;153;255m███████████████████████████████████▌                         \u001b[0m| 350/600 [00:37<00:25,  9.83it/s]\u001b[0m"
     ]
    },
    {
     "name": "stdout",
     "output_type": "stream",
     "text": [
      "tensor(-0.0541, device='cuda:0') tensor(1.0303, device='cuda:0')\n",
      "tensor(-0.0632, device='cuda:0') tensor(1.0194, device='cuda:0')\n",
      "tensor(-0.0582, device='cuda:0') tensor(1.0789, device='cuda:0')\n",
      "tensor(-0.0368, device='cuda:0') tensor(1.0834, device='cuda:0')\n"
     ]
    },
    {
     "name": "stderr",
     "output_type": "stream",
     "text": [
      " 59%|\u001b[38;2;204;153;255m███████████████████████████████████▉                         \u001b[0m| 353/600 [00:37<00:20, 12.32it/s]\u001b[0m"
     ]
    },
    {
     "name": "stdout",
     "output_type": "stream",
     "text": [
      "tensor(-0.0405, device='cuda:0') tensor(1.0564, device='cuda:0')\n",
      "tensor(-0.0335, device='cuda:0') tensor(1.0380, device='cuda:0')\n"
     ]
    },
    {
     "name": "stderr",
     "output_type": "stream",
     "text": [
      " 59%|\u001b[38;2;204;153;255m████████████████████████████████████                         \u001b[0m| 355/600 [00:38<00:26,  9.40it/s]\u001b[0m"
     ]
    },
    {
     "name": "stdout",
     "output_type": "stream",
     "text": [
      "tensor(-0.0453, device='cuda:0') tensor(1.0502, device='cuda:0')\n",
      "tensor(-0.0483, device='cuda:0') tensor(1.0330, device='cuda:0')\n"
     ]
    },
    {
     "name": "stderr",
     "output_type": "stream",
     "text": [
      " 60%|\u001b[38;2;204;153;255m████████████████████████████████████▍                        \u001b[0m| 359/600 [00:38<00:25,  9.34it/s]\u001b[0m"
     ]
    },
    {
     "name": "stdout",
     "output_type": "stream",
     "text": [
      "tensor(-0.0595, device='cuda:0') tensor(1.0903, device='cuda:0')\n",
      "tensor(-0.0468, device='cuda:0') tensor(1.0512, device='cuda:0')\n",
      "tensor(-0.0308, device='cuda:0') tensor(1.0691, device='cuda:0')\n"
     ]
    },
    {
     "name": "stderr",
     "output_type": "stream",
     "text": [
      " 60%|\u001b[38;2;204;153;255m████████████████████████████████████▋                        \u001b[0m| 361/600 [00:38<00:25,  9.28it/s]\u001b[0m"
     ]
    },
    {
     "name": "stdout",
     "output_type": "stream",
     "text": [
      "tensor(-0.0249, device='cuda:0') tensor(1.0438, device='cuda:0')\n",
      "tensor(-0.0508, device='cuda:0') tensor(1.0775, device='cuda:0')\n",
      "tensor(-0.0475, device='cuda:0') tensor(1.0587, device='cuda:0')\n"
     ]
    },
    {
     "name": "stderr",
     "output_type": "stream",
     "text": [
      " 60%|\u001b[38;2;204;153;255m████████████████████████████████████▉                        \u001b[0m| 363/600 [00:39<00:25,  9.25it/s]\u001b[0m"
     ]
    },
    {
     "name": "stdout",
     "output_type": "stream",
     "text": [
      "tensor(-0.0523, device='cuda:0') tensor(1.0660, device='cuda:0')\n",
      "tensor(-0.0637, device='cuda:0') tensor(1.0998, device='cuda:0')\n"
     ]
    },
    {
     "name": "stderr",
     "output_type": "stream",
     "text": [
      " 61%|\u001b[38;2;204;153;255m█████████████████████████████████████                        \u001b[0m| 365/600 [00:39<00:26,  8.97it/s]\u001b[0m"
     ]
    },
    {
     "name": "stdout",
     "output_type": "stream",
     "text": [
      "tensor(-0.0543, device='cuda:0') tensor(1.0515, device='cuda:0')\n",
      "tensor(-0.0653, device='cuda:0') tensor(1.0777, device='cuda:0')\n"
     ]
    },
    {
     "name": "stderr",
     "output_type": "stream",
     "text": [
      " 61%|\u001b[38;2;204;153;255m█████████████████████████████████████▎                       \u001b[0m| 367/600 [00:39<00:30,  7.61it/s]\u001b[0m"
     ]
    },
    {
     "name": "stdout",
     "output_type": "stream",
     "text": [
      "tensor(-0.0383, device='cuda:0') tensor(1.1116, device='cuda:0')\n",
      "tensor(-0.0282, device='cuda:0') tensor(1.0728, device='cuda:0')\n"
     ]
    },
    {
     "name": "stderr",
     "output_type": "stream",
     "text": [
      " 62%|\u001b[38;2;204;153;255m█████████████████████████████████████▌                       \u001b[0m| 369/600 [00:40<00:32,  7.00it/s]\u001b[0m"
     ]
    },
    {
     "name": "stdout",
     "output_type": "stream",
     "text": [
      "tensor(-0.0455, device='cuda:0') tensor(1.0428, device='cuda:0')\n",
      "tensor(-0.0515, device='cuda:0') tensor(1.0409, device='cuda:0')\n"
     ]
    },
    {
     "name": "stderr",
     "output_type": "stream",
     "text": [
      " 62%|\u001b[38;2;204;153;255m██████████████████████████████████████▏                      \u001b[0m| 375/600 [00:40<00:17, 13.22it/s]\u001b[0m"
     ]
    },
    {
     "name": "stdout",
     "output_type": "stream",
     "text": [
      "tensor(-0.0679, device='cuda:0') tensor(1.0519, device='cuda:0')\n",
      "tensor(-0.0676, device='cuda:0') tensor(1.0253, device='cuda:0')\n",
      "tensor(-0.0571, device='cuda:0') tensor(1.0602, device='cuda:0')\n",
      "tensor(-0.0500, device='cuda:0') tensor(1.0593, device='cuda:0')\n",
      "tensor(-0.0404, device='cuda:0') tensor(1.0847, device='cuda:0')\n",
      "tensor(-0.0510, device='cuda:0') tensor(1.0698, device='cuda:0')\n",
      "tensor(-0.0342, device='cuda:0') tensor(1.0655, device='cuda:0')\n",
      "tensor(-0.0256, device='cuda:0') tensor(1.0379, device='cuda:0')\n"
     ]
    },
    {
     "name": "stderr",
     "output_type": "stream",
     "text": [
      " 63%|\u001b[38;2;204;153;255m██████████████████████████████████████▍                      \u001b[0m| 378/600 [00:40<00:17, 12.72it/s]\u001b[0m"
     ]
    },
    {
     "name": "stdout",
     "output_type": "stream",
     "text": [
      "tensor(-0.0277, device='cuda:0') tensor(1.0317, device='cuda:0')\n",
      "tensor(-0.0597, device='cuda:0') tensor(1.0235, device='cuda:0')\n"
     ]
    },
    {
     "name": "stderr",
     "output_type": "stream",
     "text": [
      " 63%|\u001b[38;2;204;153;255m██████████████████████████████████████▋                      \u001b[0m| 380/600 [00:41<00:22,  9.86it/s]\u001b[0m"
     ]
    },
    {
     "name": "stdout",
     "output_type": "stream",
     "text": [
      "tensor(-0.0312, device='cuda:0') tensor(1.0194, device='cuda:0')\n",
      "tensor(-0.0510, device='cuda:0') tensor(1.0699, device='cuda:0')\n"
     ]
    },
    {
     "name": "stderr",
     "output_type": "stream",
     "text": [
      " 64%|\u001b[38;2;204;153;255m███████████████████████████████████████▎                     \u001b[0m| 387/600 [00:41<00:16, 12.73it/s]\u001b[0m"
     ]
    },
    {
     "name": "stdout",
     "output_type": "stream",
     "text": [
      "tensor(-0.0569, device='cuda:0') tensor(1.0784, device='cuda:0')\n",
      "tensor(-0.0319, device='cuda:0') tensor(1.0360, device='cuda:0')\n",
      "tensor(-0.0608, device='cuda:0') tensor(1.0609, device='cuda:0')\n",
      "tensor(-0.0520, device='cuda:0') tensor(1.0395, device='cuda:0')\n",
      "tensor(-0.0659, device='cuda:0') tensor(1.0241, device='cuda:0')\n"
     ]
    },
    {
     "name": "stderr",
     "output_type": "stream",
     "text": [
      " 65%|\u001b[38;2;204;153;255m███████████████████████████████████████▋                     \u001b[0m| 390/600 [00:41<00:13, 15.47it/s]\u001b[0m"
     ]
    },
    {
     "name": "stdout",
     "output_type": "stream",
     "text": [
      "tensor(-0.0513, device='cuda:0') tensor(1.0458, device='cuda:0')\n",
      "tensor(-0.0453, device='cuda:0') tensor(1.0579, device='cuda:0')\n",
      "tensor(-0.0388, device='cuda:0') tensor(1.0893, device='cuda:0')\n"
     ]
    },
    {
     "name": "stderr",
     "output_type": "stream",
     "text": [
      " 66%|\u001b[38;2;204;153;255m████████████████████████████████████████▎                    \u001b[0m| 396/600 [00:42<00:17, 11.69it/s]\u001b[0m"
     ]
    },
    {
     "name": "stdout",
     "output_type": "stream",
     "text": [
      "tensor(-0.0691, device='cuda:0') tensor(1.0729, device='cuda:0')\n",
      "tensor(-0.0547, device='cuda:0') tensor(1.0527, device='cuda:0')\n",
      "tensor(-0.0294, device='cuda:0') tensor(1.0488, device='cuda:0')\n",
      "tensor(-0.0499, device='cuda:0') tensor(1.0339, device='cuda:0')\n",
      "tensor(-0.0556, device='cuda:0') tensor(1.0158, device='cuda:0')\n",
      "tensor(-0.0499, device='cuda:0') tensor(1.0330, device='cuda:0')\n",
      "tensor(-0.0636, device='cuda:0') tensor(1.0408, device='cuda:0')\n",
      "tensor(-0.0335, device='cuda:0') tensor(1.0546, device='cuda:0')\n"
     ]
    },
    {
     "name": "stderr",
     "output_type": "stream",
     "text": [
      " 66%|\u001b[38;2;204;153;255m████████████████████████████████████████▌                    \u001b[0m| 399/600 [00:42<00:20,  9.71it/s]\u001b[0m"
     ]
    },
    {
     "name": "stdout",
     "output_type": "stream",
     "text": [
      "tensor(-0.0662, device='cuda:0') tensor(1.0880, device='cuda:0')\n",
      "tensor(-0.0510, device='cuda:0') tensor(1.0423, device='cuda:0')\n",
      "tensor(-0.0309, device='cuda:0') tensor(1.0250, device='cuda:0')\n"
     ]
    },
    {
     "name": "stderr",
     "output_type": "stream",
     "text": [
      " 67%|\u001b[38;2;204;153;255m████████████████████████████████████████▉                    \u001b[0m| 403/600 [00:43<00:18, 10.87it/s]\u001b[0m"
     ]
    },
    {
     "name": "stdout",
     "output_type": "stream",
     "text": [
      "tensor(-0.0260, device='cuda:0') tensor(1.0526, device='cuda:0')\n",
      "tensor(-0.0713, device='cuda:0') tensor(1.0904, device='cuda:0')\n"
     ]
    },
    {
     "name": "stderr",
     "output_type": "stream",
     "text": [
      " 68%|\u001b[38;2;204;153;255m█████████████████████████████████████████▏                   \u001b[0m| 405/600 [00:43<00:20,  9.66it/s]\u001b[0m"
     ]
    },
    {
     "name": "stdout",
     "output_type": "stream",
     "text": [
      "tensor(-0.0293, device='cuda:0') tensor(1.0641, device='cuda:0')\n",
      "tensor(-0.0589, device='cuda:0') tensor(1.0416, device='cuda:0')\n",
      "tensor(-0.0450, device='cuda:0') tensor(1.0428, device='cuda:0')\n"
     ]
    },
    {
     "name": "stderr",
     "output_type": "stream",
     "text": [
      " 68%|\u001b[38;2;204;153;255m█████████████████████████████████████████▋                   \u001b[0m| 410/600 [00:43<00:15, 12.01it/s]\u001b[0m"
     ]
    },
    {
     "name": "stdout",
     "output_type": "stream",
     "text": [
      "tensor(-0.0594, device='cuda:0') tensor(1.0959, device='cuda:0')\n",
      "tensor(-0.0499, device='cuda:0') tensor(1.0887, device='cuda:0')\n",
      "tensor(-0.0457, device='cuda:0') tensor(1.0443, device='cuda:0')\n",
      "tensor(-0.0391, device='cuda:0') tensor(1.0652, device='cuda:0')\n",
      "tensor(-0.0305, device='cuda:0') tensor(1.0498, device='cuda:0')\n",
      "tensor(-0.0690, device='cuda:0') tensor(1.0810, device='cuda:0')\n"
     ]
    },
    {
     "name": "stderr",
     "output_type": "stream",
     "text": [
      " 69%|\u001b[38;2;204;153;255m██████████████████████████████████████████                   \u001b[0m| 414/600 [00:43<00:11, 15.86it/s]\u001b[0m"
     ]
    },
    {
     "name": "stdout",
     "output_type": "stream",
     "text": [
      "tensor(-0.0546, device='cuda:0') tensor(1.0543, device='cuda:0')\n",
      "tensor(-0.0193, device='cuda:0') tensor(1.0266, device='cuda:0')\n",
      "tensor(-0.0200, device='cuda:0') tensor(1.0484, device='cuda:0')\n",
      "tensor(-0.0222, device='cuda:0') tensor(1.0332, device='cuda:0')\n"
     ]
    },
    {
     "name": "stderr",
     "output_type": "stream",
     "text": [
      " 70%|\u001b[38;2;204;153;255m██████████████████████████████████████████▋                  \u001b[0m| 420/600 [00:45<00:18,  9.76it/s]\u001b[0m"
     ]
    },
    {
     "name": "stdout",
     "output_type": "stream",
     "text": [
      "tensor(-0.0436, device='cuda:0') tensor(1.0782, device='cuda:0')\n",
      "tensor(-0.0252, device='cuda:0') tensor(1.0472, device='cuda:0')\n",
      "tensor(-0.0512, device='cuda:0') tensor(1.0651, device='cuda:0')\n",
      "tensor(-0.0584, device='cuda:0') tensor(1.0022, device='cuda:0')\n",
      "tensor(-0.0550, device='cuda:0') tensor(1.0543, device='cuda:0')\n",
      "tensor(-0.0314, device='cuda:0') tensor(1.0610, device='cuda:0')\n"
     ]
    },
    {
     "name": "stderr",
     "output_type": "stream",
     "text": [
      " 70%|\u001b[38;2;204;153;255m██████████████████████████████████████████▉                  \u001b[0m| 422/600 [00:45<00:21,  8.38it/s]\u001b[0m"
     ]
    },
    {
     "name": "stdout",
     "output_type": "stream",
     "text": [
      "tensor(-0.0658, device='cuda:0') tensor(1.0642, device='cuda:0')\n",
      "tensor(-0.0559, device='cuda:0') tensor(1.0656, device='cuda:0')\n"
     ]
    },
    {
     "name": "stderr",
     "output_type": "stream",
     "text": [
      " 71%|\u001b[38;2;204;153;255m███████████████████████████████████████████▎                 \u001b[0m| 426/600 [00:45<00:21,  7.96it/s]\u001b[0m"
     ]
    },
    {
     "name": "stdout",
     "output_type": "stream",
     "text": [
      "tensor(-0.0565, device='cuda:0') tensor(1.0346, device='cuda:0')\n",
      "tensor(-0.0492, device='cuda:0') tensor(1.0661, device='cuda:0')\n"
     ]
    },
    {
     "name": "stderr",
     "output_type": "stream",
     "text": [
      " 72%|\u001b[38;2;204;153;255m███████████████████████████████████████████▊                 \u001b[0m| 431/600 [00:46<00:13, 12.78it/s]\u001b[0m"
     ]
    },
    {
     "name": "stdout",
     "output_type": "stream",
     "text": [
      "tensor(-0.0520, device='cuda:0') tensor(1.0676, device='cuda:0')\n",
      "tensor(-0.0992, device='cuda:0') tensor(1.1128, device='cuda:0')\n",
      "tensor(-0.0434, device='cuda:0') tensor(1.0392, device='cuda:0')\n",
      "tensor(-0.0416, device='cuda:0') tensor(1.0369, device='cuda:0')\n",
      "tensor(-0.0526, device='cuda:0') tensor(1.0648, device='cuda:0')\n",
      "tensor(-0.0249, device='cuda:0') tensor(1.0258, device='cuda:0')\n",
      "tensor(-0.0511, device='cuda:0') tensor(1.0530, device='cuda:0')\n"
     ]
    },
    {
     "name": "stderr",
     "output_type": "stream",
     "text": [
      " 72%|\u001b[38;2;204;153;255m████████████████████████████████████████████                 \u001b[0m| 433/600 [00:46<00:15, 10.52it/s]\u001b[0m"
     ]
    },
    {
     "name": "stdout",
     "output_type": "stream",
     "text": [
      "tensor(-0.0552, device='cuda:0') tensor(1.0277, device='cuda:0')\n",
      "tensor(-0.0601, device='cuda:0') tensor(1.0156, device='cuda:0')\n"
     ]
    },
    {
     "name": "stderr",
     "output_type": "stream",
     "text": [
      " 72%|\u001b[38;2;204;153;255m████████████████████████████████████████████▏                \u001b[0m| 435/600 [00:46<00:18,  8.81it/s]\u001b[0m"
     ]
    },
    {
     "name": "stdout",
     "output_type": "stream",
     "text": [
      "tensor(-0.0520, device='cuda:0') tensor(1.0567, device='cuda:0')\n",
      "tensor(-0.2841, device='cuda:0') tensor(1.1782, device='cuda:0')\n"
     ]
    },
    {
     "name": "stderr",
     "output_type": "stream",
     "text": [
      " 74%|\u001b[38;2;204;153;255m████████████████████████████████████████████▉                \u001b[0m| 442/600 [00:47<00:12, 13.10it/s]\u001b[0m"
     ]
    },
    {
     "name": "stdout",
     "output_type": "stream",
     "text": [
      "tensor(-0.0346, device='cuda:0') tensor(1.0326, device='cuda:0')\n",
      "tensor(-0.0271, device='cuda:0') tensor(1.0353, device='cuda:0')\n",
      "tensor(-0.0425, device='cuda:0') tensor(1.1151, device='cuda:0')\n",
      "tensor(-0.0425, device='cuda:0') tensor(1.0195, device='cuda:0')\n",
      "tensor(-0.0325, device='cuda:0') tensor(1.0443, device='cuda:0')\n",
      "tensor(-0.0458, device='cuda:0') tensor(1.0637, device='cuda:0')\n"
     ]
    },
    {
     "name": "stderr",
     "output_type": "stream",
     "text": [
      " 74%|\u001b[38;2;204;153;255m█████████████████████████████████████████████▏               \u001b[0m| 444/600 [00:47<00:11, 13.66it/s]\u001b[0m"
     ]
    },
    {
     "name": "stdout",
     "output_type": "stream",
     "text": [
      "tensor(-0.0383, device='cuda:0') tensor(1.0485, device='cuda:0')\n",
      "tensor(-0.0325, device='cuda:0') tensor(1.0432, device='cuda:0')\n"
     ]
    },
    {
     "name": "stderr",
     "output_type": "stream",
     "text": [
      " 74%|\u001b[38;2;204;153;255m█████████████████████████████████████████████▎               \u001b[0m| 446/600 [00:47<00:18,  8.48it/s]\u001b[0m"
     ]
    },
    {
     "name": "stdout",
     "output_type": "stream",
     "text": [
      "tensor(-0.0480, device='cuda:0') tensor(1.0602, device='cuda:0')\n",
      "tensor(-0.0378, device='cuda:0') tensor(1.0221, device='cuda:0')\n"
     ]
    },
    {
     "name": "stderr",
     "output_type": "stream",
     "text": [
      " 75%|\u001b[38;2;204;153;255m█████████████████████████████████████████████▊               \u001b[0m| 450/600 [00:48<00:15,  9.60it/s]\u001b[0m"
     ]
    },
    {
     "name": "stdout",
     "output_type": "stream",
     "text": [
      "tensor(-0.0329, device='cuda:0') tensor(1.0132, device='cuda:0')\n",
      "tensor(-0.0291, device='cuda:0') tensor(1.0221, device='cuda:0')\n",
      "tensor(-0.0633, device='cuda:0') tensor(1.0630, device='cuda:0')\n"
     ]
    },
    {
     "name": "stderr",
     "output_type": "stream",
     "text": [
      " 76%|\u001b[38;2;204;153;255m██████████████████████████████████████████████               \u001b[0m| 453/600 [00:48<00:11, 12.32it/s]\u001b[0m"
     ]
    },
    {
     "name": "stdout",
     "output_type": "stream",
     "text": [
      "tensor(-0.0504, device='cuda:0') tensor(1.0657, device='cuda:0')\n",
      "tensor(-0.0366, device='cuda:0') tensor(1.0396, device='cuda:0')\n",
      "tensor(-0.0418, device='cuda:0') tensor(1.0518, device='cuda:0')\n",
      "tensor(-0.0566, device='cuda:0') tensor(1.0441, device='cuda:0')\n"
     ]
    },
    {
     "name": "stderr",
     "output_type": "stream",
     "text": [
      " 76%|\u001b[38;2;204;153;255m██████████████████████████████████████████████▎              \u001b[0m| 455/600 [00:48<00:16,  8.93it/s]\u001b[0m"
     ]
    },
    {
     "name": "stdout",
     "output_type": "stream",
     "text": [
      "tensor(-0.0499, device='cuda:0') tensor(1.0440, device='cuda:0')\n",
      "tensor(-0.0450, device='cuda:0') tensor(1.0445, device='cuda:0')\n"
     ]
    },
    {
     "name": "stderr",
     "output_type": "stream",
     "text": [
      " 76%|\u001b[38;2;204;153;255m██████████████████████████████████████████████▍              \u001b[0m| 457/600 [00:49<00:18,  7.60it/s]\u001b[0m"
     ]
    },
    {
     "name": "stdout",
     "output_type": "stream",
     "text": [
      "tensor(-0.0322, device='cuda:0') tensor(1.0338, device='cuda:0')\n",
      "tensor(-0.0515, device='cuda:0') tensor(1.0538, device='cuda:0')\n"
     ]
    },
    {
     "name": "stderr",
     "output_type": "stream",
     "text": [
      " 77%|\u001b[38;2;204;153;255m██████████████████████████████████████████████▉              \u001b[0m| 462/600 [00:49<00:11, 11.93it/s]\u001b[0m"
     ]
    },
    {
     "name": "stdout",
     "output_type": "stream",
     "text": [
      "tensor(-0.0474, device='cuda:0') tensor(1.0739, device='cuda:0')\n",
      "tensor(-0.0739, device='cuda:0') tensor(1.0231, device='cuda:0')\n",
      "tensor(-0.0559, device='cuda:0') tensor(1.0458, device='cuda:0')\n",
      "tensor(-0.0321, device='cuda:0') tensor(1.0557, device='cuda:0')\n",
      "tensor(-0.0515, device='cuda:0') tensor(1.0425, device='cuda:0')\n",
      "tensor(-0.0524, device='cuda:0') tensor(1.0393, device='cuda:0')\n"
     ]
    },
    {
     "name": "stderr",
     "output_type": "stream",
     "text": [
      " 78%|\u001b[38;2;204;153;255m███████████████████████████████████████████████▍             \u001b[0m| 467/600 [00:49<00:12, 11.01it/s]\u001b[0m"
     ]
    },
    {
     "name": "stdout",
     "output_type": "stream",
     "text": [
      "tensor(-0.0662, device='cuda:0') tensor(1.0646, device='cuda:0')\n",
      "tensor(-0.0456, device='cuda:0') tensor(1.0470, device='cuda:0')\n",
      "tensor(-0.0413, device='cuda:0') tensor(1.0551, device='cuda:0')\n",
      "tensor(-0.0510, device='cuda:0') tensor(1.0465, device='cuda:0')\n",
      "tensor(-0.0357, device='cuda:0') tensor(1.0615, device='cuda:0')\n"
     ]
    },
    {
     "name": "stderr",
     "output_type": "stream",
     "text": [
      " 78%|\u001b[38;2;204;153;255m███████████████████████████████████████████████▉             \u001b[0m| 471/600 [00:50<00:13,  9.27it/s]\u001b[0m"
     ]
    },
    {
     "name": "stdout",
     "output_type": "stream",
     "text": [
      "tensor(-0.0415, device='cuda:0') tensor(1.0740, device='cuda:0')\n",
      "tensor(-0.0397, device='cuda:0') tensor(1.0731, device='cuda:0')\n"
     ]
    },
    {
     "name": "stderr",
     "output_type": "stream",
     "text": [
      " 79%|\u001b[38;2;204;153;255m████████████████████████████████████████████████▍            \u001b[0m| 476/600 [00:50<00:08, 14.13it/s]\u001b[0m"
     ]
    },
    {
     "name": "stdout",
     "output_type": "stream",
     "text": [
      "tensor(-0.0331, device='cuda:0') tensor(1.0302, device='cuda:0')\n",
      "tensor(-0.0566, device='cuda:0') tensor(1.1094, device='cuda:0')\n",
      "tensor(-0.0620, device='cuda:0') tensor(1.0739, device='cuda:0')\n",
      "tensor(-0.0364, device='cuda:0') tensor(1.0301, device='cuda:0')\n",
      "tensor(-0.0408, device='cuda:0') tensor(1.0306, device='cuda:0')\n",
      "tensor(-0.0574, device='cuda:0') tensor(1.0456, device='cuda:0')\n"
     ]
    },
    {
     "name": "stderr",
     "output_type": "stream",
     "text": [
      " 80%|\u001b[38;2;204;153;255m████████████████████████████████████████████████▋            \u001b[0m| 479/600 [00:50<00:07, 17.22it/s]\u001b[0m"
     ]
    },
    {
     "name": "stdout",
     "output_type": "stream",
     "text": [
      "tensor(-0.0411, device='cuda:0') tensor(1.0304, device='cuda:0')\n",
      "tensor(-0.0444, device='cuda:0') tensor(1.0555, device='cuda:0')\n",
      "tensor(-0.0499, device='cuda:0') tensor(1.0314, device='cuda:0')\n"
     ]
    },
    {
     "name": "stderr",
     "output_type": "stream",
     "text": [
      " 80%|\u001b[38;2;204;153;255m█████████████████████████████████████████████████            \u001b[0m| 482/600 [00:51<00:11,  9.91it/s]\u001b[0m"
     ]
    },
    {
     "name": "stdout",
     "output_type": "stream",
     "text": [
      "tensor(-0.0509, device='cuda:0') tensor(1.0887, device='cuda:0')\n",
      "tensor(-0.0368, device='cuda:0') tensor(1.0316, device='cuda:0')\n",
      "tensor(-0.0548, device='cuda:0') tensor(1.0196, device='cuda:0')\n"
     ]
    },
    {
     "name": "stderr",
     "output_type": "stream",
     "text": [
      " 81%|\u001b[38;2;204;153;255m█████████████████████████████████████████████████▏           \u001b[0m| 484/600 [00:51<00:10, 10.64it/s]\u001b[0m"
     ]
    },
    {
     "name": "stdout",
     "output_type": "stream",
     "text": [
      "tensor(-0.0322, device='cuda:0') tensor(1.0278, device='cuda:0')\n",
      "tensor(-0.0508, device='cuda:0') tensor(1.0248, device='cuda:0')\n",
      "tensor(-0.0260, device='cuda:0') tensor(1.0179, device='cuda:0')\n"
     ]
    },
    {
     "name": "stderr",
     "output_type": "stream",
     "text": [
      " 81%|\u001b[38;2;204;153;255m█████████████████████████████████████████████████▍           \u001b[0m| 486/600 [00:51<00:12,  9.22it/s]\u001b[0m"
     ]
    },
    {
     "name": "stdout",
     "output_type": "stream",
     "text": [
      "tensor(-0.0296, device='cuda:0') tensor(1.0262, device='cuda:0')\n",
      "tensor(-0.0626, device='cuda:0') tensor(1.0449, device='cuda:0')\n"
     ]
    },
    {
     "name": "stderr",
     "output_type": "stream",
     "text": [
      " 81%|\u001b[38;2;204;153;255m█████████████████████████████████████████████████▌           \u001b[0m| 488/600 [00:51<00:13,  8.51it/s]\u001b[0m"
     ]
    },
    {
     "name": "stdout",
     "output_type": "stream",
     "text": [
      "tensor(-0.0649, device='cuda:0') tensor(1.0269, device='cuda:0')\n",
      "tensor(-0.0204, device='cuda:0') tensor(1.1148, device='cuda:0')\n"
     ]
    },
    {
     "name": "stderr",
     "output_type": "stream",
     "text": [
      " 82%|\u001b[38;2;204;153;255m██████████████████████████████████████████████████           \u001b[0m| 493/600 [00:52<00:10, 10.12it/s]\u001b[0m"
     ]
    },
    {
     "name": "stdout",
     "output_type": "stream",
     "text": [
      "tensor(-0.0395, device='cuda:0') tensor(1.0434, device='cuda:0')\n",
      "tensor(-0.0446, device='cuda:0') tensor(1.0820, device='cuda:0')\n",
      "tensor(-0.0491, device='cuda:0') tensor(1.0588, device='cuda:0')\n",
      "tensor(-0.0587, device='cuda:0') tensor(1.0650, device='cuda:0')\n",
      "tensor(-0.0549, device='cuda:0') tensor(1.0762, device='cuda:0')\n"
     ]
    },
    {
     "name": "stderr",
     "output_type": "stream",
     "text": [
      " 83%|\u001b[38;2;204;153;255m██████████████████████████████████████████████████▍          \u001b[0m| 496/600 [00:52<00:08, 12.96it/s]\u001b[0m"
     ]
    },
    {
     "name": "stdout",
     "output_type": "stream",
     "text": [
      "tensor(-0.0516, device='cuda:0') tensor(1.0210, device='cuda:0')\n",
      "tensor(-0.0387, device='cuda:0') tensor(1.0456, device='cuda:0')\n",
      "tensor(-0.0598, device='cuda:0') tensor(1.0197, device='cuda:0')\n",
      "tensor(-0.0313, device='cuda:0') tensor(1.0762, device='cuda:0')\n"
     ]
    },
    {
     "name": "stderr",
     "output_type": "stream",
     "text": [
      " 83%|\u001b[38;2;204;153;255m██████████████████████████████████████████████████▋          \u001b[0m| 499/600 [00:52<00:07, 13.35it/s]\u001b[0m"
     ]
    },
    {
     "name": "stdout",
     "output_type": "stream",
     "text": [
      "tensor(-0.0414, device='cuda:0') tensor(1.0824, device='cuda:0')\n",
      "tensor(-0.0496, device='cuda:0') tensor(1.0470, device='cuda:0')\n"
     ]
    },
    {
     "name": "stderr",
     "output_type": "stream",
     "text": [
      " 84%|\u001b[38;2;204;153;255m██████████████████████████████████████████████████▉          \u001b[0m| 501/600 [00:53<00:09, 10.67it/s]\u001b[0m"
     ]
    },
    {
     "name": "stdout",
     "output_type": "stream",
     "text": [
      "tensor(-0.0284, device='cuda:0') tensor(1.0244, device='cuda:0')\n",
      "tensor(-0.0699, device='cuda:0') tensor(1.0668, device='cuda:0')\n"
     ]
    },
    {
     "name": "stderr",
     "output_type": "stream",
     "text": [
      " 84%|\u001b[38;2;204;153;255m███████████████████████████████████████████████████▎         \u001b[0m| 505/600 [00:53<00:10,  9.46it/s]\u001b[0m"
     ]
    },
    {
     "name": "stdout",
     "output_type": "stream",
     "text": [
      "tensor(-0.0688, device='cuda:0') tensor(1.0559, device='cuda:0')\n",
      "tensor(-0.0479, device='cuda:0') tensor(1.0222, device='cuda:0')\n",
      "tensor(-0.0278, device='cuda:0') tensor(1.0346, device='cuda:0')\n"
     ]
    },
    {
     "name": "stderr",
     "output_type": "stream",
     "text": [
      " 85%|\u001b[38;2;204;153;255m███████████████████████████████████████████████████▉         \u001b[0m| 511/600 [00:53<00:06, 14.79it/s]\u001b[0m"
     ]
    },
    {
     "name": "stdout",
     "output_type": "stream",
     "text": [
      "tensor(-0.0326, device='cuda:0') tensor(1.0522, device='cuda:0')\n",
      "tensor(-0.0623, device='cuda:0') tensor(1.0386, device='cuda:0')\n",
      "tensor(-0.0299, device='cuda:0') tensor(1.0514, device='cuda:0')\n",
      "tensor(-0.0337, device='cuda:0') tensor(1.0512, device='cuda:0')\n",
      "tensor(-0.0245, device='cuda:0') tensor(1.0510, device='cuda:0')\n",
      "tensor(-0.0505, device='cuda:0') tensor(1.0527, device='cuda:0')\n",
      "tensor(-0.0569, device='cuda:0') tensor(1.0486, device='cuda:0')\n"
     ]
    },
    {
     "name": "stderr",
     "output_type": "stream",
     "text": [
      " 86%|\u001b[38;2;204;153;255m████████████████████████████████████████████████████▍        \u001b[0m| 516/600 [00:54<00:06, 12.56it/s]\u001b[0m"
     ]
    },
    {
     "name": "stdout",
     "output_type": "stream",
     "text": [
      "tensor(-0.0493, device='cuda:0') tensor(1.0639, device='cuda:0')\n",
      "tensor(-0.0347, device='cuda:0') tensor(1.0437, device='cuda:0')\n",
      "tensor(-0.0626, device='cuda:0') tensor(1.0382, device='cuda:0')\n",
      "tensor(-0.0429, device='cuda:0') tensor(1.0449, device='cuda:0')\n"
     ]
    },
    {
     "name": "stderr",
     "output_type": "stream",
     "text": [
      " 87%|\u001b[38;2;204;153;255m████████████████████████████████████████████████████▊        \u001b[0m| 520/600 [00:54<00:05, 13.84it/s]\u001b[0m"
     ]
    },
    {
     "name": "stdout",
     "output_type": "stream",
     "text": [
      "tensor(-0.0472, device='cuda:0') tensor(1.0543, device='cuda:0')\n",
      "tensor(-0.0257, device='cuda:0') tensor(1.0353, device='cuda:0')\n",
      "tensor(-0.0506, device='cuda:0') tensor(1.0822, device='cuda:0')\n",
      "tensor(-0.0246, device='cuda:0') tensor(1.0210, device='cuda:0')\n"
     ]
    },
    {
     "name": "stderr",
     "output_type": "stream",
     "text": [
      " 88%|\u001b[38;2;204;153;255m█████████████████████████████████████████████████████▍       \u001b[0m| 525/600 [00:55<00:06, 11.17it/s]\u001b[0m"
     ]
    },
    {
     "name": "stdout",
     "output_type": "stream",
     "text": [
      "tensor(-0.0485, device='cuda:0') tensor(1.0704, device='cuda:0')\n",
      "tensor(-0.0589, device='cuda:0') tensor(1.0824, device='cuda:0')\n",
      "tensor(-0.0285, device='cuda:0') tensor(1.0341, device='cuda:0')\n",
      "tensor(-0.0564, device='cuda:0') tensor(1.0335, device='cuda:0')\n",
      "tensor(-0.0349, device='cuda:0') tensor(1.0393, device='cuda:0')\n"
     ]
    },
    {
     "name": "stderr",
     "output_type": "stream",
     "text": [
      " 88%|\u001b[38;2;204;153;255m█████████████████████████████████████████████████████▌       \u001b[0m| 527/600 [00:55<00:06, 10.76it/s]\u001b[0m"
     ]
    },
    {
     "name": "stdout",
     "output_type": "stream",
     "text": [
      "tensor(-0.0318, device='cuda:0') tensor(1.0268, device='cuda:0')\n",
      "tensor(-0.0312, device='cuda:0') tensor(1.0435, device='cuda:0')\n",
      "tensor(-0.0241, device='cuda:0') tensor(1.0304, device='cuda:0')\n"
     ]
    },
    {
     "name": "stderr",
     "output_type": "stream",
     "text": [
      " 89%|\u001b[38;2;204;153;255m██████████████████████████████████████████████████████       \u001b[0m| 532/600 [00:55<00:06, 10.82it/s]\u001b[0m"
     ]
    },
    {
     "name": "stdout",
     "output_type": "stream",
     "text": [
      "tensor(-0.0430, device='cuda:0') tensor(1.0668, device='cuda:0')\n",
      "tensor(-0.0516, device='cuda:0') tensor(1.0548, device='cuda:0')\n",
      "tensor(-0.0560, device='cuda:0') tensor(1.0819, device='cuda:0')\n",
      "tensor(-0.0381, device='cuda:0') tensor(1.0391, device='cuda:0')\n"
     ]
    },
    {
     "name": "stderr",
     "output_type": "stream",
     "text": [
      " 90%|\u001b[38;2;204;153;255m██████████████████████████████████████████████████████▌      \u001b[0m| 537/600 [00:56<00:04, 14.14it/s]\u001b[0m"
     ]
    },
    {
     "name": "stdout",
     "output_type": "stream",
     "text": [
      "tensor(-0.0690, device='cuda:0') tensor(1.0703, device='cuda:0')\n",
      "tensor(-0.0499, device='cuda:0') tensor(1.0675, device='cuda:0')\n",
      "tensor(-0.0601, device='cuda:0') tensor(1.0476, device='cuda:0')\n",
      "tensor(-0.0499, device='cuda:0') tensor(1.0424, device='cuda:0')\n"
     ]
    },
    {
     "name": "stderr",
     "output_type": "stream",
     "text": [
      " 90%|\u001b[38;2;204;153;255m███████████████████████████████████████████████████████      \u001b[0m| 541/600 [00:56<00:05, 11.68it/s]\u001b[0m"
     ]
    },
    {
     "name": "stdout",
     "output_type": "stream",
     "text": [
      "tensor(-0.0556, device='cuda:0') tensor(1.0353, device='cuda:0')\n",
      "tensor(-0.0782, device='cuda:0') tensor(1.0585, device='cuda:0')\n",
      "tensor(-0.0397, device='cuda:0') tensor(1.0727, device='cuda:0')\n",
      "tensor(-0.0276, device='cuda:0') tensor(1.0238, device='cuda:0')\n"
     ]
    },
    {
     "name": "stderr",
     "output_type": "stream",
     "text": [
      " 90%|\u001b[38;2;204;153;255m███████████████████████████████████████████████████████▏     \u001b[0m| 543/600 [00:56<00:04, 12.47it/s]\u001b[0m"
     ]
    },
    {
     "name": "stdout",
     "output_type": "stream",
     "text": [
      "tensor(-0.0508, device='cuda:0') tensor(1.0753, device='cuda:0')\n",
      "tensor(-0.0499, device='cuda:0') tensor(1.0526, device='cuda:0')\n",
      "tensor(-0.0531, device='cuda:0') tensor(1.0300, device='cuda:0')\n",
      "tensor(-0.0299, device='cuda:0') tensor(1.0294, device='cuda:0')\n"
     ]
    },
    {
     "name": "stderr",
     "output_type": "stream",
     "text": [
      " 91%|\u001b[38;2;204;153;255m███████████████████████████████████████████████████████▌     \u001b[0m| 546/600 [00:57<00:05,  9.78it/s]\u001b[0m"
     ]
    },
    {
     "name": "stdout",
     "output_type": "stream",
     "text": [
      "tensor(-0.0470, device='cuda:0') tensor(1.0638, device='cuda:0')\n",
      "tensor(-0.0663, device='cuda:0') tensor(1.0733, device='cuda:0')\n",
      "tensor(-0.0743, device='cuda:0') tensor(1.0796, device='cuda:0')\n",
      "tensor(-0.0670, device='cuda:0') tensor(1.0161, device='cuda:0')\n"
     ]
    },
    {
     "name": "stderr",
     "output_type": "stream",
     "text": [
      " 92%|\u001b[38;2;204;153;255m███████████████████████████████████████████████████████▊     \u001b[0m| 549/600 [00:57<00:04, 11.14it/s]\u001b[0m"
     ]
    },
    {
     "name": "stdout",
     "output_type": "stream",
     "text": [
      "tensor(-0.0534, device='cuda:0') tensor(1.0728, device='cuda:0')\n",
      "tensor(-0.0591, device='cuda:0') tensor(1.0853, device='cuda:0')\n"
     ]
    },
    {
     "name": "stderr",
     "output_type": "stream",
     "text": [
      " 92%|\u001b[38;2;204;153;255m████████████████████████████████████████████████████████     \u001b[0m| 551/600 [00:57<00:05,  9.51it/s]\u001b[0m"
     ]
    },
    {
     "name": "stdout",
     "output_type": "stream",
     "text": [
      "tensor(-0.0499, device='cuda:0') tensor(1.0483, device='cuda:0')\n"
     ]
    },
    {
     "name": "stderr",
     "output_type": "stream",
     "text": [
      " 92%|\u001b[38;2;204;153;255m████████████████████████████████████████████████████████▏    \u001b[0m| 553/600 [00:57<00:06,  7.82it/s]\u001b[0m"
     ]
    },
    {
     "name": "stdout",
     "output_type": "stream",
     "text": [
      "tensor(-0.0499, device='cuda:0') tensor(1.0417, device='cuda:0')\n",
      "tensor(-0.0587, device='cuda:0') tensor(1.0268, device='cuda:0')\n",
      "tensor(-0.0361, device='cuda:0') tensor(1.0801, device='cuda:0')\n"
     ]
    },
    {
     "name": "stderr",
     "output_type": "stream",
     "text": [
      " 93%|\u001b[38;2;204;153;255m████████████████████████████████████████████████████████▋    \u001b[0m| 558/600 [00:58<00:03, 11.96it/s]\u001b[0m"
     ]
    },
    {
     "name": "stdout",
     "output_type": "stream",
     "text": [
      "tensor(-0.0715, device='cuda:0') tensor(1.0510, device='cuda:0')\n",
      "tensor(-0.0511, device='cuda:0') tensor(1.0617, device='cuda:0')\n",
      "tensor(-0.0776, device='cuda:0') tensor(1.0842, device='cuda:0')\n",
      "tensor(-0.0379, device='cuda:0') tensor(1.0798, device='cuda:0')\n",
      "tensor(-0.0505, device='cuda:0') tensor(1.0281, device='cuda:0')\n"
     ]
    },
    {
     "name": "stderr",
     "output_type": "stream",
     "text": [
      " 93%|\u001b[38;2;204;153;255m████████████████████████████████████████████████████████▉    \u001b[0m| 560/600 [00:58<00:03, 11.60it/s]\u001b[0m"
     ]
    },
    {
     "name": "stdout",
     "output_type": "stream",
     "text": [
      "tensor(-0.0532, device='cuda:0') tensor(1.0441, device='cuda:0')\n",
      "tensor(-0.0480, device='cuda:0') tensor(1.0300, device='cuda:0')\n"
     ]
    },
    {
     "name": "stderr",
     "output_type": "stream",
     "text": [
      " 94%|\u001b[38;2;204;153;255m█████████████████████████████████████████████████████████▎   \u001b[0m| 564/600 [00:59<00:05,  7.09it/s]\u001b[0m"
     ]
    },
    {
     "name": "stdout",
     "output_type": "stream",
     "text": [
      "tensor(-0.0547, device='cuda:0') tensor(1.0966, device='cuda:0')\n",
      "tensor(-0.0756, device='cuda:0') tensor(1.1269, device='cuda:0')\n",
      "tensor(-0.0513, device='cuda:0') tensor(1.0203, device='cuda:0')\n"
     ]
    },
    {
     "name": "stderr",
     "output_type": "stream",
     "text": [
      " 94%|\u001b[38;2;204;153;255m█████████████████████████████████████████████████████████▌   \u001b[0m| 566/600 [00:59<00:04,  7.41it/s]\u001b[0m"
     ]
    },
    {
     "name": "stdout",
     "output_type": "stream",
     "text": [
      "tensor(-0.0659, device='cuda:0') tensor(1.0505, device='cuda:0')\n",
      "tensor(-0.0574, device='cuda:0') tensor(1.0579, device='cuda:0')\n"
     ]
    },
    {
     "name": "stderr",
     "output_type": "stream",
     "text": [
      " 95%|\u001b[38;2;204;153;255m█████████████████████████████████████████████████████████▋   \u001b[0m| 568/600 [00:59<00:04,  7.25it/s]\u001b[0m"
     ]
    },
    {
     "name": "stdout",
     "output_type": "stream",
     "text": [
      "tensor(-0.0276, device='cuda:0') tensor(1.0216, device='cuda:0')\n",
      "tensor(-0.0554, device='cuda:0') tensor(1.0461, device='cuda:0')\n"
     ]
    },
    {
     "name": "stderr",
     "output_type": "stream",
     "text": [
      " 95%|\u001b[38;2;204;153;255m█████████████████████████████████████████████████████████▉   \u001b[0m| 570/600 [01:00<00:04,  6.90it/s]\u001b[0m"
     ]
    },
    {
     "name": "stdout",
     "output_type": "stream",
     "text": [
      "tensor(-0.0518, device='cuda:0') tensor(1.0379, device='cuda:0')\n",
      "tensor(-0.0648, device='cuda:0') tensor(1.0694, device='cuda:0')\n"
     ]
    },
    {
     "name": "stderr",
     "output_type": "stream",
     "text": [
      " 96%|\u001b[38;2;204;153;255m██████████████████████████████████████████████████████████▎  \u001b[0m| 574/600 [01:00<00:02, 11.23it/s]\u001b[0m"
     ]
    },
    {
     "name": "stdout",
     "output_type": "stream",
     "text": [
      "tensor(-0.0501, device='cuda:0') tensor(1.0529, device='cuda:0')\n",
      "tensor(-0.0541, device='cuda:0') tensor(1.0316, device='cuda:0')\n",
      "tensor(-0.0449, device='cuda:0') tensor(1.0376, device='cuda:0')\n",
      "tensor(-0.0558, device='cuda:0') tensor(1.0457, device='cuda:0')\n",
      "tensor(-0.0586, device='cuda:0') tensor(1.0328, device='cuda:0')\n",
      "tensor(-0.0517, device='cuda:0') tensor(1.0375, device='cuda:0')\n"
     ]
    },
    {
     "name": "stderr",
     "output_type": "stream",
     "text": [
      " 97%|\u001b[38;2;204;153;255m██████████████████████████████████████████████████████████▉  \u001b[0m| 580/600 [01:00<00:01, 17.03it/s]\u001b[0m"
     ]
    },
    {
     "name": "stdout",
     "output_type": "stream",
     "text": [
      "tensor(-0.0542, device='cuda:0') tensor(1.0442, device='cuda:0')\n",
      "tensor(-0.0476, device='cuda:0') tensor(1.0697, device='cuda:0')\n",
      "tensor(-0.0279, device='cuda:0') tensor(1.0423, device='cuda:0')\n",
      "tensor(-0.0503, device='cuda:0') tensor(1.0380, device='cuda:0')\n",
      "tensor(-0.0463, device='cuda:0') "
     ]
    },
    {
     "name": "stderr",
     "output_type": "stream",
     "text": [
      " 97%|\u001b[38;2;204;153;255m███████████████████████████████████████████████████████████▏ \u001b[0m| 582/600 [01:00<00:01, 14.44it/s]\u001b[0m"
     ]
    },
    {
     "name": "stdout",
     "output_type": "stream",
     "text": [
      "tensor(1.0221, device='cuda:0')\n",
      "tensor(-0.0487, device='cuda:0') tensor(1.0336, device='cuda:0')\n"
     ]
    },
    {
     "name": "stderr",
     "output_type": "stream",
     "text": [
      " 97%|\u001b[38;2;204;153;255m███████████████████████████████████████████████████████████▎ \u001b[0m| 584/600 [01:01<00:01, 10.87it/s]\u001b[0m"
     ]
    },
    {
     "name": "stdout",
     "output_type": "stream",
     "text": [
      "tensor(-0.0262, device='cuda:0') tensor(1.0645, device='cuda:0')\n",
      "tensor(-0.0289, device='cuda:0') tensor(1.0363, device='cuda:0')\n"
     ]
    },
    {
     "name": "stderr",
     "output_type": "stream",
     "text": [
      " 98%|\u001b[38;2;204;153;255m███████████████████████████████████████████████████████████▌ \u001b[0m| 586/600 [01:01<00:01,  9.10it/s]\u001b[0m"
     ]
    },
    {
     "name": "stdout",
     "output_type": "stream",
     "text": [
      "tensor(-0.0478, device='cuda:0') tensor(1.0366, device='cuda:0')\n",
      "tensor(-0.0359, device='cuda:0') tensor(1.0406, device='cuda:0')\n"
     ]
    },
    {
     "name": "stderr",
     "output_type": "stream",
     "text": [
      " 98%|\u001b[38;2;204;153;255m████████████████████████████████████████████████████████████ \u001b[0m| 591/600 [01:01<00:00, 12.92it/s]\u001b[0m"
     ]
    },
    {
     "name": "stdout",
     "output_type": "stream",
     "text": [
      "tensor(-0.0497, device='cuda:0') tensor(1.0797, device='cuda:0')\n",
      "tensor(-0.0473, device='cuda:0') tensor(1.0345, device='cuda:0')\n",
      "tensor(-0.0631, device='cuda:0') tensor(1.1015, device='cuda:0')\n",
      "tensor(-0.1000, device='cuda:0') tensor(1.0773, device='cuda:0')\n",
      "tensor(-0.0469, device='cuda:0') tensor(1.0777, device='cuda:0')\n"
     ]
    },
    {
     "name": "stderr",
     "output_type": "stream",
     "text": [
      " 99%|\u001b[38;2;204;153;255m████████████████████████████████████████████████████████████▍\u001b[0m| 594/600 [01:01<00:00, 13.31it/s]\u001b[0m"
     ]
    },
    {
     "name": "stdout",
     "output_type": "stream",
     "text": [
      "tensor(-0.0497, device='cuda:0') tensor(1.0768, device='cuda:0')\n",
      "tensor(-0.0499, device='cuda:0') tensor(1.0723, device='cuda:0')\n",
      "tensor(-0.0333, device='cuda:0') tensor(1.0644, device='cuda:0')\n",
      "tensor(-0.0664, device='cuda:0') tensor(1.0163, device='cuda:0')\n"
     ]
    },
    {
     "name": "stderr",
     "output_type": "stream",
     "text": [
      " 99%|\u001b[38;2;204;153;255m████████████████████████████████████████████████████████████▌\u001b[0m| 596/600 [01:02<00:00, 10.59it/s]\u001b[0m"
     ]
    },
    {
     "name": "stdout",
     "output_type": "stream",
     "text": [
      "tensor(-0.0499, device='cuda:0') tensor(1.0403, device='cuda:0')\n",
      "tensor(-0.0381, device='cuda:0') tensor(1.0665, device='cuda:0')\n"
     ]
    },
    {
     "name": "stderr",
     "output_type": "stream",
     "text": [
      "100%|\u001b[38;2;204;153;255m█████████████████████████████████████████████████████████████\u001b[0m| 600/600 [01:02<00:00,  9.81it/s]\u001b[0m"
     ]
    },
    {
     "name": "stdout",
     "output_type": "stream",
     "text": [
      "tensor(-0.0393, device='cuda:0') tensor(1.0774, device='cuda:0')\n",
      "tensor(-0.0557, device='cuda:0') tensor(1.0489, device='cuda:0')\n"
     ]
    },
    {
     "name": "stderr",
     "output_type": "stream",
     "text": [
      "100%|\u001b[38;2;204;153;255m█████████████████████████████████████████████████████████████\u001b[0m| 600/600 [01:02<00:00,  9.57it/s]\u001b[0m\n"
     ]
    }
   ],
   "source": [
    "test_metrics_tracker = MultiSpectralMetrics(bands=bands, device=device)\n",
    "\n",
    "# Prepare the dictionary to store per-band metrics\n",
    "metrics_dict = {}\n",
    "for band in test_metrics_tracker.bands:\n",
    "    for metric_name in ['psnr', 'rmse', 'ssim', 'sam']:\n",
    "        metrics_dict[f\"{metric_name}_{band}\"] = []\n",
    "\n",
    "# Reset tracker\n",
    "test_metrics_tracker.reset()\n",
    "\n",
    "# Model evaluation\n",
    "model.eval()\n",
    "with torch.no_grad():\n",
    "    with tqdm(total=len(test_loader.dataset), ncols=100, colour='#cc99ff') as t:\n",
    "        \n",
    "        for x_data, y_data in test_loader:\n",
    "            x_data, y_data = x_data.to(device), y_data.to(device)\n",
    "            outputs = model(x_data)\n",
    "            \n",
    "            print(outputs[0,0,:,:].min(),outputs[0,0,:,:].max())\n",
    "            \n",
    "            # Reset tracker for individual image\n",
    "            test_metrics_tracker.reset()\n",
    "            test_metrics_tracker.update(outputs, y_data)\n",
    "            metrics = test_metrics_tracker.compute()            \n",
    "\n",
    "            # Store per-band metrics\n",
    "            for band in test_metrics_tracker.bands:\n",
    "                for metric_name in ['psnr', 'rmse', 'ssim', 'sam']:\n",
    "                    value = metrics[band][metric_name]\n",
    "                    metrics_dict[f\"{metric_name}_{band}\"].append(value)\n",
    "\n",
    "            t.update(x_data.size(0))\n",
    "\n",
    "# After the loop, merge the metrics into the original dataframe\n",
    "for column_name, values in metrics_dict.items():\n",
    "    df_test_output[column_name] = values\n",
    "\n",
    "# df_test_output.to_csv(f\"{exp_dir}/{experience}/test_metrics_output.csv\", index=False)\n"
   ]
  },
  {
   "cell_type": "code",
   "execution_count": 116,
   "id": "ae90518c",
   "metadata": {},
   "outputs": [
    {
     "data": {
      "text/html": [
       "<div>\n",
       "<style scoped>\n",
       "    .dataframe tbody tr th:only-of-type {\n",
       "        vertical-align: middle;\n",
       "    }\n",
       "\n",
       "    .dataframe tbody tr th {\n",
       "        vertical-align: top;\n",
       "    }\n",
       "\n",
       "    .dataframe thead th {\n",
       "        text-align: right;\n",
       "    }\n",
       "</style>\n",
       "<table border=\"1\" class=\"dataframe\">\n",
       "  <thead>\n",
       "    <tr style=\"text-align: right;\">\n",
       "      <th></th>\n",
       "      <th>id_key</th>\n",
       "      <th>Name</th>\n",
       "      <th>S3Path</th>\n",
       "      <th>Footprint</th>\n",
       "      <th>GeoFootprint</th>\n",
       "      <th>cloud_cover</th>\n",
       "      <th>path</th>\n",
       "      <th>psnr_B02</th>\n",
       "      <th>rmse_B02</th>\n",
       "      <th>ssim_B02</th>\n",
       "      <th>sam_B02</th>\n",
       "      <th>psnr_B03</th>\n",
       "      <th>rmse_B03</th>\n",
       "      <th>ssim_B03</th>\n",
       "      <th>sam_B03</th>\n",
       "      <th>psnr_B04</th>\n",
       "      <th>rmse_B04</th>\n",
       "      <th>ssim_B04</th>\n",
       "      <th>sam_B04</th>\n",
       "    </tr>\n",
       "  </thead>\n",
       "  <tbody>\n",
       "    <tr>\n",
       "      <th>0</th>\n",
       "      <td>S2A_MSIL1C_20180105T103421_N0500_R108_T32TMT</td>\n",
       "      <td>S2A_MSIL2A_20180105T103421_N0500_R108_T32TMT_2...</td>\n",
       "      <td>/eodata/Sentinel-2/MSI/L2A_N0500/2018/01/05/S2...</td>\n",
       "      <td>geography'SRID=4326;POLYGON ((7.66286529044567...</td>\n",
       "      <td>{'type': 'Polygon', 'coordinates': [[[7.662865...</td>\n",
       "      <td>76.968253</td>\n",
       "      <td>/mnt/disk/dataset/sentinel-ai-processor/V2/tes...</td>\n",
       "      <td>38.308105</td>\n",
       "      <td>0.012151</td>\n",
       "      <td>0.983581</td>\n",
       "      <td>0.022594</td>\n",
       "      <td>39.762657</td>\n",
       "      <td>0.010277</td>\n",
       "      <td>0.989305</td>\n",
       "      <td>0.022280</td>\n",
       "      <td>39.352959</td>\n",
       "      <td>0.010773</td>\n",
       "      <td>0.986782</td>\n",
       "      <td>0.022681</td>\n",
       "    </tr>\n",
       "    <tr>\n",
       "      <th>1</th>\n",
       "      <td>S2B_MSIL1C_20180107T102359_N0500_R065_T32TPS</td>\n",
       "      <td>S2B_MSIL2A_20180107T102359_N0500_R065_T32TPS_2...</td>\n",
       "      <td>/eodata/Sentinel-2/MSI/L2A_N0500/2018/01/07/S2...</td>\n",
       "      <td>geography'SRID=4326;POLYGON ((11.7513728834118...</td>\n",
       "      <td>{'type': 'Polygon', 'coordinates': [[[11.75137...</td>\n",
       "      <td>96.654195</td>\n",
       "      <td>/mnt/disk/dataset/sentinel-ai-processor/V2/tes...</td>\n",
       "      <td>38.141037</td>\n",
       "      <td>0.012386</td>\n",
       "      <td>0.983544</td>\n",
       "      <td>0.019918</td>\n",
       "      <td>39.104885</td>\n",
       "      <td>0.011086</td>\n",
       "      <td>0.985350</td>\n",
       "      <td>0.021304</td>\n",
       "      <td>39.287827</td>\n",
       "      <td>0.010854</td>\n",
       "      <td>0.984351</td>\n",
       "      <td>0.020301</td>\n",
       "    </tr>\n",
       "    <tr>\n",
       "      <th>2</th>\n",
       "      <td>S2A_MSIL1C_20180115T103351_N0500_R108_T31TFN</td>\n",
       "      <td>S2A_MSIL2A_20180115T103351_N0500_R108_T31TFN_2...</td>\n",
       "      <td>/eodata/Sentinel-2/MSI/L2A_N0500/2018/01/15/S2...</td>\n",
       "      <td>geography'SRID=4326;POLYGON ((5.23834509422263...</td>\n",
       "      <td>{'type': 'Polygon', 'coordinates': [[[5.238345...</td>\n",
       "      <td>98.961890</td>\n",
       "      <td>/mnt/disk/dataset/sentinel-ai-processor/V2/tes...</td>\n",
       "      <td>43.686913</td>\n",
       "      <td>0.006541</td>\n",
       "      <td>0.984384</td>\n",
       "      <td>0.020615</td>\n",
       "      <td>42.789623</td>\n",
       "      <td>0.007253</td>\n",
       "      <td>0.987201</td>\n",
       "      <td>0.026535</td>\n",
       "      <td>43.569592</td>\n",
       "      <td>0.006630</td>\n",
       "      <td>0.968349</td>\n",
       "      <td>0.022939</td>\n",
       "    </tr>\n",
       "    <tr>\n",
       "      <th>3</th>\n",
       "      <td>S2B_MSIL1C_20180117T102339_N0500_R065_T32TMR</td>\n",
       "      <td>S2B_MSIL2A_20180117T102339_N0500_R065_T32TMR_2...</td>\n",
       "      <td>/eodata/Sentinel-2/MSI/L2A_N0500/2018/01/17/S2...</td>\n",
       "      <td>geography'SRID=4326;POLYGON ((7.70695108472353...</td>\n",
       "      <td>{'type': 'Polygon', 'coordinates': [[[7.706951...</td>\n",
       "      <td>93.384999</td>\n",
       "      <td>/mnt/disk/dataset/sentinel-ai-processor/V2/tes...</td>\n",
       "      <td>40.168114</td>\n",
       "      <td>0.009808</td>\n",
       "      <td>0.990986</td>\n",
       "      <td>0.013434</td>\n",
       "      <td>40.254948</td>\n",
       "      <td>0.009711</td>\n",
       "      <td>0.993240</td>\n",
       "      <td>0.016727</td>\n",
       "      <td>39.912487</td>\n",
       "      <td>0.010101</td>\n",
       "      <td>0.990286</td>\n",
       "      <td>0.016787</td>\n",
       "    </tr>\n",
       "    <tr>\n",
       "      <th>4</th>\n",
       "      <td>S2B_MSIL1C_20180202T104239_N0500_R008_T31TEM</td>\n",
       "      <td>S2B_MSIL2A_20180202T104239_N0500_R008_T31TEM_2...</td>\n",
       "      <td>/eodata/Sentinel-2/MSI/L2A_N0500/2018/02/02/S2...</td>\n",
       "      <td>geography'SRID=4326;POLYGON ((2.99973715756221...</td>\n",
       "      <td>{'type': 'Polygon', 'coordinates': [[[2.999737...</td>\n",
       "      <td>90.962285</td>\n",
       "      <td>/mnt/disk/dataset/sentinel-ai-processor/V2/tes...</td>\n",
       "      <td>37.996475</td>\n",
       "      <td>0.012594</td>\n",
       "      <td>0.992054</td>\n",
       "      <td>0.016562</td>\n",
       "      <td>39.010048</td>\n",
       "      <td>0.011207</td>\n",
       "      <td>0.993258</td>\n",
       "      <td>0.017432</td>\n",
       "      <td>38.668713</td>\n",
       "      <td>0.011656</td>\n",
       "      <td>0.992496</td>\n",
       "      <td>0.017871</td>\n",
       "    </tr>\n",
       "    <tr>\n",
       "      <th>...</th>\n",
       "      <td>...</td>\n",
       "      <td>...</td>\n",
       "      <td>...</td>\n",
       "      <td>...</td>\n",
       "      <td>...</td>\n",
       "      <td>...</td>\n",
       "      <td>...</td>\n",
       "      <td>...</td>\n",
       "      <td>...</td>\n",
       "      <td>...</td>\n",
       "      <td>...</td>\n",
       "      <td>...</td>\n",
       "      <td>...</td>\n",
       "      <td>...</td>\n",
       "      <td>...</td>\n",
       "      <td>...</td>\n",
       "      <td>...</td>\n",
       "      <td>...</td>\n",
       "      <td>...</td>\n",
       "    </tr>\n",
       "    <tr>\n",
       "      <th>595</th>\n",
       "      <td>S2B_MSIL1C_20250119T105259_N0511_R051_T31UFP</td>\n",
       "      <td>S2B_MSIL2A_20250119T105259_N0511_R051_T31UFP_2...</td>\n",
       "      <td>/eodata/Sentinel-2/MSI/L2A/2025/01/19/S2B_MSIL...</td>\n",
       "      <td>geography'SRID=4326;POLYGON ((5.06033064622684...</td>\n",
       "      <td>{'type': 'Polygon', 'coordinates': [[[5.060330...</td>\n",
       "      <td>50.362939</td>\n",
       "      <td>/mnt/disk/dataset/sentinel-ai-processor/V2/tes...</td>\n",
       "      <td>42.909599</td>\n",
       "      <td>0.007154</td>\n",
       "      <td>0.983501</td>\n",
       "      <td>0.016158</td>\n",
       "      <td>41.455391</td>\n",
       "      <td>0.008457</td>\n",
       "      <td>0.984265</td>\n",
       "      <td>0.020118</td>\n",
       "      <td>41.585613</td>\n",
       "      <td>0.008331</td>\n",
       "      <td>0.967858</td>\n",
       "      <td>0.018927</td>\n",
       "    </tr>\n",
       "    <tr>\n",
       "      <th>596</th>\n",
       "      <td>S2C_MSIL1C_20250207T103241_N0511_R108_T32TNS</td>\n",
       "      <td>S2C_MSIL2A_20250207T103241_N0511_R108_T32TNS_2...</td>\n",
       "      <td>/eodata/Sentinel-2/MSI/L2A/2025/02/07/S2C_MSIL...</td>\n",
       "      <td>geography'SRID=4326;POLYGON ((9.26486087946751...</td>\n",
       "      <td>{'type': 'Polygon', 'coordinates': [[[9.264860...</td>\n",
       "      <td>26.737735</td>\n",
       "      <td>/mnt/disk/dataset/sentinel-ai-processor/V2/tes...</td>\n",
       "      <td>45.396904</td>\n",
       "      <td>0.005372</td>\n",
       "      <td>0.987160</td>\n",
       "      <td>0.037720</td>\n",
       "      <td>44.089966</td>\n",
       "      <td>0.006245</td>\n",
       "      <td>0.987711</td>\n",
       "      <td>0.047804</td>\n",
       "      <td>45.985001</td>\n",
       "      <td>0.005021</td>\n",
       "      <td>0.965073</td>\n",
       "      <td>0.038346</td>\n",
       "    </tr>\n",
       "    <tr>\n",
       "      <th>597</th>\n",
       "      <td>S2C_MSIL1C_20250217T103131_N0511_R108_T32TLR</td>\n",
       "      <td>S2C_MSIL2A_20250217T103131_N0511_R108_T32TLR_2...</td>\n",
       "      <td>/eodata/Sentinel-2/MSI/L2A/2025/02/17/S2C_MSIL...</td>\n",
       "      <td>geography'SRID=4326;POLYGON ((6.41593487960282...</td>\n",
       "      <td>{'type': 'Polygon', 'coordinates': [[[6.415934...</td>\n",
       "      <td>29.505533</td>\n",
       "      <td>/mnt/disk/dataset/sentinel-ai-processor/V2/tes...</td>\n",
       "      <td>35.514107</td>\n",
       "      <td>0.016761</td>\n",
       "      <td>0.986587</td>\n",
       "      <td>0.032232</td>\n",
       "      <td>36.734177</td>\n",
       "      <td>0.014564</td>\n",
       "      <td>0.988490</td>\n",
       "      <td>0.032874</td>\n",
       "      <td>36.824474</td>\n",
       "      <td>0.014414</td>\n",
       "      <td>0.988020</td>\n",
       "      <td>0.032383</td>\n",
       "    </tr>\n",
       "    <tr>\n",
       "      <th>598</th>\n",
       "      <td>S2C_MSIL1C_20250217T103131_N0511_R108_T31TGL</td>\n",
       "      <td>S2C_MSIL2A_20250217T103131_N0511_R108_T31TGL_2...</td>\n",
       "      <td>/eodata/Sentinel-2/MSI/L2A/2025/02/17/S2C_MSIL...</td>\n",
       "      <td>geography'SRID=4326;POLYGON ((5.58354883959713...</td>\n",
       "      <td>{'type': 'Polygon', 'coordinates': [[[5.583548...</td>\n",
       "      <td>10.681689</td>\n",
       "      <td>/mnt/disk/dataset/sentinel-ai-processor/V2/tes...</td>\n",
       "      <td>36.976448</td>\n",
       "      <td>0.014164</td>\n",
       "      <td>0.980870</td>\n",
       "      <td>0.038249</td>\n",
       "      <td>37.602180</td>\n",
       "      <td>0.013179</td>\n",
       "      <td>0.984010</td>\n",
       "      <td>0.039182</td>\n",
       "      <td>37.510612</td>\n",
       "      <td>0.013319</td>\n",
       "      <td>0.980027</td>\n",
       "      <td>0.039645</td>\n",
       "    </tr>\n",
       "    <tr>\n",
       "      <th>599</th>\n",
       "      <td>S2C_MSIL1C_20250221T101051_N0511_R022_T32TPT</td>\n",
       "      <td>S2C_MSIL2A_20250221T101051_N0511_R022_T32TPT_2...</td>\n",
       "      <td>/eodata/Sentinel-2/MSI/L2A/2025/02/21/S2C_MSIL...</td>\n",
       "      <td>geography'SRID=4326;POLYGON ((10.3145887512116...</td>\n",
       "      <td>{'type': 'Polygon', 'coordinates': [[[10.31458...</td>\n",
       "      <td>50.885719</td>\n",
       "      <td>/mnt/disk/dataset/sentinel-ai-processor/V2/tes...</td>\n",
       "      <td>36.381416</td>\n",
       "      <td>0.015168</td>\n",
       "      <td>0.971409</td>\n",
       "      <td>0.045579</td>\n",
       "      <td>36.872471</td>\n",
       "      <td>0.014334</td>\n",
       "      <td>0.974769</td>\n",
       "      <td>0.047315</td>\n",
       "      <td>37.375504</td>\n",
       "      <td>0.013528</td>\n",
       "      <td>0.973032</td>\n",
       "      <td>0.044373</td>\n",
       "    </tr>\n",
       "  </tbody>\n",
       "</table>\n",
       "<p>600 rows × 19 columns</p>\n",
       "</div>"
      ],
      "text/plain": [
       "                                           id_key  \\\n",
       "0    S2A_MSIL1C_20180105T103421_N0500_R108_T32TMT   \n",
       "1    S2B_MSIL1C_20180107T102359_N0500_R065_T32TPS   \n",
       "2    S2A_MSIL1C_20180115T103351_N0500_R108_T31TFN   \n",
       "3    S2B_MSIL1C_20180117T102339_N0500_R065_T32TMR   \n",
       "4    S2B_MSIL1C_20180202T104239_N0500_R008_T31TEM   \n",
       "..                                            ...   \n",
       "595  S2B_MSIL1C_20250119T105259_N0511_R051_T31UFP   \n",
       "596  S2C_MSIL1C_20250207T103241_N0511_R108_T32TNS   \n",
       "597  S2C_MSIL1C_20250217T103131_N0511_R108_T32TLR   \n",
       "598  S2C_MSIL1C_20250217T103131_N0511_R108_T31TGL   \n",
       "599  S2C_MSIL1C_20250221T101051_N0511_R022_T32TPT   \n",
       "\n",
       "                                                  Name  \\\n",
       "0    S2A_MSIL2A_20180105T103421_N0500_R108_T32TMT_2...   \n",
       "1    S2B_MSIL2A_20180107T102359_N0500_R065_T32TPS_2...   \n",
       "2    S2A_MSIL2A_20180115T103351_N0500_R108_T31TFN_2...   \n",
       "3    S2B_MSIL2A_20180117T102339_N0500_R065_T32TMR_2...   \n",
       "4    S2B_MSIL2A_20180202T104239_N0500_R008_T31TEM_2...   \n",
       "..                                                 ...   \n",
       "595  S2B_MSIL2A_20250119T105259_N0511_R051_T31UFP_2...   \n",
       "596  S2C_MSIL2A_20250207T103241_N0511_R108_T32TNS_2...   \n",
       "597  S2C_MSIL2A_20250217T103131_N0511_R108_T32TLR_2...   \n",
       "598  S2C_MSIL2A_20250217T103131_N0511_R108_T31TGL_2...   \n",
       "599  S2C_MSIL2A_20250221T101051_N0511_R022_T32TPT_2...   \n",
       "\n",
       "                                                S3Path  \\\n",
       "0    /eodata/Sentinel-2/MSI/L2A_N0500/2018/01/05/S2...   \n",
       "1    /eodata/Sentinel-2/MSI/L2A_N0500/2018/01/07/S2...   \n",
       "2    /eodata/Sentinel-2/MSI/L2A_N0500/2018/01/15/S2...   \n",
       "3    /eodata/Sentinel-2/MSI/L2A_N0500/2018/01/17/S2...   \n",
       "4    /eodata/Sentinel-2/MSI/L2A_N0500/2018/02/02/S2...   \n",
       "..                                                 ...   \n",
       "595  /eodata/Sentinel-2/MSI/L2A/2025/01/19/S2B_MSIL...   \n",
       "596  /eodata/Sentinel-2/MSI/L2A/2025/02/07/S2C_MSIL...   \n",
       "597  /eodata/Sentinel-2/MSI/L2A/2025/02/17/S2C_MSIL...   \n",
       "598  /eodata/Sentinel-2/MSI/L2A/2025/02/17/S2C_MSIL...   \n",
       "599  /eodata/Sentinel-2/MSI/L2A/2025/02/21/S2C_MSIL...   \n",
       "\n",
       "                                             Footprint  \\\n",
       "0    geography'SRID=4326;POLYGON ((7.66286529044567...   \n",
       "1    geography'SRID=4326;POLYGON ((11.7513728834118...   \n",
       "2    geography'SRID=4326;POLYGON ((5.23834509422263...   \n",
       "3    geography'SRID=4326;POLYGON ((7.70695108472353...   \n",
       "4    geography'SRID=4326;POLYGON ((2.99973715756221...   \n",
       "..                                                 ...   \n",
       "595  geography'SRID=4326;POLYGON ((5.06033064622684...   \n",
       "596  geography'SRID=4326;POLYGON ((9.26486087946751...   \n",
       "597  geography'SRID=4326;POLYGON ((6.41593487960282...   \n",
       "598  geography'SRID=4326;POLYGON ((5.58354883959713...   \n",
       "599  geography'SRID=4326;POLYGON ((10.3145887512116...   \n",
       "\n",
       "                                          GeoFootprint  cloud_cover  \\\n",
       "0    {'type': 'Polygon', 'coordinates': [[[7.662865...    76.968253   \n",
       "1    {'type': 'Polygon', 'coordinates': [[[11.75137...    96.654195   \n",
       "2    {'type': 'Polygon', 'coordinates': [[[5.238345...    98.961890   \n",
       "3    {'type': 'Polygon', 'coordinates': [[[7.706951...    93.384999   \n",
       "4    {'type': 'Polygon', 'coordinates': [[[2.999737...    90.962285   \n",
       "..                                                 ...          ...   \n",
       "595  {'type': 'Polygon', 'coordinates': [[[5.060330...    50.362939   \n",
       "596  {'type': 'Polygon', 'coordinates': [[[9.264860...    26.737735   \n",
       "597  {'type': 'Polygon', 'coordinates': [[[6.415934...    29.505533   \n",
       "598  {'type': 'Polygon', 'coordinates': [[[5.583548...    10.681689   \n",
       "599  {'type': 'Polygon', 'coordinates': [[[10.31458...    50.885719   \n",
       "\n",
       "                                                  path   psnr_B02  rmse_B02  \\\n",
       "0    /mnt/disk/dataset/sentinel-ai-processor/V2/tes...  38.308105  0.012151   \n",
       "1    /mnt/disk/dataset/sentinel-ai-processor/V2/tes...  38.141037  0.012386   \n",
       "2    /mnt/disk/dataset/sentinel-ai-processor/V2/tes...  43.686913  0.006541   \n",
       "3    /mnt/disk/dataset/sentinel-ai-processor/V2/tes...  40.168114  0.009808   \n",
       "4    /mnt/disk/dataset/sentinel-ai-processor/V2/tes...  37.996475  0.012594   \n",
       "..                                                 ...        ...       ...   \n",
       "595  /mnt/disk/dataset/sentinel-ai-processor/V2/tes...  42.909599  0.007154   \n",
       "596  /mnt/disk/dataset/sentinel-ai-processor/V2/tes...  45.396904  0.005372   \n",
       "597  /mnt/disk/dataset/sentinel-ai-processor/V2/tes...  35.514107  0.016761   \n",
       "598  /mnt/disk/dataset/sentinel-ai-processor/V2/tes...  36.976448  0.014164   \n",
       "599  /mnt/disk/dataset/sentinel-ai-processor/V2/tes...  36.381416  0.015168   \n",
       "\n",
       "     ssim_B02   sam_B02   psnr_B03  rmse_B03  ssim_B03   sam_B03   psnr_B04  \\\n",
       "0    0.983581  0.022594  39.762657  0.010277  0.989305  0.022280  39.352959   \n",
       "1    0.983544  0.019918  39.104885  0.011086  0.985350  0.021304  39.287827   \n",
       "2    0.984384  0.020615  42.789623  0.007253  0.987201  0.026535  43.569592   \n",
       "3    0.990986  0.013434  40.254948  0.009711  0.993240  0.016727  39.912487   \n",
       "4    0.992054  0.016562  39.010048  0.011207  0.993258  0.017432  38.668713   \n",
       "..        ...       ...        ...       ...       ...       ...        ...   \n",
       "595  0.983501  0.016158  41.455391  0.008457  0.984265  0.020118  41.585613   \n",
       "596  0.987160  0.037720  44.089966  0.006245  0.987711  0.047804  45.985001   \n",
       "597  0.986587  0.032232  36.734177  0.014564  0.988490  0.032874  36.824474   \n",
       "598  0.980870  0.038249  37.602180  0.013179  0.984010  0.039182  37.510612   \n",
       "599  0.971409  0.045579  36.872471  0.014334  0.974769  0.047315  37.375504   \n",
       "\n",
       "     rmse_B04  ssim_B04   sam_B04  \n",
       "0    0.010773  0.986782  0.022681  \n",
       "1    0.010854  0.984351  0.020301  \n",
       "2    0.006630  0.968349  0.022939  \n",
       "3    0.010101  0.990286  0.016787  \n",
       "4    0.011656  0.992496  0.017871  \n",
       "..        ...       ...       ...  \n",
       "595  0.008331  0.967858  0.018927  \n",
       "596  0.005021  0.965073  0.038346  \n",
       "597  0.014414  0.988020  0.032383  \n",
       "598  0.013319  0.980027  0.039645  \n",
       "599  0.013528  0.973032  0.044373  \n",
       "\n",
       "[600 rows x 19 columns]"
      ]
     },
     "execution_count": 116,
     "metadata": {},
     "output_type": "execute_result"
    }
   ],
   "source": [
    "df_test_output"
   ]
  },
  {
   "cell_type": "markdown",
   "id": "c6a206ab",
   "metadata": {},
   "source": [
    "## Visualize Random Inference data "
   ]
  },
  {
   "cell_type": "markdown",
   "id": "d378f219",
   "metadata": {},
   "source": [
    "## Plot SAM vs Cloud Coverage "
   ]
  },
  {
   "cell_type": "code",
   "execution_count": 117,
   "id": "b0a6035f",
   "metadata": {},
   "outputs": [
    {
     "data": {
      "image/png": "[encoded data removed]",
      "text/plain": [
       "<Figure size 1800x600 with 6 Axes>"
      ]
     },
     "metadata": {},
     "output_type": "display_data"
    }
   ],
   "source": [
    "import matplotlib.pyplot as plt\n",
    "import seaborn as sns\n",
    "import numpy as np\n",
    "from matplotlib import cm\n",
    "\n",
    "# Set seaborn style\n",
    "sns.set(style=\"whitegrid\")\n",
    "\n",
    "# Example bands\n",
    "bands = [\"B02\", \"B03\", \"B04\"]\n",
    "\n",
    "# Set up the figure (1 row x 3 columns)\n",
    "fig, axs = plt.subplots(1, 3, figsize=(18, 6))\n",
    "\n",
    "# Define the colormap\n",
    "cmap = cm.plasma\n",
    "\n",
    "for i, band in enumerate(bands):\n",
    "    ax = axs[i]  # Single row, 3 columns\n",
    "    \n",
    "    # Scatter plot for SAM with plasma colormap\n",
    "    scatter = ax.scatter(\n",
    "        data=df_test_output,\n",
    "        x='cloud_cover',\n",
    "        y=f'sam_{band}',\n",
    "        c=df_test_output['cloud_cover'],  # Color by cloud_cover\n",
    "        cmap=cmap  # Apply the plasma colormap\n",
    "    )\n",
    "    \n",
    "    # Set title and labels\n",
    "    ax.set_title(f\"{band}\", fontsize=14)\n",
    "    ax.set_xlabel(\"Cloud Cover (%)\", fontsize=12)\n",
    "    ax.set_ylabel(\"SAM\", fontsize=12)\n",
    "    \n",
    "    # Add colorbar\n",
    "    plt.colorbar(scatter, ax=ax, label=\"Cloud Cover (%)\")\n",
    "\n",
    "plt.tight_layout()\n",
    "plt.show()\n"
   ]
  },
  {
   "cell_type": "markdown",
   "id": "503c2b42",
   "metadata": {},
   "source": [
    "## Plot SAM vs % Valid Pixel"
   ]
  },
  {
   "cell_type": "code",
   "execution_count": 118,
   "id": "deaff353",
   "metadata": {},
   "outputs": [
    {
     "data": {
      "image/png": "[encoded data removed]",
      "text/plain": [
       "<Figure size 1800x600 with 6 Axes>"
      ]
     },
     "metadata": {},
     "output_type": "display_data"
    }
   ],
   "source": [
    "import matplotlib.pyplot as plt\n",
    "import seaborn as sns\n",
    "import numpy as np\n",
    "from matplotlib import cm\n",
    "\n",
    "# Set seaborn style\n",
    "sns.set(style=\"whitegrid\")\n",
    "\n",
    "# Example bands\n",
    "bands = [\"B02\", \"B03\", \"B04\"]\n",
    "\n",
    "# Set up the figure (1 row x 3 columns)\n",
    "fig, axs = plt.subplots(1, 3, figsize=(18, 6))\n",
    "\n",
    "# Define the colormap\n",
    "cmap = cm.plasma\n",
    "\n",
    "for i, band in enumerate(bands):\n",
    "    ax = axs[i]  # Single row, 3 columns\n",
    "    \n",
    "    # Scatter plot for SAM with plasma colormap\n",
    "    scatter = ax.scatter(\n",
    "        data=df_test_output,\n",
    "        x='cloud_cover',\n",
    "        y=f'ssim_{band}',\n",
    "        c=df_test_output['cloud_cover'],  # Color by cloud_cover\n",
    "        cmap=cmap  # Apply the plasma colormap\n",
    "    )\n",
    "    \n",
    "    # Set title and labels\n",
    "    ax.set_title(f\"{band}\", fontsize=14)\n",
    "    ax.set_xlabel(\"Cloud Cover (%)\", fontsize=12)\n",
    "    ax.set_ylabel(\"SSIM\", fontsize=12)\n",
    "    \n",
    "    # Add colorbar\n",
    "    plt.colorbar(scatter, ax=ax, label=\"Cloud Cover (%)\")\n",
    "\n",
    "plt.tight_layout()\n",
    "plt.show()"
   ]
  },
  {
   "cell_type": "markdown",
   "id": "3ea4e920",
   "metadata": {},
   "source": [
    "## Identification of max SAM and PSNR with product investigation"
   ]
  },
  {
   "cell_type": "markdown",
   "id": "977fa6f7",
   "metadata": {},
   "source": []
  }
 ],
 "metadata": {
  "kernelspec": {
   "display_name": "ai_processor",
   "language": "python",
   "name": "python3"
  },
  "language_info": {
   "codemirror_mode": {
    "name": "ipython",
    "version": 3
   },
   "file_extension": ".py",
   "mimetype": "text/x-python",
   "name": "python",
   "nbconvert_exporter": "python",
   "pygments_lexer": "ipython3",
   "version": "3.12.2"
  }
 },
 "nbformat": 4,
 "nbformat_minor": 5
}
